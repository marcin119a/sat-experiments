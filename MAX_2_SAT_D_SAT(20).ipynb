{
  "nbformat": 4,
  "nbformat_minor": 0,
  "metadata": {
    "colab": {
      "name": "MAX-2-SAT-D-SAT(20).ipynb",
      "provenance": [],
      "collapsed_sections": []
    },
    "kernelspec": {
      "name": "python3",
      "display_name": "Python 3"
    }
  },
  "cells": [
    {
      "cell_type": "code",
      "metadata": {
        "id": "yc_9X9U-BBQi",
        "colab_type": "code",
        "colab": {
          "base_uri": "https://localhost:8080/",
          "height": 160
        },
        "outputId": "a55699f4-6dc7-46bb-de69-f81b0c5eb508"
      },
      "source": [
        "!git clone https://@github.com/marcin119a/sat-experiments.git\n",
        "%cd sat-experiments"
      ],
      "execution_count": 1,
      "outputs": [
        {
          "output_type": "stream",
          "text": [
            "Cloning into 'sat-experiments'...\n",
            "remote: Enumerating objects: 94, done.\u001b[K\n",
            "remote: Counting objects: 100% (94/94), done.\u001b[K\n",
            "remote: Compressing objects: 100% (90/90), done.\u001b[K\n",
            "remote: Total 231 (delta 52), reused 0 (delta 0), pack-reused 137\u001b[K\n",
            "Receiving objects: 100% (231/231), 11.74 MiB | 17.12 MiB/s, done.\n",
            "Resolving deltas: 100% (102/102), done.\n",
            "/content/sat-experiments\n"
          ],
          "name": "stdout"
        }
      ]
    },
    {
      "cell_type": "markdown",
      "metadata": {
        "id": "VKrnyxN57yNp",
        "colab_type": "text"
      },
      "source": [
        "##### Kompilacja akmaxsat"
      ]
    },
    {
      "cell_type": "code",
      "metadata": {
        "id": "63NDAkqQRGpf",
        "colab_type": "code",
        "colab": {}
      },
      "source": [
        "%cd /content/sat-experiments/akmaxsat_1.1\n",
        "!make\n",
        "%cd /content/sat-experiments"
      ],
      "execution_count": 6,
      "outputs": []
    },
    {
      "cell_type": "code",
      "metadata": {
        "id": "LuLf0KSLBFlZ",
        "colab_type": "code",
        "colab": {}
      },
      "source": [
        "%%capture\n",
        "!pip install -r requirements.txt"
      ],
      "execution_count": 3,
      "outputs": []
    },
    {
      "cell_type": "markdown",
      "metadata": {
        "id": "IxyCzGre-EAq",
        "colab_type": "text"
      },
      "source": [
        "### Pobranie projektu generujacego zbiór danych "
      ]
    },
    {
      "cell_type": "code",
      "metadata": {
        "id": "-hUheLDtBHI3",
        "colab_type": "code",
        "colab": {
          "base_uri": "https://localhost:8080/",
          "height": 142
        },
        "outputId": "7a796be2-9f2b-4d78-e966-0ca0186dc65d"
      },
      "source": [
        "!git clone https://github.com/satproject/neuralheuristicsforsat.git"
      ],
      "execution_count": 14,
      "outputs": [
        {
          "output_type": "stream",
          "text": [
            "Cloning into 'neuralheuristicsforsat'...\n",
            "remote: Enumerating objects: 51, done.\u001b[K\n",
            "remote: Counting objects:   1% (1/51)\u001b[K\rremote: Counting objects:   3% (2/51)\u001b[K\rremote: Counting objects:   5% (3/51)\u001b[K\rremote: Counting objects:   7% (4/51)\u001b[K\rremote: Counting objects:   9% (5/51)\u001b[K\rremote: Counting objects:  11% (6/51)\u001b[K\rremote: Counting objects:  13% (7/51)\u001b[K\rremote: Counting objects:  15% (8/51)\u001b[K\rremote: Counting objects:  17% (9/51)\u001b[K\rremote: Counting objects:  19% (10/51)\u001b[K\rremote: Counting objects:  21% (11/51)\u001b[K\rremote: Counting objects:  23% (12/51)\u001b[K\rremote: Counting objects:  25% (13/51)\u001b[K\rremote: Counting objects:  27% (14/51)\u001b[K\rremote: Counting objects:  29% (15/51)\u001b[K\rremote: Counting objects:  31% (16/51)\u001b[K\rremote: Counting objects:  33% (17/51)\u001b[K\rremote: Counting objects:  35% (18/51)\u001b[K\rremote: Counting objects:  37% (19/51)\u001b[K\rremote: Counting objects:  39% (20/51)\u001b[K\rremote: Counting objects:  41% (21/51)\u001b[K\rremote: Counting objects:  43% (22/51)\u001b[K\rremote: Counting objects:  45% (23/51)\u001b[K\rremote: Counting objects:  47% (24/51)\u001b[K\rremote: Counting objects:  49% (25/51)\u001b[K\rremote: Counting objects:  50% (26/51)\u001b[K\rremote: Counting objects:  52% (27/51)\u001b[K\rremote: Counting objects:  54% (28/51)\u001b[K\rremote: Counting objects:  56% (29/51)\u001b[K\rremote: Counting objects:  58% (30/51)\u001b[K\rremote: Counting objects:  60% (31/51)\u001b[K\rremote: Counting objects:  62% (32/51)\u001b[K\rremote: Counting objects:  64% (33/51)\u001b[K\rremote: Counting objects:  66% (34/51)\u001b[K\rremote: Counting objects:  68% (35/51)\u001b[K\rremote: Counting objects:  70% (36/51)\u001b[K\rremote: Counting objects:  72% (37/51)\u001b[K\rremote: Counting objects:  74% (38/51)\u001b[K\rremote: Counting objects:  76% (39/51)\u001b[K\rremote: Counting objects:  78% (40/51)\u001b[K\rremote: Counting objects:  80% (41/51)\u001b[K\rremote: Counting objects:  82% (42/51)\u001b[K\rremote: Counting objects:  84% (43/51)\u001b[K\rremote: Counting objects:  86% (44/51)\u001b[K\rremote: Counting objects:  88% (45/51)\u001b[K\rremote: Counting objects:  90% (46/51)\u001b[K\rremote: Counting objects:  92% (47/51)\u001b[K\rremote: Counting objects:  94% (48/51)\u001b[K\rremote: Counting objects:  96% (49/51)\u001b[K\rremote: Counting objects:  98% (50/51)\u001b[K\rremote: Counting objects: 100% (51/51)\u001b[K\rremote: Counting objects: 100% (51/51), done.\u001b[K\n",
            "remote: Compressing objects:   2% (1/48)\u001b[K\rremote: Compressing objects:   4% (2/48)\u001b[K\rremote: Compressing objects:   6% (3/48)\u001b[K\rremote: Compressing objects:   8% (4/48)\u001b[K\rremote: Compressing objects:  10% (5/48)\u001b[K\rremote: Compressing objects:  12% (6/48)\u001b[K\rremote: Compressing objects:  14% (7/48)\u001b[K\rremote: Compressing objects:  16% (8/48)\u001b[K\rremote: Compressing objects:  18% (9/48)\u001b[K\rremote: Compressing objects:  20% (10/48)\u001b[K\rremote: Compressing objects:  22% (11/48)\u001b[K\rremote: Compressing objects:  25% (12/48)\u001b[K\rremote: Compressing objects:  27% (13/48)\u001b[K\rremote: Compressing objects:  29% (14/48)\u001b[K\rremote: Compressing objects:  31% (15/48)\u001b[K\rremote: Compressing objects:  33% (16/48)\u001b[K\rremote: Compressing objects:  35% (17/48)\u001b[K\rremote: Compressing objects:  37% (18/48)\u001b[K\rremote: Compressing objects:  39% (19/48)\u001b[K\rremote: Compressing objects:  41% (20/48)\u001b[K\rremote: Compressing objects:  43% (21/48)\u001b[K\rremote: Compressing objects:  45% (22/48)\u001b[K\rremote: Compressing objects:  47% (23/48)\u001b[K\rremote: Compressing objects:  50% (24/48)\u001b[K\rremote: Compressing objects:  52% (25/48)\u001b[K\rremote: Compressing objects:  54% (26/48)\u001b[K\rremote: Compressing objects:  56% (27/48)\u001b[K\rremote: Compressing objects:  58% (28/48)\u001b[K\rremote: Compressing objects:  60% (29/48)\u001b[K\rremote: Compressing objects:  62% (30/48)\u001b[K\rremote: Compressing objects:  64% (31/48)\u001b[K\rremote: Compressing objects:  66% (32/48)\u001b[K\rremote: Compressing objects:  68% (33/48)\u001b[K\rremote: Compressing objects:  70% (34/48)\u001b[K\rremote: Compressing objects:  72% (35/48)\u001b[K\rremote: Compressing objects:  75% (36/48)\u001b[K\rremote: Compressing objects:  77% (37/48)\u001b[K\rremote: Compressing objects:  79% (38/48)\u001b[K\rremote: Compressing objects:  81% (39/48)\u001b[K\rremote: Compressing objects:  83% (40/48)\u001b[K\rremote: Compressing objects:  85% (41/48)\u001b[K\rremote: Compressing objects:  87% (42/48)\u001b[K\rremote: Compressing objects:  89% (43/48)\u001b[K\rremote: Compressing objects:  91% (44/48)\u001b[K\rremote: Compressing objects:  93% (45/48)\u001b[K\rremote: Compressing objects:  95% (46/48)\u001b[K\rremote: Compressing objects:  97% (47/48)\u001b[K\rremote: Compressing objects: 100% (48/48)\u001b[K\rremote: Compressing objects: 100% (48/48), done.\u001b[K\n",
            "remote: Total 76 (delta 23), reused 6 (delta 1), pack-reused 25\u001b[K\n",
            "Unpacking objects: 100% (76/76), done.\n",
            "/content/sat-experiments\n"
          ],
          "name": "stdout"
        }
      ]
    },
    {
      "cell_type": "markdown",
      "metadata": {
        "id": "kyXoqYjf97nQ",
        "colab_type": "text"
      },
      "source": [
        "### postawowe parametry symulatora SIMCim"
      ]
    },
    {
      "cell_type": "code",
      "metadata": {
        "id": "2RD8fsTmBs_u",
        "colab_type": "code",
        "colab": {}
      },
      "source": [
        "hyperparameters = {\n",
        "    #'class_weight': hp.choice('class_weight', [None, 'balanced']), @TODO\n",
        "    'N': 400,\n",
        "    'sigma': 0.2,\n",
        "    'dt': 0.3,\n",
        "    'zeta': 1,\n",
        "    'attempt_num': 1000,\n",
        "    'alpha': 0.2,\n",
        "    'complexity': 50,\n",
        "    'seed': 1000,\n",
        "    'observations': 1000 #batch_size\n",
        "}"
      ],
      "execution_count": 9,
      "outputs": []
    },
    {
      "cell_type": "markdown",
      "metadata": {
        "id": "Xonx8y_2-QW1",
        "colab_type": "text"
      },
      "source": [
        "### Wygenerowanie zbioru danych D-SAT(20)"
      ]
    },
    {
      "cell_type": "code",
      "metadata": {
        "id": "lkyRJTYUR6Vc",
        "colab_type": "code",
        "colab": {}
      },
      "source": [
        "%%capture\n",
        "!python /content/sat-experiments/neuralheuristicsforsat/dump_dataset_2sat.py -o 10000 -c 20 -j 10000"
      ],
      "execution_count": 7,
      "outputs": []
    },
    {
      "cell_type": "markdown",
      "metadata": {
        "id": "bBc_53fOBC4H",
        "colab_type": "text"
      },
      "source": [
        "### Uruchomienie algorytmów akmaxsat SimCim i brute-force dla D-SAT(20)"
      ]
    },
    {
      "cell_type": "code",
      "metadata": {
        "id": "lkavtNihWo5J",
        "colab_type": "code",
        "colab": {}
      },
      "source": [
        "import os\n",
        "import tensorflow as tf\n",
        "import itertools\n",
        "from neuralheuristicsforsat.helpers import chunkIt, save_to_csv\n",
        " \n",
        "from maxsat import (\n",
        "    akmaxsat_format_to_list, akmaxsat_run, function_from_akmaxsat, brute_force_2_max_sat, dump, transform\n",
        ")\n",
        "import time\n",
        "from SIMCIM import SIMCim\n",
        "import csv\n",
        "\n",
        "params = hyperparameters\n",
        "n = 20 #ilosc zmiennych\n",
        "tfrecord_location = '/content/sat-experiments/sr_20/train_10000_sr_20.tfrecord' #sciezka do pliku D-SAT(50)\n",
        "\n",
        "record_iterator = tf.python_io.tf_record_iterator(path=tfrecord_location)\n",
        "preds = []\n",
        "batch_size = params['observations']\n",
        "\n",
        "\n",
        "from importlib import reload\n",
        "\n",
        "train_set = {'cnf': list(), 'sat': list()}\n",
        "sim_results = list()\n",
        "\n",
        "for string_record in itertools.islice(record_iterator, 100): # dla 100 formuł uruchamiamy eksperyment\n",
        "    example = tf.train.Example()\n",
        "    example.ParseFromString(string_record) # wczytujemy dataset D-(20)\n",
        "\n",
        "    m = len(example.features.feature[\"inputs\"].float_list.value) // 2 # ilosc klazul w formule 2CNF\n",
        "\n",
        "    inputs = chunkIt(example.features.feature[\"inputs\"].float_list.value, m) # fCNFormuly w postaci \n",
        "    train_set['cnf'].append(inputs)\n",
        "    targ = int(example.features.feature[\"sat\"].float_list.value[0])\n",
        "    train_set['sat'].append(targ)\n",
        "\n",
        "    start = time.time()\n",
        "    cnf = transform(inputs)\n",
        "    dump(inputs, n, m, round(start,2)) #zapisanie do pliku dla algorytmu akmaxsat\n",
        "\n",
        "    s = '/content/sat-experiments/out/{0}.txt'.format(round(start,2)) # nazwa pliku wejscia dla algorytmu akmaxsat\n",
        "    output = akmaxsat_run('/content/sat-experiments/akmaxsat_1.1/akmaxsat',s) # uruchomienie algorytmu akmaxsat dla tego pliku\n",
        "\n",
        "      \n",
        "    literals = set()\n",
        "    for conj in cnf:\n",
        "            for disj in conj:\n",
        "                literals.add(disj[0])\n",
        "    check_cnf = [bool(disj.intersection(output)) for disj in cnf] #sprawdzenie ile klauzul zostało spełnionych\n",
        "    MAX_akmaxsat = check_cnf.count(True)\n",
        "    if targ == 0: \n",
        "      vars, max_2sat = brute_force_2_max_sat(cnf) # uruchomienie algorytmu bruteforce tylko dla formuł które są UNSAT=0\n",
        "    else:\n",
        "      max_2sat = m \n",
        "    \n",
        "    sim_result = SIMCim(params, n, m, inputs)  # predykcja symulatora SIMCim\n",
        "\n",
        "    end = time.time()\n",
        "    # zapisanie wyników do pliku csv\n",
        "    save_to_csv('max_sat_100.csv', [[m, m / n, m + sim_result, MAX_akmaxsat, max_2sat , targ, end - start]], n)"
      ],
      "execution_count": 19,
      "outputs": []
    }
  ]
}
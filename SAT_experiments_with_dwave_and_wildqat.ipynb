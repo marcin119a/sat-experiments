{
  "nbformat": 4,
  "nbformat_minor": 0,
  "metadata": {
    "colab": {
      "name": "SAT experiments with dwave and wildqat.ipynb",
      "provenance": [],
      "collapsed_sections": [],
      "toc_visible": true
    },
    "kernelspec": {
      "name": "python3",
      "display_name": "Python 3"
    }
  },
  "cells": [
    {
      "cell_type": "markdown",
      "metadata": {
        "id": "tfHw1Qp7HLQQ",
        "colab_type": "text"
      },
      "source": [
        "### Install requirements packages "
      ]
    },
    {
      "cell_type": "code",
      "metadata": {
        "id": "kn45GiIIpsxx",
        "colab_type": "code",
        "colab": {
          "base_uri": "https://localhost:8080/",
          "height": 35
        },
        "outputId": "ab8b7b24-9b37-4764-efa7-183bcf287273"
      },
      "source": [
        "%cd neuralheuristicsforsat/"
      ],
      "execution_count": null,
      "outputs": [
        {
          "output_type": "stream",
          "text": [
            "/content/neuralheuristicsforsat\n"
          ],
          "name": "stdout"
        }
      ]
    },
    {
      "cell_type": "code",
      "metadata": {
        "id": "UV0e2-fRkW46",
        "colab_type": "code",
        "colab": {
          "base_uri": "https://localhost:8080/",
          "height": 305
        },
        "outputId": "db066efa-5281-4056-d1a0-0b15a6a9ab14"
      },
      "source": [
        "!python dump_dataset_2sat.py -o 16 -c 16 -j 21021"
      ],
      "execution_count": null,
      "outputs": [
        {
          "output_type": "stream",
          "text": [
            "/usr/local/lib/python3.6/dist-packages/tensorflow/python/framework/dtypes.py:523: FutureWarning: Passing (type, 1) or '1type' as a synonym of type is deprecated; in a future version of numpy, it will be understood as (type, (1,)) / '(1,)type'.\n",
            "  _np_qint8 = np.dtype([(\"qint8\", np.int8, 1)])\n",
            "/usr/local/lib/python3.6/dist-packages/tensorflow/python/framework/dtypes.py:524: FutureWarning: Passing (type, 1) or '1type' as a synonym of type is deprecated; in a future version of numpy, it will be understood as (type, (1,)) / '(1,)type'.\n",
            "  _np_quint8 = np.dtype([(\"quint8\", np.uint8, 1)])\n",
            "/usr/local/lib/python3.6/dist-packages/tensorflow/python/framework/dtypes.py:525: FutureWarning: Passing (type, 1) or '1type' as a synonym of type is deprecated; in a future version of numpy, it will be understood as (type, (1,)) / '(1,)type'.\n",
            "  _np_qint16 = np.dtype([(\"qint16\", np.int16, 1)])\n",
            "/usr/local/lib/python3.6/dist-packages/tensorflow/python/framework/dtypes.py:526: FutureWarning: Passing (type, 1) or '1type' as a synonym of type is deprecated; in a future version of numpy, it will be understood as (type, (1,)) / '(1,)type'.\n",
            "  _np_quint16 = np.dtype([(\"quint16\", np.uint16, 1)])\n",
            "/usr/local/lib/python3.6/dist-packages/tensorflow/python/framework/dtypes.py:527: FutureWarning: Passing (type, 1) or '1type' as a synonym of type is deprecated; in a future version of numpy, it will be understood as (type, (1,)) / '(1,)type'.\n",
            "  _np_qint32 = np.dtype([(\"qint32\", np.int32, 1)])\n",
            "/usr/local/lib/python3.6/dist-packages/tensorflow/python/framework/dtypes.py:532: FutureWarning: Passing (type, 1) or '1type' as a synonym of type is deprecated; in a future version of numpy, it will be understood as (type, (1,)) / '(1,)type'.\n",
            "  np_resource = np.dtype([(\"resource\", np.ubyte, 1)])\n",
            "Set random seed to 21021\n",
            "Created directory sr_16\n",
            "100% 16/16 [00:00<00:00, 168.15it/s]\n"
          ],
          "name": "stdout"
        }
      ]
    },
    {
      "cell_type": "code",
      "metadata": {
        "id": "05lnc25ficTm",
        "colab_type": "code",
        "colab": {
          "base_uri": "https://localhost:8080/",
          "height": 1000
        },
        "outputId": "0af84eeb-ad7a-4260-bc28-eee49b589fbf"
      },
      "source": [
        "!pip install dwave-system\n",
        "!pip install pycosat\n",
        "!pip install wildqat\n",
        "!pip install dwave-cloud-client"
      ],
      "execution_count": null,
      "outputs": [
        {
          "output_type": "stream",
          "text": [
            "Collecting dwave-system\n",
            "\u001b[?25l  Downloading https://files.pythonhosted.org/packages/55/de/4164c1226475fe12044d1ee9bc5f67a0a1eb6f6273e574f972b46e80f423/dwave_system-0.9.6-py3-none-any.whl (87kB)\n",
            "\r\u001b[K     |███▊                            | 10kB 13.6MB/s eta 0:00:01\r\u001b[K     |███████▌                        | 20kB 1.5MB/s eta 0:00:01\r\u001b[K     |███████████▏                    | 30kB 2.1MB/s eta 0:00:01\r\u001b[K     |███████████████                 | 40kB 1.6MB/s eta 0:00:01\r\u001b[K     |██████████████████▋             | 51kB 1.9MB/s eta 0:00:01\r\u001b[K     |██████████████████████▍         | 61kB 2.2MB/s eta 0:00:01\r\u001b[K     |██████████████████████████      | 71kB 2.3MB/s eta 0:00:01\r\u001b[K     |█████████████████████████████▉  | 81kB 2.6MB/s eta 0:00:01\r\u001b[K     |████████████████████████████████| 92kB 2.3MB/s \n",
            "\u001b[?25hRequirement already satisfied: six<2.0.0,>=1.11.0 in /usr/local/lib/python3.6/dist-packages (from dwave-system) (1.12.0)\n",
            "Collecting dimod<0.10.0,>=0.9.0\n",
            "\u001b[?25l  Downloading https://files.pythonhosted.org/packages/eb/e3/7bedf1f530ced9969c2aebed8e32003fe78a92eac51d6e51d7b66a755b03/dimod-0.9.3-cp36-cp36m-manylinux1_x86_64.whl (4.7MB)\n",
            "\u001b[K     |████████████████████████████████| 4.7MB 9.0MB/s \n",
            "\u001b[?25hCollecting dwave-networkx>=0.8.4\n",
            "\u001b[?25l  Downloading https://files.pythonhosted.org/packages/bf/87/9841ea5c76d1916259eb4286d92cdeb039b1bb09ce768ab74ba4d78681ec/dwave_networkx-0.8.6-py2.py3-none-any.whl (81kB)\n",
            "\u001b[K     |████████████████████████████████| 81kB 8.9MB/s \n",
            "\u001b[?25hCollecting dwave-tabu>=0.2.0\n",
            "\u001b[?25l  Downloading https://files.pythonhosted.org/packages/f1/b0/bd1bee98246423e9b39bcc71397f82c6d66def17e67d0878e3a0b7c06f59/dwave_tabu-0.3.0-cp36-cp36m-manylinux1_x86_64.whl (788kB)\n",
            "\u001b[K     |████████████████████████████████| 798kB 48.8MB/s \n",
            "\u001b[?25hCollecting homebase<2.0.0,>=1.0.0\n",
            "  Downloading https://files.pythonhosted.org/packages/50/ad/e0080c35bd177682d5118a95bc2e7c1ac0541394b4ffce5e9554b6a077f9/homebase-1.0.1-py2.py3-none-any.whl\n",
            "Collecting minorminer<0.2.0,>=0.1.3\n",
            "\u001b[?25l  Downloading https://files.pythonhosted.org/packages/ea/4b/339ce1e98a45cf99be04e83771742f5eb5ec7b50ab28a4e10a40ec0a4b71/minorminer-0.1.9-cp36-cp36m-manylinux1_x86_64.whl (2.3MB)\n",
            "\u001b[K     |████████████████████████████████| 2.3MB 39.4MB/s \n",
            "\u001b[?25hRequirement already satisfied: networkx<3.0,>=2.0 in /usr/local/lib/python3.6/dist-packages (from dwave-system) (2.4)\n",
            "Collecting dwave-cloud-client<0.8.0,>=0.7.2\n",
            "\u001b[?25l  Downloading https://files.pythonhosted.org/packages/e4/97/24f2e799e52e748c2a857e7eaa632e06e2cac5ad4d2d2b36f1f8c02638e4/dwave_cloud_client-0.7.2-py2.py3-none-any.whl (83kB)\n",
            "\u001b[K     |████████████████████████████████| 92kB 10.6MB/s \n",
            "\u001b[?25hRequirement already satisfied: numpy<2.0.0,>=1.14.0 in /usr/local/lib/python3.6/dist-packages (from dwave-system) (1.18.5)\n",
            "Requirement already satisfied: decorator<5.0.0,>=4.1.0 in /usr/local/lib/python3.6/dist-packages (from dwave-networkx>=0.8.4->dwave-system) (4.4.2)\n",
            "Requirement already satisfied: requests[socks]>=2.18 in /usr/local/lib/python3.6/dist-packages (from dwave-cloud-client<0.8.0,>=0.7.2->dwave-system) (2.23.0)\n",
            "Requirement already satisfied: click>=7.0 in /usr/local/lib/python3.6/dist-packages (from dwave-cloud-client<0.8.0,>=0.7.2->dwave-system) (7.1.2)\n",
            "Collecting plucky>=0.4.3\n",
            "  Downloading https://files.pythonhosted.org/packages/d8/70/7b43e7280284bafecb345f4edb3eea7042cf0d089c5d112920eda650fda5/plucky-0.4.3-py2.py3-none-any.whl\n",
            "Requirement already satisfied: python-dateutil>=2.7 in /usr/local/lib/python3.6/dist-packages (from dwave-cloud-client<0.8.0,>=0.7.2->dwave-system) (2.8.1)\n",
            "Requirement already satisfied: urllib3!=1.25.0,!=1.25.1,<1.26,>=1.21.1 in /usr/local/lib/python3.6/dist-packages (from requests[socks]>=2.18->dwave-cloud-client<0.8.0,>=0.7.2->dwave-system) (1.24.3)\n",
            "Requirement already satisfied: chardet<4,>=3.0.2 in /usr/local/lib/python3.6/dist-packages (from requests[socks]>=2.18->dwave-cloud-client<0.8.0,>=0.7.2->dwave-system) (3.0.4)\n",
            "Requirement already satisfied: certifi>=2017.4.17 in /usr/local/lib/python3.6/dist-packages (from requests[socks]>=2.18->dwave-cloud-client<0.8.0,>=0.7.2->dwave-system) (2020.4.5.2)\n",
            "Requirement already satisfied: idna<3,>=2.5 in /usr/local/lib/python3.6/dist-packages (from requests[socks]>=2.18->dwave-cloud-client<0.8.0,>=0.7.2->dwave-system) (2.9)\n",
            "Requirement already satisfied: PySocks!=1.5.7,>=1.5.6; extra == \"socks\" in /usr/local/lib/python3.6/dist-packages (from requests[socks]>=2.18->dwave-cloud-client<0.8.0,>=0.7.2->dwave-system) (1.7.1)\n",
            "Installing collected packages: dimod, dwave-networkx, dwave-tabu, homebase, minorminer, plucky, dwave-cloud-client, dwave-system\n",
            "Successfully installed dimod-0.9.3 dwave-cloud-client-0.7.2 dwave-networkx-0.8.6 dwave-system-0.9.6 dwave-tabu-0.3.0 homebase-1.0.1 minorminer-0.1.9 plucky-0.4.3\n",
            "Collecting pycosat\n",
            "\u001b[?25l  Downloading https://files.pythonhosted.org/packages/c0/fd/e38d68774c0a345b0090d608a90f1fbf423970d812f7ec7aef9ac024e648/pycosat-0.6.3.zip (66kB)\n",
            "\u001b[K     |████████████████████████████████| 71kB 1.9MB/s \n",
            "\u001b[?25hBuilding wheels for collected packages: pycosat\n",
            "  Building wheel for pycosat (setup.py) ... \u001b[?25l\u001b[?25hdone\n",
            "  Created wheel for pycosat: filename=pycosat-0.6.3-cp36-cp36m-linux_x86_64.whl size=142831 sha256=1cc233273fa2b4335f7b58f26982e185cb7a1675369d925f6945e87d2b6f69da\n",
            "  Stored in directory: /root/.cache/pip/wheels/c4/67/ff/5570304e45814eccef48a3c69c3af25d0456ed3a34eddbbe38\n",
            "Successfully built pycosat\n",
            "Installing collected packages: pycosat\n",
            "Successfully installed pycosat-0.6.3\n",
            "Collecting wildqat\n",
            "  Downloading https://files.pythonhosted.org/packages/18/20/babcd0cabd564903f7dc5430a022bd5cf6cc9f440bdbb268318b9f261908/wildqat-1.1.9.tar.gz\n",
            "Collecting numpy==1.15.1\n",
            "\u001b[?25l  Downloading https://files.pythonhosted.org/packages/fe/94/7049fed8373c52839c8cde619acaf2c9b83082b935e5aa8c0fa27a4a8bcc/numpy-1.15.1-cp36-cp36m-manylinux1_x86_64.whl (13.9MB)\n",
            "\u001b[K     |████████████████████████████████| 13.9MB 196kB/s \n",
            "\u001b[?25hCollecting matplotlib==3.0.0\n",
            "\u001b[?25l  Downloading https://files.pythonhosted.org/packages/ed/89/dd823436a5f8d5ca9304b51b554863bfd366ca84708d5812f5ee87c923bc/matplotlib-3.0.0-cp36-cp36m-manylinux1_x86_64.whl (12.8MB)\n",
            "\u001b[K     |████████████████████████████████| 12.8MB 261kB/s \n",
            "\u001b[?25hCollecting networkx==2.2\n",
            "\u001b[?25l  Downloading https://files.pythonhosted.org/packages/f3/f4/7e20ef40b118478191cec0b58c3192f822cace858c19505c7670961b76b2/networkx-2.2.zip (1.7MB)\n",
            "\u001b[K     |████████████████████████████████| 1.7MB 46.0MB/s \n",
            "\u001b[?25hRequirement already satisfied: python-dateutil>=2.1 in /usr/local/lib/python3.6/dist-packages (from matplotlib==3.0.0->wildqat) (2.8.1)\n",
            "Requirement already satisfied: pyparsing!=2.0.4,!=2.1.2,!=2.1.6,>=2.0.1 in /usr/local/lib/python3.6/dist-packages (from matplotlib==3.0.0->wildqat) (2.4.7)\n",
            "Requirement already satisfied: kiwisolver>=1.0.1 in /usr/local/lib/python3.6/dist-packages (from matplotlib==3.0.0->wildqat) (1.2.0)\n",
            "Requirement already satisfied: cycler>=0.10 in /usr/local/lib/python3.6/dist-packages (from matplotlib==3.0.0->wildqat) (0.10.0)\n",
            "Requirement already satisfied: decorator>=4.3.0 in /usr/local/lib/python3.6/dist-packages (from networkx==2.2->wildqat) (4.4.2)\n",
            "Requirement already satisfied: six>=1.5 in /usr/local/lib/python3.6/dist-packages (from python-dateutil>=2.1->matplotlib==3.0.0->wildqat) (1.12.0)\n",
            "Building wheels for collected packages: wildqat, networkx\n",
            "  Building wheel for wildqat (setup.py) ... \u001b[?25l\u001b[?25hdone\n",
            "  Created wheel for wildqat: filename=wildqat-1.1.9-cp36-none-any.whl size=6318 sha256=2e0a9589727d257eab7596c59092953f43a0f94d5f1d9bc8b4072e055b81892d\n",
            "  Stored in directory: /root/.cache/pip/wheels/bc/b5/17/e68df34616a7719b1aa093d9aacdf006fe5a1640811e0ae942\n",
            "  Building wheel for networkx (setup.py) ... \u001b[?25l\u001b[?25hdone\n",
            "  Created wheel for networkx: filename=networkx-2.2-py2.py3-none-any.whl size=1527322 sha256=4cd98dd8029c66ab459ab6a5ed6dd40cc197869bcbb048b8a5590f1c17168a37\n",
            "  Stored in directory: /root/.cache/pip/wheels/68/f8/29/b53346a112a07d30a5a84d53f19aeadaa1a474897c0423af91\n",
            "Successfully built wildqat networkx\n",
            "\u001b[31mERROR: yellowbrick 0.9.1 has requirement matplotlib!=3.0.0,>=1.5.1, but you'll have matplotlib 3.0.0 which is incompatible.\u001b[0m\n",
            "\u001b[31mERROR: umap-learn 0.4.4 has requirement numpy>=1.17, but you'll have numpy 1.15.1 which is incompatible.\u001b[0m\n",
            "\u001b[31mERROR: tensorflow 2.2.0 has requirement numpy<2.0,>=1.16.0, but you'll have numpy 1.15.1 which is incompatible.\u001b[0m\n",
            "\u001b[31mERROR: scikit-image 0.16.2 has requirement matplotlib!=3.0.0,>=2.0.0, but you'll have matplotlib 3.0.0 which is incompatible.\u001b[0m\n",
            "\u001b[31mERROR: plotnine 0.6.0 has requirement matplotlib>=3.1.1, but you'll have matplotlib 3.0.0 which is incompatible.\u001b[0m\n",
            "\u001b[31mERROR: plotnine 0.6.0 has requirement numpy>=1.16.0, but you'll have numpy 1.15.1 which is incompatible.\u001b[0m\n",
            "\u001b[31mERROR: mizani 0.6.0 has requirement matplotlib>=3.1.1, but you'll have matplotlib 3.0.0 which is incompatible.\u001b[0m\n",
            "\u001b[31mERROR: dwave-tabu 0.3.0 has requirement numpy>=1.16, but you'll have numpy 1.15.1 which is incompatible.\u001b[0m\n",
            "\u001b[31mERROR: dimod 0.9.3 has requirement numpy<2.0.0,>=1.16.0, but you'll have numpy 1.15.1 which is incompatible.\u001b[0m\n",
            "\u001b[31mERROR: datascience 0.10.6 has requirement folium==0.2.1, but you'll have folium 0.8.3 which is incompatible.\u001b[0m\n",
            "\u001b[31mERROR: astropy 4.0.1.post1 has requirement numpy>=1.16, but you'll have numpy 1.15.1 which is incompatible.\u001b[0m\n",
            "\u001b[31mERROR: albumentations 0.1.12 has requirement imgaug<0.2.7,>=0.2.5, but you'll have imgaug 0.2.9 which is incompatible.\u001b[0m\n",
            "Installing collected packages: numpy, matplotlib, networkx, wildqat\n",
            "  Found existing installation: numpy 1.18.5\n",
            "    Uninstalling numpy-1.18.5:\n",
            "      Successfully uninstalled numpy-1.18.5\n",
            "  Found existing installation: matplotlib 3.2.2\n",
            "    Uninstalling matplotlib-3.2.2:\n",
            "      Successfully uninstalled matplotlib-3.2.2\n",
            "  Found existing installation: networkx 2.4\n",
            "    Uninstalling networkx-2.4:\n",
            "      Successfully uninstalled networkx-2.4\n",
            "Successfully installed matplotlib-3.0.0 networkx-2.2 numpy-1.15.1 wildqat-1.1.9\n"
          ],
          "name": "stdout"
        },
        {
          "output_type": "display_data",
          "data": {
            "application/vnd.colab-display-data+json": {
              "pip_warning": {
                "packages": [
                  "matplotlib",
                  "mpl_toolkits",
                  "numpy"
                ]
              }
            }
          },
          "metadata": {
            "tags": []
          }
        },
        {
          "output_type": "stream",
          "text": [
            "Requirement already satisfied: dwave-cloud-client in /usr/local/lib/python3.6/dist-packages (0.7.2)\n",
            "Requirement already satisfied: click>=7.0 in /usr/local/lib/python3.6/dist-packages (from dwave-cloud-client) (7.1.2)\n",
            "Requirement already satisfied: python-dateutil>=2.7 in /usr/local/lib/python3.6/dist-packages (from dwave-cloud-client) (2.8.1)\n",
            "Requirement already satisfied: plucky>=0.4.3 in /usr/local/lib/python3.6/dist-packages (from dwave-cloud-client) (0.4.3)\n",
            "Requirement already satisfied: requests[socks]>=2.18 in /usr/local/lib/python3.6/dist-packages (from dwave-cloud-client) (2.23.0)\n",
            "Requirement already satisfied: homebase>=1.0 in /usr/local/lib/python3.6/dist-packages (from dwave-cloud-client) (1.0.1)\n",
            "Requirement already satisfied: six>=1.10 in /usr/local/lib/python3.6/dist-packages (from dwave-cloud-client) (1.12.0)\n",
            "Requirement already satisfied: urllib3!=1.25.0,!=1.25.1,<1.26,>=1.21.1 in /usr/local/lib/python3.6/dist-packages (from requests[socks]>=2.18->dwave-cloud-client) (1.24.3)\n",
            "Requirement already satisfied: certifi>=2017.4.17 in /usr/local/lib/python3.6/dist-packages (from requests[socks]>=2.18->dwave-cloud-client) (2020.4.5.2)\n",
            "Requirement already satisfied: chardet<4,>=3.0.2 in /usr/local/lib/python3.6/dist-packages (from requests[socks]>=2.18->dwave-cloud-client) (3.0.4)\n",
            "Requirement already satisfied: idna<3,>=2.5 in /usr/local/lib/python3.6/dist-packages (from requests[socks]>=2.18->dwave-cloud-client) (2.9)\n",
            "Requirement already satisfied: PySocks!=1.5.7,>=1.5.6; extra == \"socks\" in /usr/local/lib/python3.6/dist-packages (from requests[socks]>=2.18->dwave-cloud-client) (1.7.1)\n"
          ],
          "name": "stdout"
        }
      ]
    },
    {
      "cell_type": "code",
      "metadata": {
        "id": "KWOO_S37ZnI4",
        "colab_type": "code",
        "colab": {
          "base_uri": "https://localhost:8080/",
          "height": 56
        },
        "outputId": "d7ee6759-67c7-44e9-c9a0-610999925d2d"
      },
      "source": [
        "from google.colab import drive\n",
        "drive.mount('/content/drive')"
      ],
      "execution_count": null,
      "outputs": [
        {
          "output_type": "stream",
          "text": [
            "Drive already mounted at /content/drive; to attempt to forcibly remount, call drive.mount(\"/content/drive\", force_remount=True).\n"
          ],
          "name": "stdout"
        }
      ]
    },
    {
      "cell_type": "code",
      "metadata": {
        "id": "UiLFq2LCl4WP",
        "colab_type": "code",
        "colab": {}
      },
      "source": [
        "import matplotlib.pyplot as plt\n",
        "%matplotlib inline"
      ],
      "execution_count": null,
      "outputs": []
    },
    {
      "cell_type": "code",
      "metadata": {
        "id": "val4hQ4jlkgd",
        "colab_type": "code",
        "colab": {}
      },
      "source": [
        "import wildqat as wq\n",
        "import random\n",
        "import csv\n",
        "import math\n",
        "import numpy as np\n",
        "import pycosat as pysat"
      ],
      "execution_count": null,
      "outputs": []
    },
    {
      "cell_type": "markdown",
      "metadata": {
        "id": "LujgOhVRHX-4",
        "colab_type": "text"
      },
      "source": [
        "Helpers function to generate random formulas and formulate QUBO form.\n"
      ]
    },
    {
      "cell_type": "code",
      "metadata": {
        "id": "zWwNy_Bm0RYc",
        "colab_type": "code",
        "colab": {}
      },
      "source": [
        "def tcnfgen(m, k):\n",
        "    cnf = []\n",
        "\n",
        "    def wzero(k):\n",
        "        t = random.randint(-k + 1, k)\n",
        "        s = sgn(t)\n",
        "        if s <= 0:\n",
        "            t = t - 1\n",
        "        return t\n",
        "\n",
        "    def sgn(k):\n",
        "        if (k > 0):\n",
        "            return 1\n",
        "        elif (k == 0):\n",
        "            return 0\n",
        "        elif (k < 0):\n",
        "            return -1\n",
        "\n",
        "    def unique(l, k):\n",
        "        t = wzero(k)\n",
        "        while (t in l or t.reverse() in l):\n",
        "            t = wzero(k)\n",
        "        return t\n",
        "\n",
        "    for i in range(m):\n",
        "        x = wzero(k)\n",
        "\n",
        "        y = wzero(k)\n",
        "        while abs(y) == abs(x):\n",
        "            y = wzero(k)\n",
        "        while ([x, y] in cnf):\n",
        "            x = wzero(k)\n",
        "            y = wzero(k)\n",
        "            while abs(y) == abs(x):\n",
        "                y = wzero(k)\n",
        "\n",
        "        cnf.append([x, y])\n",
        "\n",
        "    return cnf\n",
        "\n",
        "def formulate(cnfs, N):\n",
        "    X = 0\n",
        "    Y = 1\n",
        "    qubo = np.zeros(shape=(N, N))\n",
        "    const = 0\n",
        "    for cnf in cnfs:\n",
        "        i, j = abs(cnf[X]) - 1, abs(cnf[Y]) - 1\n",
        "        if cnf[X] > 0 and cnf[Y] > 0:\n",
        "            const = const + 1\n",
        "            qubo[i, i] = qubo[i, i] - 1\n",
        "            qubo[j, j] = qubo[j, j] - 1\n",
        "            qubo[i, j] = qubo[i, j] + 1 / 2\n",
        "            qubo[j, i] = qubo[j, i] + 1 / 2\n",
        "        elif cnf[X] > 0 and cnf[Y] < 0:\n",
        "            qubo[j, j] = qubo[j, j] + 1\n",
        "            qubo[i, j] = qubo[i, j] + 1 / 2\n",
        "            qubo[j, i] = qubo[j, i] + 1 / 2\n",
        "        elif cnf[X] < 0 and cnf[Y] > 0:\n",
        "            qubo[i, i] = qubo[i, i] + 1\n",
        "            qubo[i, j] = qubo[i, j] - 1 / 2\n",
        "            qubo[j, i] = qubo[j, i] - 1 / 2\n",
        "        elif cnf[X] < 0 and cnf[Y] < 0:\n",
        "            qubo[i, j] = qubo[i, j] + 1 / 2\n",
        "            qubo[j, i] = qubo[j, i] + 1 / 2\n",
        "    return qubo, const"
      ],
      "execution_count": null,
      "outputs": []
    },
    {
      "cell_type": "markdown",
      "metadata": {
        "id": "qyH6OZ6ccDHZ",
        "colab_type": "text"
      },
      "source": [
        "\n",
        "# Example: how to build a qubo form for specific logic formula\n",
        "\n",
        "For this example we have simple (in our case, in 2-CNF form) \n",
        "\n",
        "$$ \n",
        "F = (x_1  \\lor x_2)  \n",
        "\\land (x_1 \\lor \\overline x_3) \n",
        "\\land (x_2 \\lor x_4) \n",
        "\\land (\\overline x_3 \\lor \\overline x_4)\n",
        "\\land (\\overline x_1 \\lor \\overline x_4)\n",
        "$$\n",
        "\n",
        "The transformation of them: \n",
        "\n",
        "$$ (x \\lor y) = (1-x-y+xy)$$\n",
        "$$ (x \\lor \\overline y) = (y-xy) $$\n",
        "$$ (\\overline x \\lor y) = (x - xy) $$\n",
        "$$ (\\overline x \\lor \\overline y) = (xy)$$\n",
        "\n",
        "translates a logical formula into a formula, whose non-constant part define a bilinear form \n",
        "$$ y = 3 + x^{T}Qx $$\n",
        "\n",
        "$$ y = 3 + x_1 - 2 x_4 + 2 x_3 x_4 + x_2 (-x_3 + x_4) $$\n"
      ]
    },
    {
      "cell_type": "code",
      "metadata": {
        "id": "lWvfywTNcNsY",
        "colab_type": "code",
        "colab": {
          "base_uri": "https://localhost:8080/",
          "height": 106
        },
        "outputId": "a8ca4fbd-62d3-4a30-d7ba-4cecb57d9fa8"
      },
      "source": [
        "N = 4 # number of clauses\n",
        "cnf_for_F = [[1, 2], [1, -3], [2,  4], [-3, -4], [-1, -4]]\n",
        "\n",
        "qubo_gen, const = formulate(cnf_for_F, N)\n",
        "x = [0, 1, 0, 1]\n",
        "\n",
        "print(qubo_gen)\n",
        "y = np.dot(x, np.dot(qubo_gen, x)) + const\n",
        "\n",
        "if y == 0: \n",
        "  print(\"SAT\")\n"
      ],
      "execution_count": null,
      "outputs": [
        {
          "output_type": "stream",
          "text": [
            "[[-1.   0.5  0.5  0.5]\n",
            " [ 0.5 -2.   0.   0.5]\n",
            " [ 0.5  0.   1.   0.5]\n",
            " [ 0.5  0.5  0.5 -1. ]]\n",
            "SAT\n"
          ],
          "name": "stdout"
        }
      ]
    },
    {
      "cell_type": "markdown",
      "metadata": {
        "id": "bJQx8t0acU0X",
        "colab_type": "text"
      },
      "source": [
        "### Example: Generate formula for 2SAT\n",
        "\n"
      ]
    },
    {
      "cell_type": "code",
      "metadata": {
        "id": "E05kxOoScYJS",
        "colab_type": "code",
        "colab": {
          "base_uri": "https://localhost:8080/",
          "height": 55
        },
        "outputId": "179e3741-63cb-4830-a909-712b773ecbbd"
      },
      "source": [
        "N = 10 # number of variables\n",
        "M = 8  # number of clauses \n",
        "formula = tcnfgen(N, M)\n",
        "\n",
        "print(formula)\n",
        "\n"
      ],
      "execution_count": null,
      "outputs": [
        {
          "output_type": "stream",
          "text": [
            "[[-4, -1], [-2, 8], [-2, -7], [-7, -2], [-7, 1], [3, 7], [2, 7], [-7, -4], [-4, 5], [5, 7]]\n"
          ],
          "name": "stdout"
        }
      ]
    },
    {
      "cell_type": "markdown",
      "metadata": {
        "id": "LV5aVFib0gSH",
        "colab_type": "text"
      },
      "source": [
        "\n",
        "\n",
        "\n",
        "# Embedding into D-wave and comparing results with wildqat.\n"
      ]
    },
    {
      "cell_type": "code",
      "metadata": {
        "id": "210aUITM6G2L",
        "colab_type": "code",
        "colab": {
          "base_uri": "https://localhost:8080/",
          "height": 410
        },
        "outputId": "e4312e40-4267-42f2-f377-e00bebaccb1d"
      },
      "source": [
        "N = 16\n",
        "REPEAT = 20\n",
        "list_results = []\n",
        "\n",
        "def dw_solve(formulas, qubo):\n",
        "    dw_instance = wq.opt()\n",
        "    dw_instance.qubo = qubo\n",
        "    dw_instance.dwavetoken = \"DEV-2a15788016ae4bf505cabe8eb3d6c7c92b55deea\"\n",
        "    spins_conf = dw_instance.dw()\n",
        "    bin_vector_dw = [1 if spin == 1 else 0 for spin in spins_conf]\n",
        "\n",
        "    return bin_vector_dw\n",
        "\n",
        "def wq_solve(formulas, qubo):\n",
        "    wildqat_instance = wq.opt()\n",
        "    wildqat_instance.qubo = qubo\n",
        "\n",
        "    bin_vector_wildqat = wildqat_instance.sa()\n",
        "\n",
        "    return bin_vector_wildqat\n",
        "\n",
        "for i in range(1, N):\n",
        "    d = 0\n",
        "    w = 0 \n",
        "    p = 0\n",
        "    alfa = 2 * i\n",
        "\n",
        "    for j in range(0, REPEAT):\n",
        "\n",
        "        cnf_formulas = tcnfgen(alfa, N)\n",
        "\n",
        "        qubo, const = formulate(cnf_formulas, N)\n",
        "\n",
        "        #bin_vector_dw = dw_solve(cnf_formulas, qubo)\n",
        "        #if np.dot(bin_vector_dw, np.dot(qubo, bin_vector_dw)) + const == 0:\n",
        "        #    d = d + 1\n",
        "\n",
        "        bin_vector_wildqat = wq_solve(cnf_formulas, qubo)\n",
        "\n",
        "        if np.dot(bin_vector_wildqat, np.dot(qubo, bin_vector_wildqat)) + const == 0:\n",
        "            w = w + 1\n",
        "\n",
        "        if pysat.solve(cnf_formulas) == 'UNSAT':\n",
        "            p = p + 1\n",
        "\n",
        "    results = [alfa/N, d/REPEAT, w/REPEAT, (REPEAT-p)/REPEAT]\n",
        "    list_results.append(results)\n",
        "    myFile = open('compare_2.csv', 'a')\n",
        "    with myFile:\n",
        "        writer = csv.writer(myFile)\n",
        "        print(results)\n",
        "        writer.writerows([results])\n"
      ],
      "execution_count": null,
      "outputs": [
        {
          "output_type": "stream",
          "text": [
            "[0.125, 0.0, 1.0, 1.0]\n"
          ],
          "name": "stdout"
        },
        {
          "output_type": "error",
          "ename": "KeyboardInterrupt",
          "evalue": "ignored",
          "traceback": [
            "\u001b[0;31m---------------------------------------------------------------------------\u001b[0m",
            "\u001b[0;31mKeyboardInterrupt\u001b[0m                         Traceback (most recent call last)",
            "\u001b[0;32m<ipython-input-27-fbb597b974bd>\u001b[0m in \u001b[0;36m<module>\u001b[0;34m()\u001b[0m\n\u001b[1;32m     36\u001b[0m         \u001b[0;31m#    d = d + 1\u001b[0m\u001b[0;34m\u001b[0m\u001b[0;34m\u001b[0m\u001b[0;34m\u001b[0m\u001b[0m\n\u001b[1;32m     37\u001b[0m \u001b[0;34m\u001b[0m\u001b[0m\n\u001b[0;32m---> 38\u001b[0;31m         \u001b[0mbin_vector_wildqat\u001b[0m \u001b[0;34m=\u001b[0m \u001b[0mwq_solve\u001b[0m\u001b[0;34m(\u001b[0m\u001b[0mcnf_formulas\u001b[0m\u001b[0;34m,\u001b[0m \u001b[0mqubo\u001b[0m\u001b[0;34m)\u001b[0m\u001b[0;34m\u001b[0m\u001b[0;34m\u001b[0m\u001b[0m\n\u001b[0m\u001b[1;32m     39\u001b[0m \u001b[0;34m\u001b[0m\u001b[0m\n\u001b[1;32m     40\u001b[0m         \u001b[0;32mif\u001b[0m \u001b[0mnp\u001b[0m\u001b[0;34m.\u001b[0m\u001b[0mdot\u001b[0m\u001b[0;34m(\u001b[0m\u001b[0mbin_vector_wildqat\u001b[0m\u001b[0;34m,\u001b[0m \u001b[0mnp\u001b[0m\u001b[0;34m.\u001b[0m\u001b[0mdot\u001b[0m\u001b[0;34m(\u001b[0m\u001b[0mqubo\u001b[0m\u001b[0;34m,\u001b[0m \u001b[0mbin_vector_wildqat\u001b[0m\u001b[0;34m)\u001b[0m\u001b[0;34m)\u001b[0m \u001b[0;34m+\u001b[0m \u001b[0mconst\u001b[0m \u001b[0;34m==\u001b[0m \u001b[0;36m0\u001b[0m\u001b[0;34m:\u001b[0m\u001b[0;34m\u001b[0m\u001b[0;34m\u001b[0m\u001b[0m\n",
            "\u001b[0;32m<ipython-input-27-fbb597b974bd>\u001b[0m in \u001b[0;36mwq_solve\u001b[0;34m(formulas, qubo)\u001b[0m\n\u001b[1;32m     16\u001b[0m     \u001b[0mwildqat_instance\u001b[0m\u001b[0;34m.\u001b[0m\u001b[0mqubo\u001b[0m \u001b[0;34m=\u001b[0m \u001b[0mqubo\u001b[0m\u001b[0;34m\u001b[0m\u001b[0;34m\u001b[0m\u001b[0m\n\u001b[1;32m     17\u001b[0m \u001b[0;34m\u001b[0m\u001b[0m\n\u001b[0;32m---> 18\u001b[0;31m     \u001b[0mbin_vector_wildqat\u001b[0m \u001b[0;34m=\u001b[0m \u001b[0mwildqat_instance\u001b[0m\u001b[0;34m.\u001b[0m\u001b[0msa\u001b[0m\u001b[0;34m(\u001b[0m\u001b[0;34m)\u001b[0m\u001b[0;34m\u001b[0m\u001b[0;34m\u001b[0m\u001b[0m\n\u001b[0m\u001b[1;32m     19\u001b[0m \u001b[0;34m\u001b[0m\u001b[0m\n\u001b[1;32m     20\u001b[0m     \u001b[0;32mreturn\u001b[0m \u001b[0mbin_vector_wildqat\u001b[0m\u001b[0;34m\u001b[0m\u001b[0;34m\u001b[0m\u001b[0m\n",
            "\u001b[0;32m/usr/local/lib/python3.6/dist-packages/wildqat/__init__.py\u001b[0m in \u001b[0;36msa\u001b[0;34m(self, shots)\u001b[0m\n\u001b[1;32m    298\u001b[0m \u001b[0;34m\u001b[0m\u001b[0m\n\u001b[1;32m    299\u001b[0m         \u001b[0;32mdef\u001b[0m \u001b[0msa\u001b[0m\u001b[0;34m(\u001b[0m\u001b[0mself\u001b[0m\u001b[0;34m,\u001b[0m\u001b[0mshots\u001b[0m\u001b[0;34m=\u001b[0m\u001b[0;36m1\u001b[0m\u001b[0;34m)\u001b[0m\u001b[0;34m:\u001b[0m\u001b[0;34m\u001b[0m\u001b[0;34m\u001b[0m\u001b[0m\n\u001b[0;32m--> 300\u001b[0;31m                 \u001b[0msar\u001b[0m \u001b[0;34m=\u001b[0m \u001b[0mself\u001b[0m\u001b[0;34m.\u001b[0m\u001b[0mrun\u001b[0m\u001b[0;34m(\u001b[0m\u001b[0mshots\u001b[0m\u001b[0;34m=\u001b[0m\u001b[0mshots\u001b[0m\u001b[0;34m)\u001b[0m\u001b[0;34m\u001b[0m\u001b[0;34m\u001b[0m\u001b[0m\n\u001b[0m\u001b[1;32m    301\u001b[0m                 \u001b[0;32mreturn\u001b[0m \u001b[0msar\u001b[0m\u001b[0;34m\u001b[0m\u001b[0;34m\u001b[0m\u001b[0m\n\u001b[1;32m    302\u001b[0m \u001b[0;34m\u001b[0m\u001b[0m\n",
            "\u001b[0;32m/usr/local/lib/python3.6/dist-packages/wildqat/__init__.py\u001b[0m in \u001b[0;36mrun\u001b[0;34m(self, shots, sampler, targetT, verbose)\u001b[0m\n\u001b[1;32m    278\u001b[0m                                 \u001b[0mx_list\u001b[0m \u001b[0;34m=\u001b[0m \u001b[0mnp\u001b[0m\u001b[0;34m.\u001b[0m\u001b[0mrandom\u001b[0m\u001b[0;34m.\u001b[0m\u001b[0mrandint\u001b[0m\u001b[0;34m(\u001b[0m\u001b[0;36m0\u001b[0m\u001b[0;34m,\u001b[0m \u001b[0mN\u001b[0m\u001b[0;34m,\u001b[0m \u001b[0mitetemp\u001b[0m\u001b[0;34m)\u001b[0m\u001b[0;34m\u001b[0m\u001b[0;34m\u001b[0m\u001b[0m\n\u001b[1;32m    279\u001b[0m                                 \u001b[0;32mfor\u001b[0m \u001b[0mx\u001b[0m \u001b[0;32min\u001b[0m \u001b[0mx_list\u001b[0m\u001b[0;34m:\u001b[0m\u001b[0;34m\u001b[0m\u001b[0;34m\u001b[0m\u001b[0m\n\u001b[0;32m--> 280\u001b[0;31m                                         \u001b[0mq2\u001b[0m \u001b[0;34m=\u001b[0m \u001b[0mnp\u001b[0m\u001b[0;34m.\u001b[0m\u001b[0mones\u001b[0m\u001b[0;34m(\u001b[0m\u001b[0mN\u001b[0m\u001b[0;34m)\u001b[0m\u001b[0;34m*\u001b[0m\u001b[0mq\u001b[0m\u001b[0;34m[\u001b[0m\u001b[0mx\u001b[0m\u001b[0;34m]\u001b[0m\u001b[0;34m\u001b[0m\u001b[0;34m\u001b[0m\u001b[0m\n\u001b[0m\u001b[1;32m    281\u001b[0m                                         \u001b[0mq2\u001b[0m\u001b[0;34m[\u001b[0m\u001b[0mx\u001b[0m\u001b[0;34m]\u001b[0m \u001b[0;34m=\u001b[0m \u001b[0;36m1\u001b[0m\u001b[0;34m\u001b[0m\u001b[0;34m\u001b[0m\u001b[0m\n\u001b[1;32m    282\u001b[0m                                         \u001b[0mdE\u001b[0m \u001b[0;34m=\u001b[0m \u001b[0;34m-\u001b[0m\u001b[0;36m2\u001b[0m\u001b[0;34m*\u001b[0m\u001b[0msum\u001b[0m\u001b[0;34m(\u001b[0m\u001b[0mq\u001b[0m\u001b[0;34m*\u001b[0m\u001b[0mq2\u001b[0m\u001b[0;34m*\u001b[0m\u001b[0mJ\u001b[0m\u001b[0;34m[\u001b[0m\u001b[0;34m:\u001b[0m\u001b[0;34m,\u001b[0m\u001b[0mx\u001b[0m\u001b[0;34m]\u001b[0m\u001b[0;34m)\u001b[0m\u001b[0;34m\u001b[0m\u001b[0;34m\u001b[0m\u001b[0m\n",
            "\u001b[0;31mKeyboardInterrupt\u001b[0m: "
          ]
        }
      ]
    },
    {
      "cell_type": "code",
      "metadata": {
        "colab_type": "code",
        "id": "HTWHxSFoRZoF",
        "colab": {
          "base_uri": "https://localhost:8080/",
          "height": 295
        },
        "outputId": "dcb5e22a-4a40-4045-fc87-336c7c84b0b7"
      },
      "source": [
        "data = np.genfromtxt('compare_2.csv', delimiter=',', \n",
        "                      names=['alpha', 'dw', 'wq', 'pycosat'])\n",
        "fig = plt.figure()\n",
        "\n",
        "ax1 = fig.add_subplot(111)\n",
        "\n",
        "ax1.set_title(\"20 variables 2-SAT\")\n",
        "ax1.set_xlabel('clause Density')\n",
        "ax1.set_ylabel('% satisfiability ')\n",
        "\n",
        "ax1.plot(data['alpha'], data['dw'], color='r', label='dw')\n",
        "ax1.plot(data['alpha'], data['wq'], color='b', label='wq')\n",
        "ax1.plot(data['alpha'], data['pycosat'], color='y', label='pycosat')\n",
        "plt.legend(title='Compared')\n",
        "fig.show()"
      ],
      "execution_count": null,
      "outputs": [
        {
          "output_type": "display_data",
          "data": {
            "image/png": "[encoded data removed]",
            "text/plain": [
              "<Figure size 432x288 with 1 Axes>"
            ]
          },
          "metadata": {
            "tags": [],
            "needs_background": "light"
          }
        }
      ]
    },
    {
      "cell_type": "code",
      "metadata": {
        "id": "wPI5ovwtdyez",
        "colab_type": "code",
        "colab": {
          "base_uri": "https://localhost:8080/",
          "height": 142
        },
        "outputId": "224b8b0f-87ca-417e-e818-a387cc5a79fc"
      },
      "source": [
        "!git clone https://817f39297e940726a8648b171b073bc8bd73f2f0@github.com/marcin119a/sat-experiments.git\n",
        "%cd sat-experiments"
      ],
      "execution_count": null,
      "outputs": [
        {
          "output_type": "stream",
          "text": [
            "Cloning into 'sat-experiments'...\n",
            "remote: Enumerating objects: 81, done.\u001b[K\n",
            "remote: Counting objects:   1% (1/81)\u001b[K\rremote: Counting objects:   2% (2/81)\u001b[K\rremote: Counting objects:   3% (3/81)\u001b[K\rremote: Counting objects:   4% (4/81)\u001b[K\rremote: Counting objects:   6% (5/81)\u001b[K\rremote: Counting objects:   7% (6/81)\u001b[K\rremote: Counting objects:   8% (7/81)\u001b[K\rremote: Counting objects:   9% (8/81)\u001b[K\rremote: Counting objects:  11% (9/81)\u001b[K\rremote: Counting objects:  12% (10/81)\u001b[K\rremote: Counting objects:  13% (11/81)\u001b[K\rremote: Counting objects:  14% (12/81)\u001b[K\rremote: Counting objects:  16% (13/81)\u001b[K\rremote: Counting objects:  17% (14/81)\u001b[K\rremote: Counting objects:  18% (15/81)\u001b[K\rremote: Counting objects:  19% (16/81)\u001b[K\rremote: Counting objects:  20% (17/81)\u001b[K\rremote: Counting objects:  22% (18/81)\u001b[K\rremote: Counting objects:  23% (19/81)\u001b[K\rremote: Counting objects:  24% (20/81)\u001b[K\rremote: Counting objects:  25% (21/81)\u001b[K\rremote: Counting objects:  27% (22/81)\u001b[K\rremote: Counting objects:  28% (23/81)\u001b[K\rremote: Counting objects:  29% (24/81)\u001b[K\rremote: Counting objects:  30% (25/81)\u001b[K\rremote: Counting objects:  32% (26/81)\u001b[K\rremote: Counting objects:  33% (27/81)\u001b[K\rremote: Counting objects:  34% (28/81)\u001b[K\rremote: Counting objects:  35% (29/81)\u001b[K\rremote: Counting objects:  37% (30/81)\u001b[K\rremote: Counting objects:  38% (31/81)\u001b[K\rremote: Counting objects:  39% (32/81)\u001b[K\rremote: Counting objects:  40% (33/81)\u001b[K\rremote: Counting objects:  41% (34/81)\u001b[K\rremote: Counting objects:  43% (35/81)\u001b[K\rremote: Counting objects:  44% (36/81)\u001b[K\rremote: Counting objects:  45% (37/81)\u001b[K\rremote: Counting objects:  46% (38/81)\u001b[K\rremote: Counting objects:  48% (39/81)\u001b[K\rremote: Counting objects:  49% (40/81)\u001b[K\rremote: Counting objects:  50% (41/81)\u001b[K\rremote: Counting objects:  51% (42/81)\u001b[K\rremote: Counting objects:  53% (43/81)\u001b[K\rremote: Counting objects:  54% (44/81)\u001b[K\rremote: Counting objects:  55% (45/81)\u001b[K\rremote: Counting objects:  56% (46/81)\u001b[K\rremote: Counting objects:  58% (47/81)\u001b[K\rremote: Counting objects:  59% (48/81)\u001b[K\rremote: Counting objects:  60% (49/81)\u001b[K\rremote: Counting objects:  61% (50/81)\u001b[K\rremote: Counting objects:  62% (51/81)\u001b[K\rremote: Counting objects:  64% (52/81)\u001b[K\rremote: Counting objects:  65% (53/81)\u001b[K\rremote: Counting objects:  66% (54/81)\u001b[K\rremote: Counting objects:  67% (55/81)\u001b[K\rremote: Counting objects:  69% (56/81)\u001b[K\rremote: Counting objects:  70% (57/81)\u001b[K\rremote: Counting objects:  71% (58/81)\u001b[K\rremote: Counting objects:  72% (59/81)\u001b[K\rremote: Counting objects:  74% (60/81)\u001b[K\rremote: Counting objects:  75% (61/81)\u001b[K\rremote: Counting objects:  76% (62/81)\u001b[K\rremote: Counting objects:  77% (63/81)\u001b[K\rremote: Counting objects:  79% (64/81)\u001b[K\rremote: Counting objects:  80% (65/81)\u001b[K\rremote: Counting objects:  81% (66/81)\u001b[K\rremote: Counting objects:  82% (67/81)\u001b[K\rremote: Counting objects:  83% (68/81)\u001b[K\rremote: Counting objects:  85% (69/81)\u001b[K\rremote: Counting objects:  86% (70/81)\u001b[K\rremote: Counting objects:  87% (71/81)\u001b[K\rremote: Counting objects:  88% (72/81)\u001b[K\rremote: Counting objects:  90% (73/81)\u001b[K\rremote: Counting objects:  91% (74/81)\u001b[K\rremote: Counting objects:  92% (75/81)\u001b[K\rremote: Counting objects:  93% (76/81)\u001b[K\rremote: Counting objects:  95% (77/81)\u001b[K\rremote: Counting objects:  96% (78/81)\u001b[K\rremote: Counting objects:  97% (79/81)\u001b[K\rremote: Counting objects:  98% (80/81)\u001b[K\rremote: Counting objects: 100% (81/81)\u001b[K\rremote: Counting objects: 100% (81/81), done.\u001b[K\n",
            "remote: Compressing objects: 100% (72/72), done.\u001b[K\n",
            "remote: Total 81 (delta 29), reused 36 (delta 6), pack-reused 0\u001b[K\n",
            "Unpacking objects: 100% (81/81), done.\n",
            "/content/neuralheuristicsforsat/sat-experiments\n"
          ],
          "name": "stdout"
        }
      ]
    },
    {
      "cell_type": "code",
      "metadata": {
        "id": "HW_2x_eHj_3g",
        "colab_type": "code",
        "colab": {
          "base_uri": "https://localhost:8080/",
          "height": 142
        },
        "outputId": "e3fccb6c-cb17-4731-9d9f-a99ea61c2576"
      },
      "source": [
        "!git clone https://github.com/satproject/neuralheuristicsforsat.git\n",
        "%cd neuralheuristicsforsat"
      ],
      "execution_count": null,
      "outputs": [
        {
          "output_type": "stream",
          "text": [
            "Cloning into 'neuralheuristicsforsat'...\n",
            "remote: Enumerating objects: 48, done.\u001b[K\n",
            "remote: Counting objects: 100% (48/48), done.\u001b[K\n",
            "remote: Compressing objects: 100% (45/45), done.\u001b[K\n",
            "remote: Total 73 (delta 21), reused 6 (delta 1), pack-reused 25\u001b[K\n",
            "Unpacking objects: 100% (73/73), done.\n",
            "/content/neuralheuristicsforsat/sat-experiments/neuralheuristicsforsat\n"
          ],
          "name": "stdout"
        }
      ]
    },
    {
      "cell_type": "code",
      "metadata": {
        "id": "OWm1LbvqfZPf",
        "colab_type": "code",
        "colab": {}
      },
      "source": [
        "!pip install -r requirements.in \n",
        "%tensorflow_version 1.12"
      ],
      "execution_count": null,
      "outputs": []
    },
    {
      "cell_type": "code",
      "metadata": {
        "id": "bKX84z2vd6XV",
        "colab_type": "code",
        "colab": {
          "base_uri": "https://localhost:8080/",
          "height": 1000
        },
        "outputId": "8d6f1848-ef08-41ff-b20d-973c603fbc2f"
      },
      "source": [
        "!pip install -r requirements.txt"
      ],
      "execution_count": null,
      "outputs": [
        {
          "output_type": "stream",
          "text": [
            "Collecting git+https://github.com/satproject/neuralheuristicsforsat (from -r requirements.txt (line 3))\n",
            "  Cloning https://github.com/satproject/neuralheuristicsforsat to /tmp/pip-req-build-jx81kefg\n",
            "  Running command git clone -q https://github.com/satproject/neuralheuristicsforsat /tmp/pip-req-build-jx81kefg\n",
            "Requirement already satisfied: torch in /usr/local/lib/python3.6/dist-packages (from -r requirements.txt (line 1)) (1.5.0+cu101)\n",
            "Requirement already satisfied: tqdm in /usr/local/lib/python3.6/dist-packages (from -r requirements.txt (line 2)) (4.38.0)\n",
            "Requirement already satisfied: jupyterlab in /usr/local/lib/python3.6/dist-packages (from projekt-sat==1.0.0->-r requirements.txt (line 3)) (2.1.2)\n",
            "Collecting tensorflow==1.12\n",
            "  Using cached https://files.pythonhosted.org/packages/22/cc/ca70b78087015d21c5f3f93694107f34ebccb3be9624385a911d4b52ecef/tensorflow-1.12.0-cp36-cp36m-manylinux1_x86_64.whl\n",
            "Requirement already satisfied: sympy in /usr/local/lib/python3.6/dist-packages (from projekt-sat==1.0.0->-r requirements.txt (line 3)) (1.1.1)\n",
            "Requirement already satisfied: sklearn in /usr/local/lib/python3.6/dist-packages (from projekt-sat==1.0.0->-r requirements.txt (line 3)) (0.0)\n",
            "Requirement already satisfied: scipy in /usr/local/lib/python3.6/dist-packages (from projekt-sat==1.0.0->-r requirements.txt (line 3)) (1.4.1)\n",
            "Requirement already satisfied: matplotlib in /usr/local/lib/python3.6/dist-packages (from projekt-sat==1.0.0->-r requirements.txt (line 3)) (3.2.1)\n",
            "Requirement already satisfied: pandas in /usr/local/lib/python3.6/dist-packages (from projekt-sat==1.0.0->-r requirements.txt (line 3)) (1.0.3)\n",
            "Requirement already satisfied: python-sat in /usr/local/lib/python3.6/dist-packages (from projekt-sat==1.0.0->-r requirements.txt (line 3)) (0.1.5.dev13)\n",
            "Requirement already satisfied: google-api-python-client in /usr/local/lib/python3.6/dist-packages (from projekt-sat==1.0.0->-r requirements.txt (line 3)) (1.7.12)\n",
            "Requirement already satisfied: google-cloud-storage in /usr/local/lib/python3.6/dist-packages (from projekt-sat==1.0.0->-r requirements.txt (line 3)) (1.18.1)\n",
            "Requirement already satisfied: oauth2client in /usr/local/lib/python3.6/dist-packages (from projekt-sat==1.0.0->-r requirements.txt (line 3)) (4.1.3)\n",
            "Requirement already satisfied: future in /usr/local/lib/python3.6/dist-packages (from torch->-r requirements.txt (line 1)) (0.16.0)\n",
            "Requirement already satisfied: numpy in /usr/local/lib/python3.6/dist-packages (from torch->-r requirements.txt (line 1)) (1.18.3)\n",
            "Requirement already satisfied: jupyterlab-server<2.0,>=1.1.0 in /usr/local/lib/python3.6/dist-packages (from jupyterlab->projekt-sat==1.0.0->-r requirements.txt (line 3)) (1.1.1)\n",
            "Requirement already satisfied: tornado!=6.0.0,!=6.0.1,!=6.0.2 in /usr/local/lib/python3.6/dist-packages (from jupyterlab->projekt-sat==1.0.0->-r requirements.txt (line 3)) (4.5.3)\n",
            "Requirement already satisfied: notebook>=4.3.1 in /usr/local/lib/python3.6/dist-packages (from jupyterlab->projekt-sat==1.0.0->-r requirements.txt (line 3)) (5.2.2)\n",
            "Requirement already satisfied: jinja2>=2.10 in /usr/local/lib/python3.6/dist-packages (from jupyterlab->projekt-sat==1.0.0->-r requirements.txt (line 3)) (2.11.2)\n",
            "Requirement already satisfied: keras-preprocessing>=1.0.5 in /usr/local/lib/python3.6/dist-packages (from tensorflow==1.12->projekt-sat==1.0.0->-r requirements.txt (line 3)) (1.1.0)\n",
            "Requirement already satisfied: gast>=0.2.0 in /usr/local/lib/python3.6/dist-packages (from tensorflow==1.12->projekt-sat==1.0.0->-r requirements.txt (line 3)) (0.3.3)\n",
            "Requirement already satisfied: absl-py>=0.1.6 in /usr/local/lib/python3.6/dist-packages (from tensorflow==1.12->projekt-sat==1.0.0->-r requirements.txt (line 3)) (0.9.0)\n",
            "Requirement already satisfied: grpcio>=1.8.6 in /usr/local/lib/python3.6/dist-packages (from tensorflow==1.12->projekt-sat==1.0.0->-r requirements.txt (line 3)) (1.28.1)\n",
            "Requirement already satisfied: astor>=0.6.0 in /usr/local/lib/python3.6/dist-packages (from tensorflow==1.12->projekt-sat==1.0.0->-r requirements.txt (line 3)) (0.8.1)\n",
            "Collecting tensorboard<1.13.0,>=1.12.0\n",
            "  Using cached https://files.pythonhosted.org/packages/07/53/8d32ce9471c18f8d99028b7cef2e5b39ea8765bd7ef250ca05b490880971/tensorboard-1.12.2-py3-none-any.whl\n",
            "Requirement already satisfied: wheel>=0.26 in /usr/local/lib/python3.6/dist-packages (from tensorflow==1.12->projekt-sat==1.0.0->-r requirements.txt (line 3)) (0.34.2)\n",
            "Requirement already satisfied: keras-applications>=1.0.6 in /usr/local/lib/python3.6/dist-packages (from tensorflow==1.12->projekt-sat==1.0.0->-r requirements.txt (line 3)) (1.0.8)\n",
            "Requirement already satisfied: protobuf>=3.6.1 in /usr/local/lib/python3.6/dist-packages (from tensorflow==1.12->projekt-sat==1.0.0->-r requirements.txt (line 3)) (3.10.0)\n",
            "Requirement already satisfied: six>=1.10.0 in /usr/local/lib/python3.6/dist-packages (from tensorflow==1.12->projekt-sat==1.0.0->-r requirements.txt (line 3)) (1.12.0)\n",
            "Requirement already satisfied: termcolor>=1.1.0 in /usr/local/lib/python3.6/dist-packages (from tensorflow==1.12->projekt-sat==1.0.0->-r requirements.txt (line 3)) (1.1.0)\n",
            "Requirement already satisfied: mpmath>=0.19 in /usr/local/lib/python3.6/dist-packages (from sympy->projekt-sat==1.0.0->-r requirements.txt (line 3)) (1.1.0)\n",
            "Requirement already satisfied: scikit-learn in /usr/local/lib/python3.6/dist-packages (from sklearn->projekt-sat==1.0.0->-r requirements.txt (line 3)) (0.22.2.post1)\n",
            "Requirement already satisfied: cycler>=0.10 in /usr/local/lib/python3.6/dist-packages (from matplotlib->projekt-sat==1.0.0->-r requirements.txt (line 3)) (0.10.0)\n",
            "Requirement already satisfied: pyparsing!=2.0.4,!=2.1.2,!=2.1.6,>=2.0.1 in /usr/local/lib/python3.6/dist-packages (from matplotlib->projekt-sat==1.0.0->-r requirements.txt (line 3)) (2.4.7)\n",
            "Requirement already satisfied: python-dateutil>=2.1 in /usr/local/lib/python3.6/dist-packages (from matplotlib->projekt-sat==1.0.0->-r requirements.txt (line 3)) (2.8.1)\n",
            "Requirement already satisfied: kiwisolver>=1.0.1 in /usr/local/lib/python3.6/dist-packages (from matplotlib->projekt-sat==1.0.0->-r requirements.txt (line 3)) (1.2.0)\n",
            "Requirement already satisfied: pytz>=2017.2 in /usr/local/lib/python3.6/dist-packages (from pandas->projekt-sat==1.0.0->-r requirements.txt (line 3)) (2018.9)\n",
            "Requirement already satisfied: httplib2<1dev,>=0.17.0 in /usr/local/lib/python3.6/dist-packages (from google-api-python-client->projekt-sat==1.0.0->-r requirements.txt (line 3)) (0.17.3)\n",
            "Requirement already satisfied: uritemplate<4dev,>=3.0.0 in /usr/local/lib/python3.6/dist-packages (from google-api-python-client->projekt-sat==1.0.0->-r requirements.txt (line 3)) (3.0.1)\n",
            "Requirement already satisfied: google-auth-httplib2>=0.0.3 in /usr/local/lib/python3.6/dist-packages (from google-api-python-client->projekt-sat==1.0.0->-r requirements.txt (line 3)) (0.0.3)\n",
            "Requirement already satisfied: google-auth>=1.4.1 in /usr/local/lib/python3.6/dist-packages (from google-api-python-client->projekt-sat==1.0.0->-r requirements.txt (line 3)) (1.7.2)\n",
            "Requirement already satisfied: google-resumable-media<0.5.0dev,>=0.3.1 in /usr/local/lib/python3.6/dist-packages (from google-cloud-storage->projekt-sat==1.0.0->-r requirements.txt (line 3)) (0.4.1)\n",
            "Requirement already satisfied: google-cloud-core<2.0dev,>=1.0.0 in /usr/local/lib/python3.6/dist-packages (from google-cloud-storage->projekt-sat==1.0.0->-r requirements.txt (line 3)) (1.0.3)\n",
            "Requirement already satisfied: pyasn1-modules>=0.0.5 in /usr/local/lib/python3.6/dist-packages (from oauth2client->projekt-sat==1.0.0->-r requirements.txt (line 3)) (0.2.8)\n",
            "Requirement already satisfied: rsa>=3.1.4 in /usr/local/lib/python3.6/dist-packages (from oauth2client->projekt-sat==1.0.0->-r requirements.txt (line 3)) (4.0)\n",
            "Requirement already satisfied: pyasn1>=0.1.7 in /usr/local/lib/python3.6/dist-packages (from oauth2client->projekt-sat==1.0.0->-r requirements.txt (line 3)) (0.4.8)\n",
            "Requirement already satisfied: jsonschema>=3.0.1 in /usr/local/lib/python3.6/dist-packages (from jupyterlab-server<2.0,>=1.1.0->jupyterlab->projekt-sat==1.0.0->-r requirements.txt (line 3)) (3.2.0)\n",
            "Requirement already satisfied: requests in /usr/local/lib/python3.6/dist-packages (from jupyterlab-server<2.0,>=1.1.0->jupyterlab->projekt-sat==1.0.0->-r requirements.txt (line 3)) (2.23.0)\n",
            "Requirement already satisfied: json5 in /usr/local/lib/python3.6/dist-packages (from jupyterlab-server<2.0,>=1.1.0->jupyterlab->projekt-sat==1.0.0->-r requirements.txt (line 3)) (0.9.4)\n",
            "Requirement already satisfied: jupyter-client in /usr/local/lib/python3.6/dist-packages (from notebook>=4.3.1->jupyterlab->projekt-sat==1.0.0->-r requirements.txt (line 3)) (5.3.4)\n",
            "Requirement already satisfied: traitlets>=4.2.1 in /usr/local/lib/python3.6/dist-packages (from notebook>=4.3.1->jupyterlab->projekt-sat==1.0.0->-r requirements.txt (line 3)) (4.3.3)\n",
            "Requirement already satisfied: ipython-genutils in /usr/local/lib/python3.6/dist-packages (from notebook>=4.3.1->jupyterlab->projekt-sat==1.0.0->-r requirements.txt (line 3)) (0.2.0)\n",
            "Requirement already satisfied: nbconvert in /usr/local/lib/python3.6/dist-packages (from notebook>=4.3.1->jupyterlab->projekt-sat==1.0.0->-r requirements.txt (line 3)) (5.6.1)\n",
            "Requirement already satisfied: terminado>=0.3.3; sys_platform != \"win32\" in /usr/local/lib/python3.6/dist-packages (from notebook>=4.3.1->jupyterlab->projekt-sat==1.0.0->-r requirements.txt (line 3)) (0.8.3)\n",
            "Requirement already satisfied: ipykernel in /usr/local/lib/python3.6/dist-packages (from notebook>=4.3.1->jupyterlab->projekt-sat==1.0.0->-r requirements.txt (line 3)) (4.10.1)\n",
            "Requirement already satisfied: jupyter-core in /usr/local/lib/python3.6/dist-packages (from notebook>=4.3.1->jupyterlab->projekt-sat==1.0.0->-r requirements.txt (line 3)) (4.6.3)\n",
            "Requirement already satisfied: nbformat in /usr/local/lib/python3.6/dist-packages (from notebook>=4.3.1->jupyterlab->projekt-sat==1.0.0->-r requirements.txt (line 3)) (5.0.6)\n",
            "Requirement already satisfied: MarkupSafe>=0.23 in /usr/local/lib/python3.6/dist-packages (from jinja2>=2.10->jupyterlab->projekt-sat==1.0.0->-r requirements.txt (line 3)) (1.1.1)\n",
            "Requirement already satisfied: werkzeug>=0.11.10 in /usr/local/lib/python3.6/dist-packages (from tensorboard<1.13.0,>=1.12.0->tensorflow==1.12->projekt-sat==1.0.0->-r requirements.txt (line 3)) (1.0.1)\n",
            "Requirement already satisfied: markdown>=2.6.8 in /usr/local/lib/python3.6/dist-packages (from tensorboard<1.13.0,>=1.12.0->tensorflow==1.12->projekt-sat==1.0.0->-r requirements.txt (line 3)) (3.2.1)\n",
            "Requirement already satisfied: h5py in /usr/local/lib/python3.6/dist-packages (from keras-applications>=1.0.6->tensorflow==1.12->projekt-sat==1.0.0->-r requirements.txt (line 3)) (2.10.0)\n",
            "Requirement already satisfied: setuptools in /usr/local/lib/python3.6/dist-packages (from protobuf>=3.6.1->tensorflow==1.12->projekt-sat==1.0.0->-r requirements.txt (line 3)) (46.1.3)\n",
            "Requirement already satisfied: joblib>=0.11 in /usr/local/lib/python3.6/dist-packages (from scikit-learn->sklearn->projekt-sat==1.0.0->-r requirements.txt (line 3)) (0.14.1)\n",
            "Requirement already satisfied: cachetools<3.2,>=2.0.0 in /usr/local/lib/python3.6/dist-packages (from google-auth>=1.4.1->google-api-python-client->projekt-sat==1.0.0->-r requirements.txt (line 3)) (3.1.1)\n",
            "Requirement already satisfied: google-api-core<2.0.0dev,>=1.14.0 in /usr/local/lib/python3.6/dist-packages (from google-cloud-core<2.0dev,>=1.0.0->google-cloud-storage->projekt-sat==1.0.0->-r requirements.txt (line 3)) (1.16.0)\n",
            "Requirement already satisfied: pyrsistent>=0.14.0 in /usr/local/lib/python3.6/dist-packages (from jsonschema>=3.0.1->jupyterlab-server<2.0,>=1.1.0->jupyterlab->projekt-sat==1.0.0->-r requirements.txt (line 3)) (0.16.0)\n",
            "Requirement already satisfied: attrs>=17.4.0 in /usr/local/lib/python3.6/dist-packages (from jsonschema>=3.0.1->jupyterlab-server<2.0,>=1.1.0->jupyterlab->projekt-sat==1.0.0->-r requirements.txt (line 3)) (19.3.0)\n",
            "Requirement already satisfied: importlib-metadata; python_version < \"3.8\" in /usr/local/lib/python3.6/dist-packages (from jsonschema>=3.0.1->jupyterlab-server<2.0,>=1.1.0->jupyterlab->projekt-sat==1.0.0->-r requirements.txt (line 3)) (1.6.0)\n",
            "Requirement already satisfied: urllib3!=1.25.0,!=1.25.1,<1.26,>=1.21.1 in /usr/local/lib/python3.6/dist-packages (from requests->jupyterlab-server<2.0,>=1.1.0->jupyterlab->projekt-sat==1.0.0->-r requirements.txt (line 3)) (1.24.3)\n",
            "Requirement already satisfied: certifi>=2017.4.17 in /usr/local/lib/python3.6/dist-packages (from requests->jupyterlab-server<2.0,>=1.1.0->jupyterlab->projekt-sat==1.0.0->-r requirements.txt (line 3)) (2020.4.5.1)\n",
            "Requirement already satisfied: chardet<4,>=3.0.2 in /usr/local/lib/python3.6/dist-packages (from requests->jupyterlab-server<2.0,>=1.1.0->jupyterlab->projekt-sat==1.0.0->-r requirements.txt (line 3)) (3.0.4)\n",
            "Requirement already satisfied: idna<3,>=2.5 in /usr/local/lib/python3.6/dist-packages (from requests->jupyterlab-server<2.0,>=1.1.0->jupyterlab->projekt-sat==1.0.0->-r requirements.txt (line 3)) (2.9)\n",
            "Requirement already satisfied: pyzmq>=13 in /usr/local/lib/python3.6/dist-packages (from jupyter-client->notebook>=4.3.1->jupyterlab->projekt-sat==1.0.0->-r requirements.txt (line 3)) (19.0.0)\n",
            "Requirement already satisfied: decorator in /usr/local/lib/python3.6/dist-packages (from traitlets>=4.2.1->notebook>=4.3.1->jupyterlab->projekt-sat==1.0.0->-r requirements.txt (line 3)) (4.4.2)\n",
            "Requirement already satisfied: pandocfilters>=1.4.1 in /usr/local/lib/python3.6/dist-packages (from nbconvert->notebook>=4.3.1->jupyterlab->projekt-sat==1.0.0->-r requirements.txt (line 3)) (1.4.2)\n",
            "Requirement already satisfied: entrypoints>=0.2.2 in /usr/local/lib/python3.6/dist-packages (from nbconvert->notebook>=4.3.1->jupyterlab->projekt-sat==1.0.0->-r requirements.txt (line 3)) (0.3)\n",
            "Requirement already satisfied: pygments in /usr/local/lib/python3.6/dist-packages (from nbconvert->notebook>=4.3.1->jupyterlab->projekt-sat==1.0.0->-r requirements.txt (line 3)) (2.1.3)\n",
            "Requirement already satisfied: defusedxml in /usr/local/lib/python3.6/dist-packages (from nbconvert->notebook>=4.3.1->jupyterlab->projekt-sat==1.0.0->-r requirements.txt (line 3)) (0.6.0)\n",
            "Requirement already satisfied: bleach in /usr/local/lib/python3.6/dist-packages (from nbconvert->notebook>=4.3.1->jupyterlab->projekt-sat==1.0.0->-r requirements.txt (line 3)) (3.1.5)\n",
            "Requirement already satisfied: testpath in /usr/local/lib/python3.6/dist-packages (from nbconvert->notebook>=4.3.1->jupyterlab->projekt-sat==1.0.0->-r requirements.txt (line 3)) (0.4.4)\n",
            "Requirement already satisfied: mistune<2,>=0.8.1 in /usr/local/lib/python3.6/dist-packages (from nbconvert->notebook>=4.3.1->jupyterlab->projekt-sat==1.0.0->-r requirements.txt (line 3)) (0.8.4)\n",
            "Requirement already satisfied: ptyprocess; os_name != \"nt\" in /usr/local/lib/python3.6/dist-packages (from terminado>=0.3.3; sys_platform != \"win32\"->notebook>=4.3.1->jupyterlab->projekt-sat==1.0.0->-r requirements.txt (line 3)) (0.6.0)\n",
            "Requirement already satisfied: ipython>=4.0.0 in /usr/local/lib/python3.6/dist-packages (from ipykernel->notebook>=4.3.1->jupyterlab->projekt-sat==1.0.0->-r requirements.txt (line 3)) (5.5.0)\n",
            "Requirement already satisfied: googleapis-common-protos<2.0dev,>=1.6.0 in /usr/local/lib/python3.6/dist-packages (from google-api-core<2.0.0dev,>=1.14.0->google-cloud-core<2.0dev,>=1.0.0->google-cloud-storage->projekt-sat==1.0.0->-r requirements.txt (line 3)) (1.51.0)\n",
            "Requirement already satisfied: zipp>=0.5 in /usr/local/lib/python3.6/dist-packages (from importlib-metadata; python_version < \"3.8\"->jsonschema>=3.0.1->jupyterlab-server<2.0,>=1.1.0->jupyterlab->projekt-sat==1.0.0->-r requirements.txt (line 3)) (3.1.0)\n",
            "Requirement already satisfied: webencodings in /usr/local/lib/python3.6/dist-packages (from bleach->nbconvert->notebook>=4.3.1->jupyterlab->projekt-sat==1.0.0->-r requirements.txt (line 3)) (0.5.1)\n",
            "Requirement already satisfied: packaging in /usr/local/lib/python3.6/dist-packages (from bleach->nbconvert->notebook>=4.3.1->jupyterlab->projekt-sat==1.0.0->-r requirements.txt (line 3)) (20.3)\n",
            "Requirement already satisfied: pexpect; sys_platform != \"win32\" in /usr/local/lib/python3.6/dist-packages (from ipython>=4.0.0->ipykernel->notebook>=4.3.1->jupyterlab->projekt-sat==1.0.0->-r requirements.txt (line 3)) (4.8.0)\n",
            "Requirement already satisfied: simplegeneric>0.8 in /usr/local/lib/python3.6/dist-packages (from ipython>=4.0.0->ipykernel->notebook>=4.3.1->jupyterlab->projekt-sat==1.0.0->-r requirements.txt (line 3)) (0.8.1)\n",
            "Requirement already satisfied: pickleshare in /usr/local/lib/python3.6/dist-packages (from ipython>=4.0.0->ipykernel->notebook>=4.3.1->jupyterlab->projekt-sat==1.0.0->-r requirements.txt (line 3)) (0.7.5)\n",
            "Requirement already satisfied: prompt-toolkit<2.0.0,>=1.0.4 in /usr/local/lib/python3.6/dist-packages (from ipython>=4.0.0->ipykernel->notebook>=4.3.1->jupyterlab->projekt-sat==1.0.0->-r requirements.txt (line 3)) (1.0.18)\n",
            "Requirement already satisfied: wcwidth in /usr/local/lib/python3.6/dist-packages (from prompt-toolkit<2.0.0,>=1.0.4->ipython>=4.0.0->ipykernel->notebook>=4.3.1->jupyterlab->projekt-sat==1.0.0->-r requirements.txt (line 3)) (0.1.9)\n",
            "Building wheels for collected packages: projekt-sat\n",
            "  Building wheel for projekt-sat (setup.py) ... \u001b[?25l\u001b[?25hdone\n",
            "  Created wheel for projekt-sat: filename=projekt_sat-1.0.0-cp36-none-any.whl size=1185 sha256=1f43153ad32eafafea95ddfb8a60b43ff632aaa73822f01ae32779a256df5b3c\n",
            "  Stored in directory: /tmp/pip-ephem-wheel-cache-ofeitdsc/wheels/be/7f/db/6e8ebfa23a7134a0bf146cb48f6f2b433bf73645f9de997403\n",
            "Successfully built projekt-sat\n",
            "Installing collected packages: tensorboard, tensorflow, projekt-sat\n",
            "  Found existing installation: tensorboard 1.15.0\n",
            "    Uninstalling tensorboard-1.15.0:\n",
            "      Successfully uninstalled tensorboard-1.15.0\n",
            "  Found existing installation: tensorflow 1.15.2\n",
            "    Uninstalling tensorflow-1.15.2:\n",
            "      Successfully uninstalled tensorflow-1.15.2\n",
            "Successfully installed projekt-sat-1.0.0 tensorboard-1.12.2 tensorflow-1.12.0\n"
          ],
          "name": "stdout"
        }
      ]
    },
    {
      "cell_type": "code",
      "metadata": {
        "id": "-Wx0IE3c6z8n",
        "colab_type": "code",
        "colab": {}
      },
      "source": [
        "import numpy as np\n",
        "import random\n",
        "from tqdm import trange\n",
        "import pycosat\n",
        "\n",
        "\n",
        "def generate_pycosat(n_variables, n_clauses, k_var):\n",
        "    \"\"\"\n",
        "       Generates k_var-SAT problem in cnf-format\n",
        "    \"\"\"\n",
        "    a = list(range(-n_variables, 0)) + list(range(1, n_variables + 1))\n",
        "    b = [0 for _ in range(n_clauses)]\n",
        "    current_clause_num = 0\n",
        "    while current_clause_num < n_clauses:\n",
        "        clause = []\n",
        "        while True:\n",
        "            var = random.choice(a)\n",
        "            if var not in clause and -var not in clause:\n",
        "                clause.append(var)\n",
        "            if len(clause) == k_var:\n",
        "                break\n",
        "        if clause not in b:\n",
        "            b[current_clause_num] = clause\n",
        "            current_clause_num += 1\n",
        "    return b\n",
        "\n",
        "\n",
        "def data_to_matrix(m, n, data):\n",
        "    matrix = np.zeros((m, n), dtype=np.int32)\n",
        "    for j in range(m):\n",
        "        var1, var2 = data[j][0], data[j][1]\n",
        "        matrix[j][abs(var1) - 1] = var1 // abs(var1)\n",
        "        matrix[j][abs(var2) - 1] = var2 // abs(var2)\n",
        "    return matrix\n",
        "\n",
        "\n",
        "def ising_params(m, n, matrix):\n",
        "    \"\"\" Encoding SAT matrix to Ising 2-body Hamiltonian folowing\n",
        "        S.Santra et al. Max 2-SAT with up to 108 qubits (2014).\"\"\"\n",
        "\n",
        "    v = matrix\n",
        "\n",
        "    # constructing Ising matrix and biases\n",
        "    J = np.zeros((n, n), dtype=np.float32)\n",
        "    h = np.zeros(n, dtype=np.float32)\n",
        "    # the local fields\n",
        "\n",
        "    for j in range(m):\n",
        "        index1 = -1\n",
        "        index2 = 0\n",
        "        for i in range(n):\n",
        "            if v[j, i] != 0 and index1 == -1:\n",
        "                index1 = i + 1\n",
        "                continue\n",
        "            if v[j, i] != 0 and index1 != 0:\n",
        "                index2 = i + 1\n",
        "                break\n",
        "        J[index1 - 1, index2 - 1] += v[j, index1 - 1] * v[j, index2 - 1]\n",
        "        h[index1 - 1] += -v[j, index1 - 1]\n",
        "        h[index2 - 1] += -v[j, index2 - 1]\n",
        "    return J, h\n",
        "\n",
        "n = 10 \n",
        "m = 10\n",
        "k = 2\n",
        "sat_instance = generate_pycosat(n, m , k)\n",
        "\n",
        "\n",
        "\n"
      ],
      "execution_count": null,
      "outputs": []
    },
    {
      "cell_type": "code",
      "metadata": {
        "id": "hWDsMeaRlPjY",
        "colab_type": "code",
        "colab": {
          "base_uri": "https://localhost:8080/",
          "height": 412
        },
        "outputId": "bc501fc3-5756-45de-8486-441fd15bfc79"
      },
      "source": [
        "import itertools\n",
        "import os\n",
        "import tensorflow as tf\n",
        "from neuralheuristicsforsat.helpers import chunkIt, save_to_csv\n",
        "import time\n",
        "\n",
        "\n",
        "def predict():\n",
        "    complexity = 50\n",
        "    tfrecord_location = '/content/neuralheuristicsforsat/sat-experiments/sr_50/train_1000_sr_50.tfrecord'\n",
        "    #filename = os.path.join(tfrecord_location, name)\n",
        "\n",
        "    record_iterator = tf.python_io.tf_record_iterator(path=tfrecord_location)\n",
        "    preds = []\n",
        "    #targes = []\n",
        "    batch_size = 100\n",
        "    n = 50\n",
        "\n",
        "    train_set = {'cnf': list(), 'sat': list()}\n",
        "    sim_results = list()\n",
        "    w = 0\n",
        "\n",
        "    for string_record in itertools.islice(record_iterator, batch_size):\n",
        "        example = tf.train.Example()\n",
        "        example.ParseFromString(string_record)\n",
        "        \n",
        "\n",
        "        m = len(example.features.feature[\"inputs\"].float_list.value) // 2\n",
        "        \n",
        "        inputs = chunkIt(example.features.feature[\"inputs\"].float_list.value, m) #split examp: [0,1,2,3,4,5] into [0,1], [2,3], [4,5]\n",
        "        print(inputs)\n",
        "\n",
        "\n",
        "        train_set['cnf'].append(inputs)\n",
        "        targ = int(example.features.feature[\"sat\"].float_list.value[0])\n",
        "        train_set['sat'].append(targ)\n",
        "\n",
        "        start = time.time()\n",
        "\n",
        "        qubo, const = formulate(inputs, complexity)\n",
        "        \n",
        "        # WQ\n",
        "        bin_vector_wildqat = wq_solve(inputs, qubo) \n",
        "        sim_result = (np.dot(bin_vector_wildqat, np.dot(qubo, bin_vector_wildqat)) + const == 0)\n",
        "        #pycosat\n",
        "        pycosat_res = pycosat.solve(inputs) != 'UNSAT'\n",
        "        # dwave\n",
        "        print(m)\n",
        "        bin_vector_dw = dw_solve(inputs, qubo, n, m)\n",
        "        dw_result = np.dot(bin_vector_dw, np.dot(qubo, bin_vector_dw)) + const == 0\n",
        "        #if np.dot(bin_vector_wildqat, np.dot(qubo, bin_vector_wildqat)) + const == 0:\n",
        "        #    w = w + 1\n",
        "\n",
        "        end = time.time()\n",
        "        \n",
        "        \n",
        "        save_to_csv(file_name='logs_', data=[[m, m/n, bin_vector_wildqat, sim_result, dw_result, targ, end - start]], n=n)\n",
        "\n",
        "        sim_results.append(sim_result)\n",
        "        \n",
        "\n",
        "    return (sim_results, train_set)\n",
        "\n",
        "predict()"
      ],
      "execution_count": null,
      "outputs": [
        {
          "output_type": "stream",
          "text": [
            "[[49, -26], [-5, -11], [9, 43], [-24, -13], [-15, 12], [-44, -10], [-46, 45], [-2, 46], [35, 45], [17, 19], [-1, -2], [19, -13], [-25, 43], [-15, -40], [-8, -25], [-24, -39], [-31, 1], [-10, 42], [-15, -2], [9, -9], [-23, -19], [44, 26], [15, -20], [-50, 21], [36, -7], [-27, -25], [34, 20], [3, 13], [22, 10], [5, -36], [-14, 7], [41, 11], [-50, 38], [-6, 18], [-14, 40], [40, 16], [-49, -15], [-11, -34], [46, 42], [30, -44], [-5, 18], [-2, -7], [-14, -15], [15, 15], [-3, 31], [42, -47], [-49, 13], [22, -17], [-26, -50], [28, 12], [-19, 19], [-49, -9], [-41, -11], [-15, 17], [23, 49], [-10, 29], [46, -9], [28, 20], [-6, 43], [-30, -25], [30, -48], [-19, 19], [16, 46], [-4, 49], [2, 49], [30, -32], [-46, 16], [-41, -41], [-41, 16], [41, 14], [-28, 27], [-21, 15], [23, 35], [28, 32], [24, -26], [13, -44], [6, -29], [32, -23], [4, -43], [27, 12], [-8, 24], [-37, 22], [-3, -36], [-30, 37], [25, 4], [21, -3], [-25, 14]]\n",
            "87\n"
          ],
          "name": "stdout"
        },
        {
          "output_type": "error",
          "ename": "NameError",
          "evalue": "ignored",
          "traceback": [
            "\u001b[0;31m---------------------------------------------------------------------------\u001b[0m",
            "\u001b[0;31mNameError\u001b[0m                                 Traceback (most recent call last)",
            "\u001b[0;32m<ipython-input-48-69b6fc1d50ea>\u001b[0m in \u001b[0;36m<module>\u001b[0;34m()\u001b[0m\n\u001b[1;32m     62\u001b[0m     \u001b[0;32mreturn\u001b[0m \u001b[0;34m(\u001b[0m\u001b[0msim_results\u001b[0m\u001b[0;34m,\u001b[0m \u001b[0mtrain_set\u001b[0m\u001b[0;34m)\u001b[0m\u001b[0;34m\u001b[0m\u001b[0;34m\u001b[0m\u001b[0m\n\u001b[1;32m     63\u001b[0m \u001b[0;34m\u001b[0m\u001b[0m\n\u001b[0;32m---> 64\u001b[0;31m \u001b[0mpredict\u001b[0m\u001b[0;34m(\u001b[0m\u001b[0;34m)\u001b[0m\u001b[0;34m\u001b[0m\u001b[0;34m\u001b[0m\u001b[0m\n\u001b[0m",
            "\u001b[0;32m<ipython-input-48-69b6fc1d50ea>\u001b[0m in \u001b[0;36mpredict\u001b[0;34m()\u001b[0m\n\u001b[1;32m     47\u001b[0m         \u001b[0;31m# dwave\u001b[0m\u001b[0;34m\u001b[0m\u001b[0;34m\u001b[0m\u001b[0;34m\u001b[0m\u001b[0m\n\u001b[1;32m     48\u001b[0m         \u001b[0mprint\u001b[0m\u001b[0;34m(\u001b[0m\u001b[0mm\u001b[0m\u001b[0;34m)\u001b[0m\u001b[0;34m\u001b[0m\u001b[0;34m\u001b[0m\u001b[0m\n\u001b[0;32m---> 49\u001b[0;31m         \u001b[0mbin_vector_dw\u001b[0m \u001b[0;34m=\u001b[0m \u001b[0mdw_solve\u001b[0m\u001b[0;34m(\u001b[0m\u001b[0minputs\u001b[0m\u001b[0;34m,\u001b[0m \u001b[0mqubo\u001b[0m\u001b[0;34m,\u001b[0m \u001b[0mn\u001b[0m\u001b[0;34m,\u001b[0m \u001b[0mm\u001b[0m\u001b[0;34m)\u001b[0m\u001b[0;34m\u001b[0m\u001b[0;34m\u001b[0m\u001b[0m\n\u001b[0m\u001b[1;32m     50\u001b[0m         \u001b[0mdw_result\u001b[0m \u001b[0;34m=\u001b[0m \u001b[0mnp\u001b[0m\u001b[0;34m.\u001b[0m\u001b[0mdot\u001b[0m\u001b[0;34m(\u001b[0m\u001b[0mbin_vector_dw\u001b[0m\u001b[0;34m,\u001b[0m \u001b[0mnp\u001b[0m\u001b[0;34m.\u001b[0m\u001b[0mdot\u001b[0m\u001b[0;34m(\u001b[0m\u001b[0mqubo\u001b[0m\u001b[0;34m,\u001b[0m \u001b[0mbin_vector_dw\u001b[0m\u001b[0;34m)\u001b[0m\u001b[0;34m)\u001b[0m \u001b[0;34m+\u001b[0m \u001b[0mconst\u001b[0m \u001b[0;34m==\u001b[0m \u001b[0;36m0\u001b[0m\u001b[0;34m\u001b[0m\u001b[0;34m\u001b[0m\u001b[0m\n\u001b[1;32m     51\u001b[0m         \u001b[0;31m#if np.dot(bin_vector_wildqat, np.dot(qubo, bin_vector_wildqat)) + const == 0:\u001b[0m\u001b[0;34m\u001b[0m\u001b[0;34m\u001b[0m\u001b[0;34m\u001b[0m\u001b[0m\n",
            "\u001b[0;32m<ipython-input-45-faf41ea6098a>\u001b[0m in \u001b[0;36mdw_solve\u001b[0;34m(formulas, qubo, N, alpha)\u001b[0m\n\u001b[1;32m     17\u001b[0m \u001b[0;34m\u001b[0m\u001b[0m\n\u001b[1;32m     18\u001b[0m \u001b[0;34m\u001b[0m\u001b[0m\n\u001b[0;32m---> 19\u001b[0;31m     \u001b[0msampler\u001b[0m \u001b[0;34m=\u001b[0m \u001b[0mEmbeddingComposite\u001b[0m\u001b[0;34m(\u001b[0m\u001b[0mDWaveSampler\u001b[0m\u001b[0;34m(\u001b[0m\u001b[0mtoken\u001b[0m\u001b[0;34m=\u001b[0m\u001b[0mtoken\u001b[0m\u001b[0;34m)\u001b[0m\u001b[0;34m)\u001b[0m\u001b[0;34m\u001b[0m\u001b[0;34m\u001b[0m\u001b[0m\n\u001b[0m\u001b[1;32m     20\u001b[0m     \u001b[0;31m#h = {'a': -1., 'b': 2} # przykladowe dane\u001b[0m\u001b[0;34m\u001b[0m\u001b[0;34m\u001b[0m\u001b[0;34m\u001b[0m\u001b[0m\n\u001b[1;32m     21\u001b[0m     \u001b[0;31m#J = {('a', 'b'): 1.5} # przykładowe dane\u001b[0m\u001b[0;34m\u001b[0m\u001b[0;34m\u001b[0m\u001b[0;34m\u001b[0m\u001b[0m\n",
            "\u001b[0;31mNameError\u001b[0m: name 'EmbeddingComposite' is not defined"
          ]
        }
      ]
    },
    {
      "cell_type": "code",
      "metadata": {
        "id": "SB8pULqpilEE",
        "colab_type": "code",
        "colab": {
          "base_uri": "https://localhost:8080/",
          "height": 302
        },
        "outputId": "b3aeabc2-4e88-4bce-cae3-b3bf410911f4"
      },
      "source": [
        "import wildqat as wq\n",
        "import pycosat\n",
        "from dwave.system.samplers import DWaveSample\n",
        "from dwave.system.composites import EmbeddingComposite\n",
        "\n",
        "def dw_solve(formulas, qubo, N, alpha):\n",
        "    matrix = data_to_matrix(alpha, N, formulas)\n",
        "    J, h = ising_params(alpha, N, matrix)\n",
        "    token = \"DEV-8bd0e05a8d9f1047675ff5d747d12bcc3c6ea3c2\"\n",
        "\n",
        "    h2  = { i: k for i, k in enumerate(h) }\n",
        "\n",
        "    J2 = {}\n",
        "    for i, x in enumerate(J):\n",
        "        for j,m in enumerate(x):\n",
        "            if m !=0:\n",
        "                J2[(i,j)] = m\n",
        "\n",
        "\n",
        "    sampler = EmbeddingComposite(DWaveSampler(token=token))\n",
        "    #h = {'a': -1., 'b': 2} # przykladowe dane\n",
        "    #J = {('a', 'b'): 1.5} # przykładowe dane\n",
        "    sampleset = sampler.sample_ising(h2, J2)\n",
        "    \n",
        "\n",
        "    for sample in sampleset.samples():\n",
        "        result = (sample)\n",
        "    x = [1 if spin == 1 else 0 for key, spin in result.items()]\n",
        "\n",
        "    return x\n",
        "\n",
        "def wq_solve(formulas, qubo):\n",
        "    wildqat_instance = wq.opt()\n",
        "    wildqat_instance.qubo = qubo\n",
        "\n",
        "    bin_vector_wildqat = wildqat_instance.sa()\n",
        "\n",
        "    return bin_vector_wildqat"
      ],
      "execution_count": null,
      "outputs": [
        {
          "output_type": "error",
          "ename": "AttributeError",
          "evalue": "ignored",
          "traceback": [
            "\u001b[0;31m---------------------------------------------------------------------------\u001b[0m",
            "\u001b[0;31mAttributeError\u001b[0m                            Traceback (most recent call last)",
            "\u001b[0;32m<ipython-input-51-f716fa40206f>\u001b[0m in \u001b[0;36m<module>\u001b[0;34m()\u001b[0m\n\u001b[1;32m      1\u001b[0m \u001b[0;32mimport\u001b[0m \u001b[0mwildqat\u001b[0m \u001b[0;32mas\u001b[0m \u001b[0mwq\u001b[0m\u001b[0;34m\u001b[0m\u001b[0;34m\u001b[0m\u001b[0m\n\u001b[1;32m      2\u001b[0m \u001b[0;32mimport\u001b[0m \u001b[0mpycosat\u001b[0m\u001b[0;34m\u001b[0m\u001b[0;34m\u001b[0m\u001b[0m\n\u001b[0;32m----> 3\u001b[0;31m \u001b[0;32mfrom\u001b[0m \u001b[0mdwave\u001b[0m\u001b[0;34m.\u001b[0m\u001b[0msystem\u001b[0m\u001b[0;34m.\u001b[0m\u001b[0msamplers\u001b[0m \u001b[0;32mimport\u001b[0m \u001b[0mDWaveSample\u001b[0m\u001b[0;34m\u001b[0m\u001b[0;34m\u001b[0m\u001b[0m\n\u001b[0m\u001b[1;32m      4\u001b[0m \u001b[0;32mfrom\u001b[0m \u001b[0mdwave\u001b[0m\u001b[0;34m.\u001b[0m\u001b[0msystem\u001b[0m\u001b[0;34m.\u001b[0m\u001b[0mcomposites\u001b[0m \u001b[0;32mimport\u001b[0m \u001b[0mEmbeddingComposite\u001b[0m\u001b[0;34m\u001b[0m\u001b[0;34m\u001b[0m\u001b[0m\n\u001b[1;32m      5\u001b[0m \u001b[0;34m\u001b[0m\u001b[0m\n",
            "\u001b[0;32m/usr/local/lib/python3.6/dist-packages/dwave/system/__init__.py\u001b[0m in \u001b[0;36m<module>\u001b[0;34m()\u001b[0m\n\u001b[1;32m     14\u001b[0m \u001b[0;31m#\u001b[0m\u001b[0;34m\u001b[0m\u001b[0;34m\u001b[0m\u001b[0;34m\u001b[0m\u001b[0m\n\u001b[1;32m     15\u001b[0m \u001b[0;31m# =============================================================================\u001b[0m\u001b[0;34m\u001b[0m\u001b[0;34m\u001b[0m\u001b[0;34m\u001b[0m\u001b[0m\n\u001b[0;32m---> 16\u001b[0;31m \u001b[0;32mimport\u001b[0m \u001b[0mdwave\u001b[0m\u001b[0;34m.\u001b[0m\u001b[0msystem\u001b[0m\u001b[0;34m.\u001b[0m\u001b[0mflux_bias_offsets\u001b[0m\u001b[0;34m\u001b[0m\u001b[0;34m\u001b[0m\u001b[0m\n\u001b[0m\u001b[1;32m     17\u001b[0m \u001b[0;34m\u001b[0m\u001b[0m\n\u001b[1;32m     18\u001b[0m \u001b[0;32mfrom\u001b[0m \u001b[0mdwave\u001b[0m\u001b[0;34m.\u001b[0m\u001b[0msystem\u001b[0m\u001b[0;34m.\u001b[0m\u001b[0msamplers\u001b[0m \u001b[0;32mimport\u001b[0m \u001b[0;34m*\u001b[0m\u001b[0;34m\u001b[0m\u001b[0;34m\u001b[0m\u001b[0m\n",
            "\u001b[0;32m/usr/local/lib/python3.6/dist-packages/dwave/system/flux_bias_offsets.py\u001b[0m in \u001b[0;36m<module>\u001b[0;34m()\u001b[0m\n\u001b[1;32m     17\u001b[0m \u001b[0;32mimport\u001b[0m \u001b[0mwarnings\u001b[0m\u001b[0;34m\u001b[0m\u001b[0;34m\u001b[0m\u001b[0m\n\u001b[1;32m     18\u001b[0m \u001b[0;34m\u001b[0m\u001b[0m\n\u001b[0;32m---> 19\u001b[0;31m \u001b[0;32mimport\u001b[0m \u001b[0mdimod\u001b[0m\u001b[0;34m\u001b[0m\u001b[0;34m\u001b[0m\u001b[0m\n\u001b[0m\u001b[1;32m     20\u001b[0m \u001b[0;34m\u001b[0m\u001b[0m\n\u001b[1;32m     21\u001b[0m \u001b[0;32mfrom\u001b[0m \u001b[0mdwave\u001b[0m\u001b[0;34m.\u001b[0m\u001b[0msystem\u001b[0m\u001b[0;34m.\u001b[0m\u001b[0mcache\u001b[0m\u001b[0;34m.\u001b[0m\u001b[0mdatabase_manager\u001b[0m \u001b[0;32mimport\u001b[0m \u001b[0mget_flux_biases_from_cache\u001b[0m\u001b[0;34m,\u001b[0m \u001b[0mcache_connect\u001b[0m\u001b[0;34m,\u001b[0m \u001b[0minsert_flux_bias\u001b[0m\u001b[0;34m\u001b[0m\u001b[0;34m\u001b[0m\u001b[0m\n",
            "\u001b[0;32m/usr/local/lib/python3.6/dist-packages/dimod/__init__.py\u001b[0m in \u001b[0;36m<module>\u001b[0;34m()\u001b[0m\n\u001b[1;32m     17\u001b[0m \u001b[0;32mfrom\u001b[0m \u001b[0m__future__\u001b[0m \u001b[0;32mimport\u001b[0m \u001b[0mabsolute_import\u001b[0m\u001b[0;34m\u001b[0m\u001b[0;34m\u001b[0m\u001b[0m\n\u001b[1;32m     18\u001b[0m \u001b[0;34m\u001b[0m\u001b[0m\n\u001b[0;32m---> 19\u001b[0;31m \u001b[0;32mfrom\u001b[0m \u001b[0mdimod\u001b[0m\u001b[0;34m.\u001b[0m\u001b[0mbqm\u001b[0m \u001b[0;32mimport\u001b[0m \u001b[0;34m*\u001b[0m\u001b[0;34m\u001b[0m\u001b[0;34m\u001b[0m\u001b[0m\n\u001b[0m\u001b[1;32m     20\u001b[0m \u001b[0;34m\u001b[0m\u001b[0m\n\u001b[1;32m     21\u001b[0m \u001b[0;32mfrom\u001b[0m \u001b[0mdimod\u001b[0m\u001b[0;34m.\u001b[0m\u001b[0mcore\u001b[0m \u001b[0;32mimport\u001b[0m \u001b[0;34m*\u001b[0m\u001b[0;34m\u001b[0m\u001b[0;34m\u001b[0m\u001b[0m\n",
            "\u001b[0;32m/usr/local/lib/python3.6/dist-packages/dimod/bqm/__init__.py\u001b[0m in \u001b[0;36m<module>\u001b[0;34m()\u001b[0m\n\u001b[1;32m     14\u001b[0m \u001b[0;31m#\u001b[0m\u001b[0;34m\u001b[0m\u001b[0;34m\u001b[0m\u001b[0;34m\u001b[0m\u001b[0m\n\u001b[1;32m     15\u001b[0m \u001b[0;31m# =============================================================================\u001b[0m\u001b[0;34m\u001b[0m\u001b[0;34m\u001b[0m\u001b[0;34m\u001b[0m\u001b[0m\n\u001b[0;32m---> 16\u001b[0;31m \u001b[0;32mfrom\u001b[0m \u001b[0mdimod\u001b[0m\u001b[0;34m.\u001b[0m\u001b[0mbqm\u001b[0m\u001b[0;34m.\u001b[0m\u001b[0madjarraybqm\u001b[0m \u001b[0;32mimport\u001b[0m \u001b[0mAdjArrayBQM\u001b[0m\u001b[0;34m\u001b[0m\u001b[0;34m\u001b[0m\u001b[0m\n\u001b[0m\u001b[1;32m     17\u001b[0m \u001b[0;32mfrom\u001b[0m \u001b[0mdimod\u001b[0m\u001b[0;34m.\u001b[0m\u001b[0mbqm\u001b[0m\u001b[0;34m.\u001b[0m\u001b[0madjdictbqm\u001b[0m \u001b[0;32mimport\u001b[0m \u001b[0mAdjDictBQM\u001b[0m\u001b[0;34m\u001b[0m\u001b[0;34m\u001b[0m\u001b[0m\n\u001b[1;32m     18\u001b[0m \u001b[0;32mfrom\u001b[0m \u001b[0mdimod\u001b[0m\u001b[0;34m.\u001b[0m\u001b[0mbqm\u001b[0m\u001b[0;34m.\u001b[0m\u001b[0madjmapbqm\u001b[0m \u001b[0;32mimport\u001b[0m \u001b[0mAdjMapBQM\u001b[0m\u001b[0;34m\u001b[0m\u001b[0;34m\u001b[0m\u001b[0m\n",
            "\u001b[0;32m/usr/local/lib/python3.6/dist-packages/dimod/bqm/adjarraybqm.pyx\u001b[0m in \u001b[0;36minit dimod.bqm.adjarraybqm\u001b[0;34m()\u001b[0m\n",
            "\u001b[0;31mAttributeError\u001b[0m: type object 'dimod.bqm.adjarraybqm.cyAdjArrayBQM' has no attribute '__reduce_cython__'"
          ]
        }
      ]
    },
    {
      "cell_type": "code",
      "metadata": {
        "id": "IvolJrWbn9N4",
        "colab_type": "code",
        "colab": {
          "base_uri": "https://localhost:8080/",
          "height": 35
        },
        "outputId": "f0efa4f2-8e66-4bd7-fafa-e10444a3d311"
      },
      "source": [
        "!pip upgrade "
      ],
      "execution_count": null,
      "outputs": [
        {
          "output_type": "execute_result",
          "data": {
            "text/plain": [
              "'1.18.3'"
            ]
          },
          "metadata": {
            "tags": []
          },
          "execution_count": 53
        }
      ]
    }
  ]
}
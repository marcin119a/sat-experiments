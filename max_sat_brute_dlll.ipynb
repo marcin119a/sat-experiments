{
  "nbformat": 4,
  "nbformat_minor": 0,
  "metadata": {
    "colab": {
      "name": "max-sat-brute-dlll.ipynb",
      "provenance": [],
      "collapsed_sections": []
    },
    "kernelspec": {
      "name": "python3",
      "display_name": "Python 3"
    }
  },
  "cells": [
    {
      "cell_type": "code",
      "metadata": {
        "id": "SN88kOygaX4D",
        "colab_type": "code",
        "colab": {
          "base_uri": "https://localhost:8080/",
          "height": 142
        },
        "outputId": "cc07668e-4cc6-482e-d07e-6f6db250c83e"
      },
      "source": [
        "!git clone https://github.com/marcin119a/sat-experiments.git"
      ],
      "execution_count": null,
      "outputs": [
        {
          "output_type": "stream",
          "text": [
            "Cloning into 'sat-experiments'...\n",
            "remote: Enumerating objects: 44, done.\u001b[K\n",
            "remote: Counting objects: 100% (44/44), done.\u001b[K\n",
            "remote: Compressing objects: 100% (42/42), done.\u001b[K\n",
            "remote: Total 181 (delta 24), reused 0 (delta 0), pack-reused 137\u001b[K\n",
            "Receiving objects: 100% (181/181), 11.44 MiB | 11.87 MiB/s, done.\n",
            "Resolving deltas: 100% (74/74), done.\n"
          ],
          "name": "stdout"
        }
      ]
    },
    {
      "cell_type": "code",
      "metadata": {
        "id": "jVtcr2tJakT9",
        "colab_type": "code",
        "colab": {
          "base_uri": "https://localhost:8080/",
          "height": 430
        },
        "outputId": "af176d1a-27ef-4a75-a5cc-7c8a8c10d208"
      },
      "source": [
        "%cd /content/sat-experiments/akmaxsat_1.1\n",
        "!make"
      ],
      "execution_count": null,
      "outputs": [
        {
          "output_type": "stream",
          "text": [
            "/content/sat-experiments/akmaxsat_1.1\n",
            "g++ -O3 -Wall -ansi -fomit-frame-pointer -funroll-loops -DNDEBUG  restore_list.cpp -c -o restore_list.o\n",
            "g++ -O3 -Wall -ansi -fomit-frame-pointer -funroll-loops -DNDEBUG  clauses.cpp -c -o clauses.o\n",
            "g++ -O3 -Wall -ansi -fomit-frame-pointer -funroll-loops -DNDEBUG  akmaxsat.cpp -o akmaxsat restore_list.o clauses.o\n",
            "\u001b[01m\u001b[Kakmaxsat.cpp:\u001b[m\u001b[K In function ‘\u001b[01m\u001b[Kvoid fast_backtrack(CNF_Formula<long long int>&)\u001b[m\u001b[K’:\n",
            "\u001b[01m\u001b[Kakmaxsat.cpp:274:6:\u001b[m\u001b[K \u001b[01;35m\u001b[Kwarning: \u001b[m\u001b[Kunused variable ‘\u001b[01m\u001b[KL\u001b[m\u001b[K’ [\u001b[01;35m\u001b[K-Wunused-variable\u001b[m\u001b[K]\n",
            "  int \u001b[01;35m\u001b[KL\u001b[m\u001b[K, p;\n",
            "      \u001b[01;35m\u001b[K^\u001b[m\u001b[K\n",
            "\u001b[01m\u001b[Kakmaxsat.cpp:278:7:\u001b[m\u001b[K \u001b[01;35m\u001b[Kwarning: \u001b[m\u001b[Kvariable ‘\u001b[01m\u001b[Kdo_lb_calc\u001b[m\u001b[K’ set but not used [\u001b[01;35m\u001b[K-Wunused-but-set-variable\u001b[m\u001b[K]\n",
            "  bool \u001b[01;35m\u001b[Kdo_lb_calc\u001b[m\u001b[K = false;//cf.getNVars() <= 200 || (cf.getBestCost() < cf.getHardWeight());\n",
            "       \u001b[01;35m\u001b[K^~~~~~~~~~\u001b[m\u001b[K\n",
            "\u001b[01m\u001b[Kakmaxsat.cpp:279:7:\u001b[m\u001b[K \u001b[01;35m\u001b[Kwarning: \u001b[m\u001b[Kvariable ‘\u001b[01m\u001b[Kfirstlb\u001b[m\u001b[K’ set but not used [\u001b[01;35m\u001b[K-Wunused-but-set-variable\u001b[m\u001b[K]\n",
            "  bool \u001b[01;35m\u001b[Kfirstlb\u001b[m\u001b[K = true;\n",
            "       \u001b[01;35m\u001b[K^~~~~~~\u001b[m\u001b[K\n",
            "In file included from \u001b[01m\u001b[Kakmaxsat.cpp:35:0\u001b[m\u001b[K:\n",
            "cnf_formula.hpp: In instantiation of ‘\u001b[01m\u001b[Kbool CNF_Formula<TL>::detectConflictFl(bool&, int&, int&) [with TL = long long int]\u001b[m\u001b[K’:\n",
            "\u001b[01m\u001b[Kcnf_formula.hpp:2129:25:\u001b[m\u001b[K   required from ‘\u001b[01m\u001b[Kvoid CNF_Formula<TL>::generalized_unit_propagation() [with TL = long long int]\u001b[m\u001b[K’\n",
            "\u001b[01m\u001b[Kcnf_formula.hpp:2802:32:\u001b[m\u001b[K   required from ‘\u001b[01m\u001b[KULL CNF_Formula<TL>::bestMinusLowerBound() [with TL = long long int; ULL = long long unsigned int]\u001b[m\u001b[K’\n",
            "\u001b[01m\u001b[Kakmaxsat.cpp:319:31:\u001b[m\u001b[K   required from here\n",
            "\u001b[01m\u001b[Kcnf_formula.hpp:1560:10:\u001b[m\u001b[K \u001b[01;35m\u001b[Kwarning: \u001b[m\u001b[Kvariable ‘\u001b[01m\u001b[KfL\u001b[m\u001b[K’ set but not used [\u001b[01;35m\u001b[K-Wunused-but-set-variable\u001b[m\u001b[K]\n",
            "   int L, \u001b[01;35m\u001b[KfL\u001b[m\u001b[K;\n",
            "          \u001b[01;35m\u001b[K^~\u001b[m\u001b[K\n"
          ],
          "name": "stdout"
        }
      ]
    },
    {
      "cell_type": "code",
      "metadata": {
        "id": "TxsxOM2-E5sk",
        "colab_type": "code",
        "colab": {
          "base_uri": "https://localhost:8080/",
          "height": 178
        },
        "outputId": "30cc1f12-04b7-434d-88c3-d6a4b9606de6"
      },
      "source": [
        "!/content/sat-experiments/akmaxsat_1.1/akmaxsat /content/sat-experiments/akmaxsat_1.1/input_formulas/a4.txt"
      ],
      "execution_count": null,
      "outputs": [
        {
          "output_type": "stream",
          "text": [
            "c Number of variables occuring in the formula: 5 max variable = 40 -> remapping\n",
            "c first lower bound: 0\n",
            "o 0\n",
            "c 0 branches 5 propagates\n",
            "c ** akmaxsat time = 0.000058000000 seconds\n",
            "c total generalized unit propagation = 5, success = 0.00%\n",
            "s OPTIMUM FOUND\n",
            "c Optimal Solution = 0\n",
            "v 1 2 3 4 5 17 7 8 9 10 11 12 13 14 15 16 6 18 -19 20 21 22 23 24 25 26 27 28 29 30 31 32 33 34 35 36 37 38 39 40\n"
          ],
          "name": "stdout"
        }
      ]
    },
    {
      "cell_type": "code",
      "metadata": {
        "id": "eeB13DfaE6f6",
        "colab_type": "code",
        "colab": {
          "base_uri": "https://localhost:8080/",
          "height": 35
        },
        "outputId": "72651d2d-94ac-4ea1-9d37-14552fc4227e"
      },
      "source": [
        "%cd /content/sat-experiments"
      ],
      "execution_count": null,
      "outputs": [
        {
          "output_type": "stream",
          "text": [
            "/content/sat-experiments\n"
          ],
          "name": "stdout"
        }
      ]
    },
    {
      "cell_type": "code",
      "metadata": {
        "id": "r7aPPHl0MqCu",
        "colab_type": "code",
        "colab": {
          "base_uri": "https://localhost:8080/",
          "height": 231
        },
        "outputId": "914255c3-90d1-416e-e83d-05d97c53e27f"
      },
      "source": [
        "!git pull origin master"
      ],
      "execution_count": null,
      "outputs": [
        {
          "output_type": "stream",
          "text": [
            "remote: Enumerating objects: 5, done.\u001b[K\n",
            "remote: Counting objects:  20% (1/5)\u001b[K\rremote: Counting objects:  40% (2/5)\u001b[K\rremote: Counting objects:  60% (3/5)\u001b[K\rremote: Counting objects:  80% (4/5)\u001b[K\rremote: Counting objects: 100% (5/5)\u001b[K\rremote: Counting objects: 100% (5/5), done.\u001b[K\n",
            "remote: Compressing objects:  33% (1/3)\u001b[K\rremote: Compressing objects:  66% (2/3)\u001b[K\rremote: Compressing objects: 100% (3/3)\u001b[K\rremote: Compressing objects: 100% (3/3), done.\u001b[K\n",
            "remote: Total 3 (delta 2), reused 0 (delta 0), pack-reused 0\u001b[K\n",
            "Unpacking objects:  33% (1/3)   \rUnpacking objects:  66% (2/3)   \rUnpacking objects: 100% (3/3)   \rUnpacking objects: 100% (3/3), done.\n",
            "From https://github.com/marcin119a/sat-experiments\n",
            " * branch            master     -> FETCH_HEAD\n",
            "   bb951aa..ac7046e  master     -> origin/master\n",
            "Updating bb951aa..ac7046e\n",
            "Fast-forward\n",
            " maxsat.py | 2 \u001b[32m+\u001b[m\u001b[31m-\u001b[m\n",
            " 1 file changed, 1 insertion(+), 1 deletion(-)\n"
          ],
          "name": "stdout"
        }
      ]
    },
    {
      "cell_type": "code",
      "metadata": {
        "id": "65KabJ39moG-",
        "colab_type": "code",
        "colab": {
          "base_uri": "https://localhost:8080/",
          "height": 126
        },
        "outputId": "3d74206d-a06f-47d9-cf7c-83d43c171a16"
      },
      "source": [
        "import itertools\n",
        "\n",
        "from importlib import reload\n",
        "from maxsat import akmaxsat_format_to_list, transform, akmaxsat_run, function_from_akmaxsat, brute_force_2_max_sat\n",
        "s = '/content/sat-experiments/akmaxsat_1.1/input_formulas/a40.txt'\n",
        "m, n, input = akmaxsat_format_to_list(s)\n",
        "\n",
        "\n",
        "cnf = transform(input)\n",
        "print(input)\n",
        "\n",
        "output = akmaxsat_run('/content/sat-experiments/akmaxsat_1.1/akmaxsat',s)\n",
        "\n",
        "literals = set()\n",
        "for conj in cnf:\n",
        "        for disj in conj:\n",
        "            literals.add(disj[0])\n",
        "\n",
        "print(output)\n",
        "\n",
        "check_cnf = [bool(disj.intersection(output)) for disj in cnf]\n",
        "print(check_cnf.count(True))\n",
        "print(check_cnf)\n",
        "x, MAX= brute_force_2_max_sat(cnf)\n",
        "print(MAX)"
      ],
      "execution_count": null,
      "outputs": [
        {
          "output_type": "stream",
          "text": [
            "[[6, -8], [-11, -14], [-4, -4], [17, -7], [16, 14], [-8, -18], [13, -2], [9, -12], [17, -13], [-3, 18], [20, 10], [-4, -9], [6, 16], [19, 18], [11, 5], [-19, 2], [17, -8], [-8, 13], [16, 20], [-9, -10], [-20, -6], [-9, 18], [15, -17], [6, 6], [-13, -5], [15, 4], [11, -1], [-20, 16], [-3, 4], [-1, -16], [15, -11], [19, -10], [-14, 10], [20, 1], [18, 20], [-7, 18], [-9, -13], [-1, 15], [-8, 8], [4, 8]]\n",
            "{('0000000029', True), ('0000000008', True), ('0000000022', True), ('0000000036', True), ('0000000019', True), ('0000000040', True), ('0000000018', False), ('0000000012', False), ('0000000010', False), ('0000000021', True), ('0000000028', True), ('0000000024', True), ('0000000030', True), ('0000000038', True), ('0000000039', True), ('0000000023', True), ('0000000003', False), ('0000000014', False), ('0000000004', False), ('0000000027', True), ('0000000009', False), ('0000000035', True), ('0000000015', True), ('0000000033', True), ('0000000002', True), ('0000000011', True), ('0000000031', True), ('0000000013', True), ('0000000037', True), ('0000000025', True), ('0000000020', True), ('0000000001', False), ('0000000026', True), ('0000000017', True), ('0000000007', False), ('0000000034', True), ('0000000032', True), ('0000000005', False), ('0000000006', True), ('0000000016', True)}\n",
            "39\n",
            "[True, True, True, True, True, True, True, True, True, True, True, True, True, True, True, True, True, True, True, True, False, True, True, True, True, True, True, True, True, True, True, True, True, True, True, True, True, True, True, True]\n",
            "39\n"
          ],
          "name": "stdout"
        }
      ]
    },
    {
      "cell_type": "code",
      "metadata": {
        "id": "oUFxqx4QLLp2",
        "colab_type": "code",
        "colab": {
          "base_uri": "https://localhost:8080/",
          "height": 249
        },
        "outputId": "2bd42a14-dc92-4bc3-d0a6-c9d262b48320"
      },
      "source": [
        "!git pull origin master"
      ],
      "execution_count": null,
      "outputs": [
        {
          "output_type": "stream",
          "text": [
            "remote: Enumerating objects: 12, done.\u001b[K\n",
            "remote: Counting objects:   8% (1/12)\u001b[K\rremote: Counting objects:  16% (2/12)\u001b[K\rremote: Counting objects:  25% (3/12)\u001b[K\rremote: Counting objects:  33% (4/12)\u001b[K\rremote: Counting objects:  41% (5/12)\u001b[K\rremote: Counting objects:  50% (6/12)\u001b[K\rremote: Counting objects:  58% (7/12)\u001b[K\rremote: Counting objects:  66% (8/12)\u001b[K\rremote: Counting objects:  75% (9/12)\u001b[K\rremote: Counting objects:  83% (10/12)\u001b[K\rremote: Counting objects:  91% (11/12)\u001b[K\rremote: Counting objects: 100% (12/12)\u001b[K\rremote: Counting objects: 100% (12/12), done.\u001b[K\n",
            "remote: Compressing objects:  10% (1/10)\u001b[K\rremote: Compressing objects:  20% (2/10)\u001b[K\rremote: Compressing objects:  30% (3/10)\u001b[K\rremote: Compressing objects:  40% (4/10)\u001b[K\rremote: Compressing objects:  50% (5/10)\u001b[K\rremote: Compressing objects:  60% (6/10)\u001b[K\rremote: Compressing objects:  70% (7/10)\u001b[K\rremote: Compressing objects:  80% (8/10)\u001b[K\rremote: Compressing objects:  90% (9/10)\u001b[K\rremote: Compressing objects: 100% (10/10)\u001b[K\rremote: Compressing objects: 100% (10/10), done.\u001b[K\n",
            "remote: Total 10 (delta 6), reused 0 (delta 0), pack-reused 0\u001b[K\n",
            "Unpacking objects:  10% (1/10)   \rUnpacking objects:  20% (2/10)   \rUnpacking objects:  30% (3/10)   \rUnpacking objects:  40% (4/10)   \rUnpacking objects:  50% (5/10)   \rUnpacking objects:  60% (6/10)   \rUnpacking objects:  70% (7/10)   \rUnpacking objects:  80% (8/10)   \rUnpacking objects:  90% (9/10)   \rUnpacking objects: 100% (10/10)   \rUnpacking objects: 100% (10/10), done.\n",
            "From https://github.com/marcin119a/sat-experiments\n",
            " * branch            master     -> FETCH_HEAD\n",
            "   cebdfae..7538dc4  master     -> origin/master\n",
            "Updating cebdfae..7538dc4\n",
            "error: Your local changes to the following files would be overwritten by merge:\n",
            "\tmaxsat.py\n",
            "Please commit your changes or stash them before you merge.\n",
            "Aborting\n"
          ],
          "name": "stdout"
        }
      ]
    },
    {
      "cell_type": "code",
      "metadata": {
        "id": "mIISY4TZX_0z",
        "colab_type": "code",
        "colab": {}
      },
      "source": [
        "def function_from_akmaxsat(assigment):\n",
        "  out = [int(x) for x in assigment.split(\" \")]\n",
        "  conj = set()\n",
        "  for x in out:\n",
        "      conj.add((\n",
        "        str(abs(x)).rjust(10, '0'),\n",
        "        bool(x > 0),\n",
        "      ))\n",
        "  return conj"
      ],
      "execution_count": null,
      "outputs": []
    },
    {
      "cell_type": "code",
      "metadata": {
        "id": "B9kdt4RQ06kz",
        "colab_type": "code",
        "colab": {}
      },
      "source": [
        "import random \n",
        "def random_kcnf(n_literals, n_conjuncts, k=2):\n",
        "    result = []\n",
        "    for _ in range(n_conjuncts):\n",
        "        conj = set()\n",
        "        for _ in range(k):\n",
        "            index = random.randint(0, n_literals)\n",
        "            conj.add((\n",
        "                str(index).rjust(10, '0'),\n",
        "                bool(random.randint(0,2)),\n",
        "            ))\n",
        "        result.append(conj)\n",
        "    return result\n"
      ],
      "execution_count": null,
      "outputs": []
    },
    {
      "cell_type": "code",
      "metadata": {
        "id": "JFSW3A-J09in",
        "colab_type": "code",
        "colab": {}
      },
      "source": [
        "ss = random_kcnf(n_literals=40, n_conjuncts=40)"
      ],
      "execution_count": null,
      "outputs": []
    },
    {
      "cell_type": "code",
      "metadata": {
        "id": "7lqkqr5KnMRq",
        "colab_type": "code",
        "colab": {
          "base_uri": "https://localhost:8080/",
          "height": 732
        },
        "outputId": "6c7237c0-8ba3-43ec-a63a-f613d51380ca"
      },
      "source": [
        "def check_variables(list):\n",
        "    result = []\n",
        "    for ind in range(list):\n",
        "        conj = set()\n",
        "        for _ in range(2):\n",
        "            index = ind\n",
        "            conj.add((\n",
        "                str(index).rjust(10, '0'),\n",
        "                bool(random.randint(0,2)),\n",
        "            ))\n",
        "        result.append(conj)\n",
        "    return result"
      ],
      "execution_count": null,
      "outputs": [
        {
          "output_type": "execute_result",
          "data": {
            "text/plain": [
              "[{('0000000027', True), ('0000000033', True)},\n",
              " {('0000000008', True), ('0000000027', True)},\n",
              " {('0000000006', True), ('0000000035', True)},\n",
              " {('0000000014', True), ('0000000023', False)},\n",
              " {('0000000002', True), ('0000000023', True)},\n",
              " {('0000000029', True), ('0000000039', True)},\n",
              " {('0000000009', True), ('0000000013', True)},\n",
              " {('0000000034', True), ('0000000040', False)},\n",
              " {('0000000014', True), ('0000000026', True)},\n",
              " {('0000000018', True), ('0000000021', False)},\n",
              " {('0000000003', False), ('0000000012', True)},\n",
              " {('0000000024', False), ('0000000037', True)},\n",
              " {('0000000015', True), ('0000000030', True)},\n",
              " {('0000000004', False), ('0000000021', True)},\n",
              " {('0000000011', True), ('0000000037', False)},\n",
              " {('0000000026', True), ('0000000027', True)},\n",
              " {('0000000006', True), ('0000000014', True)},\n",
              " {('0000000007', False), ('0000000022', True)},\n",
              " {('0000000031', True), ('0000000033', True)},\n",
              " {('0000000031', True), ('0000000034', True)},\n",
              " {('0000000010', False), ('0000000039', True)},\n",
              " {('0000000007', True), ('0000000022', False)},\n",
              " {('0000000013', True), ('0000000027', False)},\n",
              " {('0000000019', True), ('0000000027', True)},\n",
              " {('0000000031', True), ('0000000033', False)},\n",
              " {('0000000002', True), ('0000000040', False)},\n",
              " {('0000000001', True), ('0000000011', True)},\n",
              " {('0000000003', False), ('0000000022', False)},\n",
              " {('0000000015', True), ('0000000024', True)},\n",
              " {('0000000003', True), ('0000000015', True)},\n",
              " {('0000000012', True), ('0000000017', True)},\n",
              " {('0000000018', True), ('0000000039', True)},\n",
              " {('0000000019', False), ('0000000020', False)},\n",
              " {('0000000023', False), ('0000000029', True)},\n",
              " {('0000000031', True), ('0000000040', False)},\n",
              " {('0000000013', True), ('0000000021', False)},\n",
              " {('0000000014', False), ('0000000028', False)},\n",
              " {('0000000007', False), ('0000000014', True)},\n",
              " {('0000000018', False), ('0000000027', True)},\n",
              " {('0000000010', True), ('0000000021', True)}]"
            ]
          },
          "metadata": {
            "tags": []
          },
          "execution_count": 14
        }
      ]
    },
    {
      "cell_type": "code",
      "metadata": {
        "id": "HGtW4VcD9XzI",
        "colab_type": "code",
        "colab": {}
      },
      "source": [
        "lista = [[1,2],[1,-2],[-1,2],[-1,-2]]"
      ],
      "execution_count": null,
      "outputs": []
    },
    {
      "cell_type": "code",
      "metadata": {
        "id": "ggpUFVYY9q0W",
        "colab_type": "code",
        "colab": {}
      },
      "source": [
        "def transform(lista):\n",
        "  result = []\n",
        "  for cnf in lista:\n",
        "    conj = set()\n",
        "    for omega in cnf:\n",
        "      index = abs(omega)\n",
        "      neg = (omega > 0)\n",
        "      conj.add((str(index).rjust(10, '0'), neg ))\n",
        "    result.append(conj)\n",
        "  return result\n",
        "  "
      ],
      "execution_count": null,
      "outputs": []
    },
    {
      "cell_type": "code",
      "metadata": {
        "id": "ca37fEuv-Kj_",
        "colab_type": "code",
        "colab": {}
      },
      "source": [
        "s = (transform(lista))"
      ],
      "execution_count": null,
      "outputs": []
    },
    {
      "cell_type": "code",
      "metadata": {
        "id": "RV7UT0jV3b39",
        "colab_type": "code",
        "colab": {}
      },
      "source": [
        "s = [{('0000000000', True), ('0000000001', True)}, {('0000000000', True), ('0000000001', False)},{('0000000000', False), ('0000000001', True)}, {('0000000000', False), ('0000000001', False)}]"
      ],
      "execution_count": null,
      "outputs": []
    },
    {
      "cell_type": "code",
      "metadata": {
        "id": "vHGiiKFB4Gmm",
        "colab_type": "code",
        "colab": {}
      },
      "source": [
        "x,y =brute_force_2_max_sat(s)"
      ],
      "execution_count": null,
      "outputs": []
    },
    {
      "cell_type": "code",
      "metadata": {
        "id": "FL3ggywNZSyf",
        "colab_type": "code",
        "colab": {
          "base_uri": "https://localhost:8080/",
          "height": 35
        },
        "outputId": "135c8676-aa1a-43ad-e1a4-3d57d53ef806"
      },
      "source": [
        "y"
      ],
      "execution_count": null,
      "outputs": [
        {
          "output_type": "execute_result",
          "data": {
            "text/plain": [
              "3"
            ]
          },
          "metadata": {
            "tags": []
          },
          "execution_count": 94
        }
      ]
    },
    {
      "cell_type": "code",
      "metadata": {
        "id": "IPN7nhF18Bdn",
        "colab_type": "code",
        "colab": {
          "base_uri": "https://localhost:8080/",
          "height": 196
        },
        "outputId": "66872c13-9d76-4ed4-ff72-cc1b9b25b81a"
      },
      "source": [
        "def dpll(cnf, assignments={}):\n",
        " \n",
        "    if len(cnf) == 0:\n",
        "        return True, assignments\n",
        " \n",
        "    if any([len(c)==0 for c in cnf]):\n",
        "        return False, None\n",
        "    \n",
        "    l = __select_literal(cnf)\n",
        " \n",
        "    new_cnf = [c for c in cnf if (l, True) not in c]\n",
        "    new_cnf = [c.difference({(l, False)}) for c in new_cnf]\n",
        "    #print(new_cnf)\n",
        "    sat, vals = dpll(new_cnf, {**assignments, **{l: True}})\n",
        "    print(sat)\n",
        "    #print(sat)\n",
        "    if sat:\n",
        "        return sat, vals\n",
        "         \n",
        "    new_cnf = [c for c in cnf if (l, False) not in c]\n",
        "    new_cnf = [c.difference({(l, True)}) for c in new_cnf]\n",
        "    sat, vals = dpll(new_cnf, {**assignments, **{l: False}})\n",
        "    print(assignments)\n",
        "    print(sat)\n",
        "    if sat:\n",
        "        return sat, vals\n",
        " \n",
        "    return False, None\n",
        "s = (transform(lista))\n",
        "dpll(s)"
      ],
      "execution_count": null,
      "outputs": [
        {
          "output_type": "stream",
          "text": [
            "False\n",
            "{'0000000002': True}\n",
            "False\n",
            "False\n",
            "False\n",
            "{'0000000002': False}\n",
            "False\n",
            "{}\n",
            "False\n"
          ],
          "name": "stdout"
        },
        {
          "output_type": "execute_result",
          "data": {
            "text/plain": [
              "(False, None)"
            ]
          },
          "metadata": {
            "tags": []
          },
          "execution_count": 106
        }
      ]
    },
    {
      "cell_type": "code",
      "metadata": {
        "id": "hBNur21MST-2",
        "colab_type": "code",
        "colab": {}
      },
      "source": [
        "def __select_literal(cnf):\n",
        "    for c in cnf:\n",
        "        for literal in c:\n",
        "            return literal[0]"
      ],
      "execution_count": null,
      "outputs": []
    }
  ]
}
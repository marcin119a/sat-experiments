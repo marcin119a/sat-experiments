{
  "nbformat": 4,
  "nbformat_minor": 0,
  "metadata": {
    "colab": {
      "name": "D-SAT(700)-final.ipynb",
      "provenance": [],
      "collapsed_sections": [],
      "toc_visible": true
    },
    "kernelspec": {
      "name": "python3",
      "display_name": "Python 3"
    }
  },
  "cells": [
    {
      "cell_type": "markdown",
      "metadata": {
        "id": "BuzMyFkWDMQr",
        "colab_type": "text"
      },
      "source": [
        "### Optymalizacja parametrów symulatora *SIMCIM*\n",
        "\n",
        "Krok pierwszy: wgranie repozytorium:"
      ]
    },
    {
      "cell_type": "code",
      "metadata": {
        "id": "QSTQmPp7vVYr",
        "colab_type": "code",
        "colab": {}
      },
      "source": [
        "%%capture\n",
        "!git clone https://github.com/marcin119a/sat-experiments.git\n",
        "%cd sat-experiments\n",
        "!pip install -r requirements.txt"
      ],
      "execution_count": null,
      "outputs": []
    },
    {
      "cell_type": "code",
      "metadata": {
        "id": "soy7JRu8x9EG",
        "colab_type": "code",
        "colab": {}
      },
      "source": [
        "%%capture\n",
        "!git clone https://github.com/satproject/neuralheuristicsforsat.git\n",
        "%cd neuralheuristicsforsat"
      ],
      "execution_count": null,
      "outputs": []
    },
    {
      "cell_type": "code",
      "metadata": {
        "id": "QMjyGYflHeYS",
        "colab_type": "code",
        "colab": {}
      },
      "source": [
        "%%capture\n",
        "!pip install -r requirements.in"
      ],
      "execution_count": null,
      "outputs": []
    },
    {
      "cell_type": "markdown",
      "metadata": {
        "id": "rxuIzCZTD-TD",
        "colab_type": "text"
      },
      "source": [
        "### Przygotowanie słownika z parametrami dla metody optymalizacyjnej. \n",
        "\n",
        "W celu optymalizacji symulatora SIMCim, została wykorzystana bibloteka hyperopt do optymalizacji parametrów. \n",
        "\n",
        "Losujemy parametry symulatora SIMCim z odpowiednich rozkładów"
      ]
    },
    {
      "cell_type": "code",
      "metadata": {
        "id": "_zN49Z66zbt1",
        "colab_type": "code",
        "colab": {}
      },
      "source": [
        "from hyperopt import hp\n",
        "from hyperopt.pyll.stochastic import sample\n",
        "import numpy as np \n",
        "\n",
        "#przygotowanie hiper-przestrzeni parametrów: \n",
        "space = {\n",
        "    'N': hp.quniform('N', 300, 500, 10), # ilość iteracji symulatora \n",
        "    'sigma': hp.uniform('sigma', 0.0, 1.0), # poziom szumu \n",
        "    'dt': hp.loguniform('dt', np.log(0.005), np.log(0.5)), # współczynnik uczenia\n",
        "    'zeta': hp.uniform('zeta', 0.0, 2.0), # oddziaływanie\n",
        "    'attempt_num': hp.quniform('attempt_num', 950, 1100, 5), #ilość prób\n",
        "    'alpha': hp.uniform('alpha', 0.1, 0.9), # parametr metody SGD stochastyczne obniżanie gradientu wykorzystanej w algorytmie\n",
        "    'complexity': 700, # n parametr ilosci zmiennych\n",
        "    'seed': 2131, # dodatkowy szum\n",
        "    'loss': None, # parametr do zapisu\n",
        "    'observations': 100 #ilosc formuł\n",
        "}\n",
        "\n",
        "# Subsampling (only applicable with 'goss')\n",
        "subsample_dist = list(np.linspace(0.5, 1, 100))"
      ],
      "execution_count": null,
      "outputs": []
    },
    {
      "cell_type": "markdown",
      "metadata": {
        "id": "xWGKCW5_Egum",
        "colab_type": "text"
      },
      "source": [
        "Uruchomienie opytmalizacji: \n",
        "\n",
        "Niezbędnę parametry:\n",
        "Funkcja kosztu: objective\n",
        "\n"
      ]
    },
    {
      "cell_type": "code",
      "metadata": {
        "id": "ucalY86GzcNJ",
        "colab_type": "code",
        "colab": {
          "base_uri": "https://localhost:8080/",
          "height": 269
        },
        "outputId": "7930d0fd-69e3-407f-b7c8-822d1ec5a8f7"
      },
      "source": [
        "from hyperopt import fmin, Trials, rand, tpe\n",
        "\n",
        "# funkcja kosztu optymalizacji\n",
        "from tunning import objective\n",
        "\n",
        "# zapis wyników do specjalnego obiektu Trials\n",
        "rand_trials = Trials()\n",
        "\n",
        "# ilośc iteracji\n",
        "global  ITERATION\n",
        "\n",
        "ITERATION = 0\n",
        "\n",
        "# wykorzystanie algorytmu rand z hyperopt\n",
        "rand_algo = rand.suggest\n",
        "\n",
        "# optymalizacja symulatora, zadanie funkcji kosztu, przestrzeni, algorytmu i wyjścia z optymalizacji\n",
        "# max_evals=20 maksymalna ilość wykonania się optymalizacji\n",
        "rand_best = fmin(fn=objective, space=space, algo=tpe_algo, trials=rand_trials, \n",
        "                 max_evals=20)"
      ],
      "execution_count": null,
      "outputs": [
        {
          "output_type": "stream",
          "text": [
            "/usr/local/lib/python3.6/dist-packages/tensorflow/python/framework/dtypes.py:523: FutureWarning: Passing (type, 1) or '1type' as a synonym of type is deprecated; in a future version of numpy, it will be understood as (type, (1,)) / '(1,)type'.\n",
            "  _np_qint8 = np.dtype([(\"qint8\", np.int8, 1)])\n",
            "/usr/local/lib/python3.6/dist-packages/tensorflow/python/framework/dtypes.py:524: FutureWarning: Passing (type, 1) or '1type' as a synonym of type is deprecated; in a future version of numpy, it will be understood as (type, (1,)) / '(1,)type'.\n",
            "  _np_quint8 = np.dtype([(\"quint8\", np.uint8, 1)])\n",
            "/usr/local/lib/python3.6/dist-packages/tensorflow/python/framework/dtypes.py:525: FutureWarning: Passing (type, 1) or '1type' as a synonym of type is deprecated; in a future version of numpy, it will be understood as (type, (1,)) / '(1,)type'.\n",
            "  _np_qint16 = np.dtype([(\"qint16\", np.int16, 1)])\n",
            "/usr/local/lib/python3.6/dist-packages/tensorflow/python/framework/dtypes.py:526: FutureWarning: Passing (type, 1) or '1type' as a synonym of type is deprecated; in a future version of numpy, it will be understood as (type, (1,)) / '(1,)type'.\n",
            "  _np_quint16 = np.dtype([(\"quint16\", np.uint16, 1)])\n",
            "/usr/local/lib/python3.6/dist-packages/tensorflow/python/framework/dtypes.py:527: FutureWarning: Passing (type, 1) or '1type' as a synonym of type is deprecated; in a future version of numpy, it will be understood as (type, (1,)) / '(1,)type'.\n",
            "  _np_qint32 = np.dtype([(\"qint32\", np.int32, 1)])\n",
            "/usr/local/lib/python3.6/dist-packages/tensorflow/python/framework/dtypes.py:532: FutureWarning: Passing (type, 1) or '1type' as a synonym of type is deprecated; in a future version of numpy, it will be understood as (type, (1,)) / '(1,)type'.\n",
            "  np_resource = np.dtype([(\"resource\", np.ubyte, 1)])\n"
          ],
          "name": "stderr"
        },
        {
          "output_type": "stream",
          "text": [
            "100%|██████████| 20/20 [7:56:13<00:00, 1428.67s/it, best loss: 0.28]\n"
          ],
          "name": "stdout"
        }
      ]
    }
  ]
}
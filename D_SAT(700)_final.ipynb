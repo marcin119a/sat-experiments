{
  "nbformat": 4,
  "nbformat_minor": 0,
  "metadata": {
    "colab": {
      "name": "D-SAT(700)-final.ipynb",
      "provenance": [],
      "collapsed_sections": []
    },
    "kernelspec": {
      "name": "python3",
      "display_name": "Python 3"
    }
  },
  "cells": [
    {
      "cell_type": "code",
      "metadata": {
        "id": "QSTQmPp7vVYr",
        "colab_type": "code",
        "colab": {
          "base_uri": "https://localhost:8080/",
          "height": 142
        },
        "outputId": "ce0e69a3-1516-45ed-b2d3-d867f731b4d4"
      },
      "source": [
        "!git clone https://817f39297e940726a8648b171b073bc8bd73f2f0@github.com/marcin119a/sat-experiments.git\n",
        "%cd sat-experiments"
      ],
      "execution_count": null,
      "outputs": [
        {
          "output_type": "stream",
          "text": [
            "Cloning into 'sat-experiments'...\n",
            "remote: Enumerating objects: 81, done.\u001b[K\n",
            "remote: Counting objects: 100% (81/81), done.\u001b[K\n",
            "remote: Compressing objects: 100% (72/72), done.\u001b[K\n",
            "remote: Total 81 (delta 29), reused 36 (delta 6), pack-reused 0\u001b[K\n",
            "Unpacking objects: 100% (81/81), done.\n",
            "/content/sat-experiments\n"
          ],
          "name": "stdout"
        }
      ]
    },
    {
      "cell_type": "code",
      "metadata": {
        "id": "ejTvQeerv14m",
        "colab_type": "code",
        "colab": {
          "base_uri": "https://localhost:8080/",
          "height": 71
        },
        "outputId": "a8528111-53b1-46aa-9ead-d0766b6932bc"
      },
      "source": [
        "!git pull origin master"
      ],
      "execution_count": null,
      "outputs": [
        {
          "output_type": "stream",
          "text": [
            "From https://github.com/marcin119a/sat-experiments\n",
            " * branch            master     -> FETCH_HEAD\n",
            "Already up to date.\n"
          ],
          "name": "stdout"
        }
      ]
    },
    {
      "cell_type": "code",
      "metadata": {
        "id": "bukexEyswoVc",
        "colab_type": "code",
        "colab": {
          "base_uri": "https://localhost:8080/",
          "height": 1000
        },
        "outputId": "742b1716-a785-46eb-9173-1455c6235197"
      },
      "source": [
        "!pip install -r requirements.txt"
      ],
      "execution_count": null,
      "outputs": [
        {
          "output_type": "stream",
          "text": [
            "Collecting git+https://github.com/satproject/neuralheuristicsforsat (from -r requirements.txt (line 3))\n",
            "  Cloning https://github.com/satproject/neuralheuristicsforsat to /tmp/pip-req-build-nqm9i73f\n",
            "  Running command git clone -q https://github.com/satproject/neuralheuristicsforsat /tmp/pip-req-build-nqm9i73f\n",
            "Requirement already satisfied: torch in /usr/local/lib/python3.6/dist-packages (from -r requirements.txt (line 1)) (1.5.0+cu101)\n",
            "Requirement already satisfied: tqdm in /usr/local/lib/python3.6/dist-packages (from -r requirements.txt (line 2)) (4.41.1)\n",
            "Collecting jupyterlab\n",
            "\u001b[?25l  Downloading https://files.pythonhosted.org/packages/c6/93/d4ddbf3e2c2d896fb7f911ff79e1f7d97edc099886e056660c8d021b6492/jupyterlab-2.1.4-py3-none-any.whl (7.6MB)\n",
            "\u001b[K     |████████████████████████████████| 7.6MB 2.7MB/s \n",
            "\u001b[?25hCollecting tensorflow==1.12\n",
            "\u001b[?25l  Downloading https://files.pythonhosted.org/packages/22/cc/ca70b78087015d21c5f3f93694107f34ebccb3be9624385a911d4b52ecef/tensorflow-1.12.0-cp36-cp36m-manylinux1_x86_64.whl (83.1MB)\n",
            "\u001b[K     |████████████████████████████████| 83.1MB 50kB/s \n",
            "\u001b[?25hRequirement already satisfied: sympy in /usr/local/lib/python3.6/dist-packages (from projekt-sat==1.0.0->-r requirements.txt (line 3)) (1.1.1)\n",
            "Requirement already satisfied: sklearn in /usr/local/lib/python3.6/dist-packages (from projekt-sat==1.0.0->-r requirements.txt (line 3)) (0.0)\n",
            "Requirement already satisfied: scipy in /usr/local/lib/python3.6/dist-packages (from projekt-sat==1.0.0->-r requirements.txt (line 3)) (1.4.1)\n",
            "Requirement already satisfied: matplotlib in /usr/local/lib/python3.6/dist-packages (from projekt-sat==1.0.0->-r requirements.txt (line 3)) (3.2.1)\n",
            "Requirement already satisfied: pandas in /usr/local/lib/python3.6/dist-packages (from projekt-sat==1.0.0->-r requirements.txt (line 3)) (1.0.4)\n",
            "Collecting python-sat\n",
            "\u001b[?25l  Downloading https://files.pythonhosted.org/packages/f6/76/cbb8f8e8b90e47bbebad55dbdf788242514b5dfc18d7fa94ba8d48bd201c/python-sat-0.1.5.dev15.tar.gz (260kB)\n",
            "\u001b[K     |████████████████████████████████| 266kB 41.3MB/s \n",
            "\u001b[?25hRequirement already satisfied: google-api-python-client in /usr/local/lib/python3.6/dist-packages (from projekt-sat==1.0.0->-r requirements.txt (line 3)) (1.7.12)\n",
            "Requirement already satisfied: google-cloud-storage in /usr/local/lib/python3.6/dist-packages (from projekt-sat==1.0.0->-r requirements.txt (line 3)) (1.18.1)\n",
            "Requirement already satisfied: oauth2client in /usr/local/lib/python3.6/dist-packages (from projekt-sat==1.0.0->-r requirements.txt (line 3)) (4.1.3)\n",
            "Requirement already satisfied: future in /usr/local/lib/python3.6/dist-packages (from torch->-r requirements.txt (line 1)) (0.16.0)\n",
            "Requirement already satisfied: numpy in /usr/local/lib/python3.6/dist-packages (from torch->-r requirements.txt (line 1)) (1.18.5)\n",
            "Requirement already satisfied: notebook>=4.3.1 in /usr/local/lib/python3.6/dist-packages (from jupyterlab->projekt-sat==1.0.0->-r requirements.txt (line 3)) (5.2.2)\n",
            "Requirement already satisfied: jinja2>=2.10 in /usr/local/lib/python3.6/dist-packages (from jupyterlab->projekt-sat==1.0.0->-r requirements.txt (line 3)) (2.11.2)\n",
            "Collecting jupyterlab-server<2.0,>=1.1.0\n",
            "  Downloading https://files.pythonhosted.org/packages/e9/7b/08d35a18a6aa02203b9c58a370fdc82619d312039394cbc5ccd1434dff3f/jupyterlab_server-1.1.5-py3-none-any.whl\n",
            "Requirement already satisfied: tornado!=6.0.0,!=6.0.1,!=6.0.2 in /usr/local/lib/python3.6/dist-packages (from jupyterlab->projekt-sat==1.0.0->-r requirements.txt (line 3)) (4.5.3)\n",
            "Requirement already satisfied: astor>=0.6.0 in /usr/local/lib/python3.6/dist-packages (from tensorflow==1.12->projekt-sat==1.0.0->-r requirements.txt (line 3)) (0.8.1)\n",
            "Requirement already satisfied: protobuf>=3.6.1 in /usr/local/lib/python3.6/dist-packages (from tensorflow==1.12->projekt-sat==1.0.0->-r requirements.txt (line 3)) (3.10.0)\n",
            "Collecting tensorboard<1.13.0,>=1.12.0\n",
            "\u001b[?25l  Downloading https://files.pythonhosted.org/packages/07/53/8d32ce9471c18f8d99028b7cef2e5b39ea8765bd7ef250ca05b490880971/tensorboard-1.12.2-py3-none-any.whl (3.0MB)\n",
            "\u001b[K     |████████████████████████████████| 3.1MB 37.1MB/s \n",
            "\u001b[?25hRequirement already satisfied: absl-py>=0.1.6 in /usr/local/lib/python3.6/dist-packages (from tensorflow==1.12->projekt-sat==1.0.0->-r requirements.txt (line 3)) (0.9.0)\n",
            "Requirement already satisfied: grpcio>=1.8.6 in /usr/local/lib/python3.6/dist-packages (from tensorflow==1.12->projekt-sat==1.0.0->-r requirements.txt (line 3)) (1.29.0)\n",
            "Requirement already satisfied: gast>=0.2.0 in /usr/local/lib/python3.6/dist-packages (from tensorflow==1.12->projekt-sat==1.0.0->-r requirements.txt (line 3)) (0.3.3)\n",
            "Requirement already satisfied: termcolor>=1.1.0 in /usr/local/lib/python3.6/dist-packages (from tensorflow==1.12->projekt-sat==1.0.0->-r requirements.txt (line 3)) (1.1.0)\n",
            "Requirement already satisfied: keras-applications>=1.0.6 in /usr/local/lib/python3.6/dist-packages (from tensorflow==1.12->projekt-sat==1.0.0->-r requirements.txt (line 3)) (1.0.8)\n",
            "Requirement already satisfied: six>=1.10.0 in /usr/local/lib/python3.6/dist-packages (from tensorflow==1.12->projekt-sat==1.0.0->-r requirements.txt (line 3)) (1.12.0)\n",
            "Requirement already satisfied: wheel>=0.26 in /usr/local/lib/python3.6/dist-packages (from tensorflow==1.12->projekt-sat==1.0.0->-r requirements.txt (line 3)) (0.34.2)\n",
            "Requirement already satisfied: keras-preprocessing>=1.0.5 in /usr/local/lib/python3.6/dist-packages (from tensorflow==1.12->projekt-sat==1.0.0->-r requirements.txt (line 3)) (1.1.2)\n",
            "Requirement already satisfied: mpmath>=0.19 in /usr/local/lib/python3.6/dist-packages (from sympy->projekt-sat==1.0.0->-r requirements.txt (line 3)) (1.1.0)\n",
            "Requirement already satisfied: scikit-learn in /usr/local/lib/python3.6/dist-packages (from sklearn->projekt-sat==1.0.0->-r requirements.txt (line 3)) (0.22.2.post1)\n",
            "Requirement already satisfied: kiwisolver>=1.0.1 in /usr/local/lib/python3.6/dist-packages (from matplotlib->projekt-sat==1.0.0->-r requirements.txt (line 3)) (1.2.0)\n",
            "Requirement already satisfied: cycler>=0.10 in /usr/local/lib/python3.6/dist-packages (from matplotlib->projekt-sat==1.0.0->-r requirements.txt (line 3)) (0.10.0)\n",
            "Requirement already satisfied: python-dateutil>=2.1 in /usr/local/lib/python3.6/dist-packages (from matplotlib->projekt-sat==1.0.0->-r requirements.txt (line 3)) (2.8.1)\n",
            "Requirement already satisfied: pyparsing!=2.0.4,!=2.1.2,!=2.1.6,>=2.0.1 in /usr/local/lib/python3.6/dist-packages (from matplotlib->projekt-sat==1.0.0->-r requirements.txt (line 3)) (2.4.7)\n",
            "Requirement already satisfied: pytz>=2017.2 in /usr/local/lib/python3.6/dist-packages (from pandas->projekt-sat==1.0.0->-r requirements.txt (line 3)) (2018.9)\n",
            "Requirement already satisfied: httplib2<1dev,>=0.17.0 in /usr/local/lib/python3.6/dist-packages (from google-api-python-client->projekt-sat==1.0.0->-r requirements.txt (line 3)) (0.17.4)\n",
            "Requirement already satisfied: google-auth>=1.4.1 in /usr/local/lib/python3.6/dist-packages (from google-api-python-client->projekt-sat==1.0.0->-r requirements.txt (line 3)) (1.17.2)\n",
            "Requirement already satisfied: uritemplate<4dev,>=3.0.0 in /usr/local/lib/python3.6/dist-packages (from google-api-python-client->projekt-sat==1.0.0->-r requirements.txt (line 3)) (3.0.1)\n",
            "Requirement already satisfied: google-auth-httplib2>=0.0.3 in /usr/local/lib/python3.6/dist-packages (from google-api-python-client->projekt-sat==1.0.0->-r requirements.txt (line 3)) (0.0.3)\n",
            "Requirement already satisfied: google-resumable-media<0.5.0dev,>=0.3.1 in /usr/local/lib/python3.6/dist-packages (from google-cloud-storage->projekt-sat==1.0.0->-r requirements.txt (line 3)) (0.4.1)\n",
            "Requirement already satisfied: google-cloud-core<2.0dev,>=1.0.0 in /usr/local/lib/python3.6/dist-packages (from google-cloud-storage->projekt-sat==1.0.0->-r requirements.txt (line 3)) (1.0.3)\n",
            "Requirement already satisfied: pyasn1>=0.1.7 in /usr/local/lib/python3.6/dist-packages (from oauth2client->projekt-sat==1.0.0->-r requirements.txt (line 3)) (0.4.8)\n",
            "Requirement already satisfied: pyasn1-modules>=0.0.5 in /usr/local/lib/python3.6/dist-packages (from oauth2client->projekt-sat==1.0.0->-r requirements.txt (line 3)) (0.2.8)\n",
            "Requirement already satisfied: rsa>=3.1.4 in /usr/local/lib/python3.6/dist-packages (from oauth2client->projekt-sat==1.0.0->-r requirements.txt (line 3)) (4.6)\n",
            "Requirement already satisfied: ipykernel in /usr/local/lib/python3.6/dist-packages (from notebook>=4.3.1->jupyterlab->projekt-sat==1.0.0->-r requirements.txt (line 3)) (4.10.1)\n",
            "Requirement already satisfied: traitlets>=4.2.1 in /usr/local/lib/python3.6/dist-packages (from notebook>=4.3.1->jupyterlab->projekt-sat==1.0.0->-r requirements.txt (line 3)) (4.3.3)\n",
            "Requirement already satisfied: jupyter-client in /usr/local/lib/python3.6/dist-packages (from notebook>=4.3.1->jupyterlab->projekt-sat==1.0.0->-r requirements.txt (line 3)) (5.3.4)\n",
            "Requirement already satisfied: jupyter-core in /usr/local/lib/python3.6/dist-packages (from notebook>=4.3.1->jupyterlab->projekt-sat==1.0.0->-r requirements.txt (line 3)) (4.6.3)\n",
            "Requirement already satisfied: ipython-genutils in /usr/local/lib/python3.6/dist-packages (from notebook>=4.3.1->jupyterlab->projekt-sat==1.0.0->-r requirements.txt (line 3)) (0.2.0)\n",
            "Requirement already satisfied: nbconvert in /usr/local/lib/python3.6/dist-packages (from notebook>=4.3.1->jupyterlab->projekt-sat==1.0.0->-r requirements.txt (line 3)) (5.6.1)\n",
            "Requirement already satisfied: terminado>=0.3.3; sys_platform != \"win32\" in /usr/local/lib/python3.6/dist-packages (from notebook>=4.3.1->jupyterlab->projekt-sat==1.0.0->-r requirements.txt (line 3)) (0.8.3)\n",
            "Requirement already satisfied: nbformat in /usr/local/lib/python3.6/dist-packages (from notebook>=4.3.1->jupyterlab->projekt-sat==1.0.0->-r requirements.txt (line 3)) (5.0.7)\n",
            "Requirement already satisfied: MarkupSafe>=0.23 in /usr/local/lib/python3.6/dist-packages (from jinja2>=2.10->jupyterlab->projekt-sat==1.0.0->-r requirements.txt (line 3)) (1.1.1)\n",
            "Requirement already satisfied: requests in /usr/local/lib/python3.6/dist-packages (from jupyterlab-server<2.0,>=1.1.0->jupyterlab->projekt-sat==1.0.0->-r requirements.txt (line 3)) (2.23.0)\n",
            "Collecting jsonschema>=3.0.1\n",
            "\u001b[?25l  Downloading https://files.pythonhosted.org/packages/c5/8f/51e89ce52a085483359217bc72cdbf6e75ee595d5b1d4b5ade40c7e018b8/jsonschema-3.2.0-py2.py3-none-any.whl (56kB)\n",
            "\u001b[K     |████████████████████████████████| 61kB 7.1MB/s \n",
            "\u001b[?25hCollecting json5\n",
            "  Downloading https://files.pythonhosted.org/packages/2b/81/22bf51a5bc60dde18bb6164fd597f18ee683de8670e141364d9c432dd3cf/json5-0.9.5-py2.py3-none-any.whl\n",
            "Requirement already satisfied: setuptools in /usr/local/lib/python3.6/dist-packages (from protobuf>=3.6.1->tensorflow==1.12->projekt-sat==1.0.0->-r requirements.txt (line 3)) (47.3.1)\n",
            "Requirement already satisfied: markdown>=2.6.8 in /usr/local/lib/python3.6/dist-packages (from tensorboard<1.13.0,>=1.12.0->tensorflow==1.12->projekt-sat==1.0.0->-r requirements.txt (line 3)) (3.2.2)\n",
            "Requirement already satisfied: werkzeug>=0.11.10 in /usr/local/lib/python3.6/dist-packages (from tensorboard<1.13.0,>=1.12.0->tensorflow==1.12->projekt-sat==1.0.0->-r requirements.txt (line 3)) (1.0.1)\n",
            "Requirement already satisfied: h5py in /usr/local/lib/python3.6/dist-packages (from keras-applications>=1.0.6->tensorflow==1.12->projekt-sat==1.0.0->-r requirements.txt (line 3)) (2.10.0)\n",
            "Requirement already satisfied: joblib>=0.11 in /usr/local/lib/python3.6/dist-packages (from scikit-learn->sklearn->projekt-sat==1.0.0->-r requirements.txt (line 3)) (0.15.1)\n",
            "Requirement already satisfied: cachetools<5.0,>=2.0.0 in /usr/local/lib/python3.6/dist-packages (from google-auth>=1.4.1->google-api-python-client->projekt-sat==1.0.0->-r requirements.txt (line 3)) (4.1.0)\n",
            "Requirement already satisfied: google-api-core<2.0.0dev,>=1.14.0 in /usr/local/lib/python3.6/dist-packages (from google-cloud-core<2.0dev,>=1.0.0->google-cloud-storage->projekt-sat==1.0.0->-r requirements.txt (line 3)) (1.16.0)\n",
            "Requirement already satisfied: ipython>=4.0.0 in /usr/local/lib/python3.6/dist-packages (from ipykernel->notebook>=4.3.1->jupyterlab->projekt-sat==1.0.0->-r requirements.txt (line 3)) (5.5.0)\n",
            "Requirement already satisfied: decorator in /usr/local/lib/python3.6/dist-packages (from traitlets>=4.2.1->notebook>=4.3.1->jupyterlab->projekt-sat==1.0.0->-r requirements.txt (line 3)) (4.4.2)\n",
            "Requirement already satisfied: pyzmq>=13 in /usr/local/lib/python3.6/dist-packages (from jupyter-client->notebook>=4.3.1->jupyterlab->projekt-sat==1.0.0->-r requirements.txt (line 3)) (19.0.1)\n",
            "Requirement already satisfied: entrypoints>=0.2.2 in /usr/local/lib/python3.6/dist-packages (from nbconvert->notebook>=4.3.1->jupyterlab->projekt-sat==1.0.0->-r requirements.txt (line 3)) (0.3)\n",
            "Requirement already satisfied: pygments in /usr/local/lib/python3.6/dist-packages (from nbconvert->notebook>=4.3.1->jupyterlab->projekt-sat==1.0.0->-r requirements.txt (line 3)) (2.1.3)\n",
            "Requirement already satisfied: pandocfilters>=1.4.1 in /usr/local/lib/python3.6/dist-packages (from nbconvert->notebook>=4.3.1->jupyterlab->projekt-sat==1.0.0->-r requirements.txt (line 3)) (1.4.2)\n",
            "Requirement already satisfied: testpath in /usr/local/lib/python3.6/dist-packages (from nbconvert->notebook>=4.3.1->jupyterlab->projekt-sat==1.0.0->-r requirements.txt (line 3)) (0.4.4)\n",
            "Requirement already satisfied: mistune<2,>=0.8.1 in /usr/local/lib/python3.6/dist-packages (from nbconvert->notebook>=4.3.1->jupyterlab->projekt-sat==1.0.0->-r requirements.txt (line 3)) (0.8.4)\n",
            "Requirement already satisfied: defusedxml in /usr/local/lib/python3.6/dist-packages (from nbconvert->notebook>=4.3.1->jupyterlab->projekt-sat==1.0.0->-r requirements.txt (line 3)) (0.6.0)\n",
            "Requirement already satisfied: bleach in /usr/local/lib/python3.6/dist-packages (from nbconvert->notebook>=4.3.1->jupyterlab->projekt-sat==1.0.0->-r requirements.txt (line 3)) (3.1.5)\n",
            "Requirement already satisfied: ptyprocess; os_name != \"nt\" in /usr/local/lib/python3.6/dist-packages (from terminado>=0.3.3; sys_platform != \"win32\"->notebook>=4.3.1->jupyterlab->projekt-sat==1.0.0->-r requirements.txt (line 3)) (0.6.0)\n",
            "Requirement already satisfied: urllib3!=1.25.0,!=1.25.1,<1.26,>=1.21.1 in /usr/local/lib/python3.6/dist-packages (from requests->jupyterlab-server<2.0,>=1.1.0->jupyterlab->projekt-sat==1.0.0->-r requirements.txt (line 3)) (1.24.3)\n",
            "Requirement already satisfied: certifi>=2017.4.17 in /usr/local/lib/python3.6/dist-packages (from requests->jupyterlab-server<2.0,>=1.1.0->jupyterlab->projekt-sat==1.0.0->-r requirements.txt (line 3)) (2020.4.5.2)\n",
            "Requirement already satisfied: chardet<4,>=3.0.2 in /usr/local/lib/python3.6/dist-packages (from requests->jupyterlab-server<2.0,>=1.1.0->jupyterlab->projekt-sat==1.0.0->-r requirements.txt (line 3)) (3.0.4)\n",
            "Requirement already satisfied: idna<3,>=2.5 in /usr/local/lib/python3.6/dist-packages (from requests->jupyterlab-server<2.0,>=1.1.0->jupyterlab->projekt-sat==1.0.0->-r requirements.txt (line 3)) (2.9)\n",
            "Requirement already satisfied: importlib-metadata; python_version < \"3.8\" in /usr/local/lib/python3.6/dist-packages (from jsonschema>=3.0.1->jupyterlab-server<2.0,>=1.1.0->jupyterlab->projekt-sat==1.0.0->-r requirements.txt (line 3)) (1.6.1)\n",
            "Requirement already satisfied: pyrsistent>=0.14.0 in /usr/local/lib/python3.6/dist-packages (from jsonschema>=3.0.1->jupyterlab-server<2.0,>=1.1.0->jupyterlab->projekt-sat==1.0.0->-r requirements.txt (line 3)) (0.16.0)\n",
            "Requirement already satisfied: attrs>=17.4.0 in /usr/local/lib/python3.6/dist-packages (from jsonschema>=3.0.1->jupyterlab-server<2.0,>=1.1.0->jupyterlab->projekt-sat==1.0.0->-r requirements.txt (line 3)) (19.3.0)\n",
            "Requirement already satisfied: googleapis-common-protos<2.0dev,>=1.6.0 in /usr/local/lib/python3.6/dist-packages (from google-api-core<2.0.0dev,>=1.14.0->google-cloud-core<2.0dev,>=1.0.0->google-cloud-storage->projekt-sat==1.0.0->-r requirements.txt (line 3)) (1.52.0)\n",
            "Requirement already satisfied: simplegeneric>0.8 in /usr/local/lib/python3.6/dist-packages (from ipython>=4.0.0->ipykernel->notebook>=4.3.1->jupyterlab->projekt-sat==1.0.0->-r requirements.txt (line 3)) (0.8.1)\n",
            "Requirement already satisfied: prompt-toolkit<2.0.0,>=1.0.4 in /usr/local/lib/python3.6/dist-packages (from ipython>=4.0.0->ipykernel->notebook>=4.3.1->jupyterlab->projekt-sat==1.0.0->-r requirements.txt (line 3)) (1.0.18)\n",
            "Requirement already satisfied: pexpect; sys_platform != \"win32\" in /usr/local/lib/python3.6/dist-packages (from ipython>=4.0.0->ipykernel->notebook>=4.3.1->jupyterlab->projekt-sat==1.0.0->-r requirements.txt (line 3)) (4.8.0)\n",
            "Requirement already satisfied: pickleshare in /usr/local/lib/python3.6/dist-packages (from ipython>=4.0.0->ipykernel->notebook>=4.3.1->jupyterlab->projekt-sat==1.0.0->-r requirements.txt (line 3)) (0.7.5)\n",
            "Requirement already satisfied: packaging in /usr/local/lib/python3.6/dist-packages (from bleach->nbconvert->notebook>=4.3.1->jupyterlab->projekt-sat==1.0.0->-r requirements.txt (line 3)) (20.4)\n",
            "Requirement already satisfied: webencodings in /usr/local/lib/python3.6/dist-packages (from bleach->nbconvert->notebook>=4.3.1->jupyterlab->projekt-sat==1.0.0->-r requirements.txt (line 3)) (0.5.1)\n",
            "Requirement already satisfied: zipp>=0.5 in /usr/local/lib/python3.6/dist-packages (from importlib-metadata; python_version < \"3.8\"->jsonschema>=3.0.1->jupyterlab-server<2.0,>=1.1.0->jupyterlab->projekt-sat==1.0.0->-r requirements.txt (line 3)) (3.1.0)\n",
            "Requirement already satisfied: wcwidth in /usr/local/lib/python3.6/dist-packages (from prompt-toolkit<2.0.0,>=1.0.4->ipython>=4.0.0->ipykernel->notebook>=4.3.1->jupyterlab->projekt-sat==1.0.0->-r requirements.txt (line 3)) (0.2.4)\n",
            "Building wheels for collected packages: projekt-sat, python-sat\n",
            "  Building wheel for projekt-sat (setup.py) ... \u001b[?25l\u001b[?25hdone\n",
            "  Created wheel for projekt-sat: filename=projekt_sat-1.0.0-cp36-none-any.whl size=1182 sha256=8a2a1b3fb63895d84d74f19ed17384daab1358fead38b549f7c081c2d2bfcd03\n",
            "  Stored in directory: /tmp/pip-ephem-wheel-cache-yryt85oj/wheels/be/7f/db/6e8ebfa23a7134a0bf146cb48f6f2b433bf73645f9de997403\n",
            "  Building wheel for python-sat (setup.py) ... \u001b[?25lerror\n",
            "\u001b[31m  ERROR: Failed building wheel for python-sat\u001b[0m\n",
            "\u001b[?25h  Running setup.py clean for python-sat\n",
            "Successfully built projekt-sat\n",
            "Failed to build python-sat\n",
            "Installing collected packages: jsonschema, json5, jupyterlab-server, jupyterlab, tensorboard, tensorflow, python-sat, projekt-sat\n",
            "  Found existing installation: jsonschema 2.6.0\n",
            "    Uninstalling jsonschema-2.6.0:\n",
            "      Successfully uninstalled jsonschema-2.6.0\n",
            "  Found existing installation: tensorboard 2.2.2\n",
            "    Uninstalling tensorboard-2.2.2:\n",
            "      Successfully uninstalled tensorboard-2.2.2\n",
            "  Found existing installation: tensorflow 2.2.0\n",
            "    Uninstalling tensorflow-2.2.0:\n",
            "      Successfully uninstalled tensorflow-2.2.0\n",
            "    Running setup.py install for python-sat ... \u001b[?25l\u001b[?25herror\n",
            "\u001b[31mERROR: Command errored out with exit status 1: /usr/bin/python3 -u -c 'import sys, setuptools, tokenize; sys.argv[0] = '\"'\"'/tmp/pip-install-wfdx0_pt/python-sat/setup.py'\"'\"'; __file__='\"'\"'/tmp/pip-install-wfdx0_pt/python-sat/setup.py'\"'\"';f=getattr(tokenize, '\"'\"'open'\"'\"', open)(__file__);code=f.read().replace('\"'\"'\\r\\n'\"'\"', '\"'\"'\\n'\"'\"');f.close();exec(compile(code, __file__, '\"'\"'exec'\"'\"'))' install --record /tmp/pip-record-6_htom7e/install-record.txt --single-version-externally-managed --compile Check the logs for full command output.\u001b[0m\n"
          ],
          "name": "stdout"
        }
      ]
    },
    {
      "cell_type": "code",
      "metadata": {
        "id": "soy7JRu8x9EG",
        "colab_type": "code",
        "colab": {
          "base_uri": "https://localhost:8080/",
          "height": 142
        },
        "outputId": "243732f6-3b10-4fd9-defa-cd1f26883efc"
      },
      "source": [
        "!git clone https://github.com/satproject/neuralheuristicsforsat.git\n",
        "%cd neuralheuristicsforsat"
      ],
      "execution_count": null,
      "outputs": [
        {
          "output_type": "stream",
          "text": [
            "Cloning into 'neuralheuristicsforsat'...\n",
            "remote: Enumerating objects: 51, done.\u001b[K\n",
            "remote: Counting objects:   1% (1/51)\u001b[K\rremote: Counting objects:   3% (2/51)\u001b[K\rremote: Counting objects:   5% (3/51)\u001b[K\rremote: Counting objects:   7% (4/51)\u001b[K\rremote: Counting objects:   9% (5/51)\u001b[K\rremote: Counting objects:  11% (6/51)\u001b[K\rremote: Counting objects:  13% (7/51)\u001b[K\rremote: Counting objects:  15% (8/51)\u001b[K\rremote: Counting objects:  17% (9/51)\u001b[K\rremote: Counting objects:  19% (10/51)\u001b[K\rremote: Counting objects:  21% (11/51)\u001b[K\rremote: Counting objects:  23% (12/51)\u001b[K\rremote: Counting objects:  25% (13/51)\u001b[K\rremote: Counting objects:  27% (14/51)\u001b[K\rremote: Counting objects:  29% (15/51)\u001b[K\rremote: Counting objects:  31% (16/51)\u001b[K\rremote: Counting objects:  33% (17/51)\u001b[K\rremote: Counting objects:  35% (18/51)\u001b[K\rremote: Counting objects:  37% (19/51)\u001b[K\rremote: Counting objects:  39% (20/51)\u001b[K\rremote: Counting objects:  41% (21/51)\u001b[K\rremote: Counting objects:  43% (22/51)\u001b[K\rremote: Counting objects:  45% (23/51)\u001b[K\rremote: Counting objects:  47% (24/51)\u001b[K\rremote: Counting objects:  49% (25/51)\u001b[K\rremote: Counting objects:  50% (26/51)\u001b[K\rremote: Counting objects:  52% (27/51)\u001b[K\rremote: Counting objects:  54% (28/51)\u001b[K\rremote: Counting objects:  56% (29/51)\u001b[K\rremote: Counting objects:  58% (30/51)\u001b[K\rremote: Counting objects:  60% (31/51)\u001b[K\rremote: Counting objects:  62% (32/51)\u001b[K\rremote: Counting objects:  64% (33/51)\u001b[K\rremote: Counting objects:  66% (34/51)\u001b[K\rremote: Counting objects:  68% (35/51)\u001b[K\rremote: Counting objects:  70% (36/51)\u001b[K\rremote: Counting objects:  72% (37/51)\u001b[K\rremote: Counting objects:  74% (38/51)\u001b[K\rremote: Counting objects:  76% (39/51)\u001b[K\rremote: Counting objects:  78% (40/51)\u001b[K\rremote: Counting objects:  80% (41/51)\u001b[K\rremote: Counting objects:  82% (42/51)\u001b[K\rremote: Counting objects:  84% (43/51)\u001b[K\rremote: Counting objects:  86% (44/51)\u001b[K\rremote: Counting objects:  88% (45/51)\u001b[K\rremote: Counting objects:  90% (46/51)\u001b[K\rremote: Counting objects:  92% (47/51)\u001b[K\rremote: Counting objects:  94% (48/51)\u001b[K\rremote: Counting objects:  96% (49/51)\u001b[K\rremote: Counting objects:  98% (50/51)\u001b[K\rremote: Counting objects: 100% (51/51)\u001b[K\rremote: Counting objects: 100% (51/51), done.\u001b[K\n",
            "remote: Compressing objects:   2% (1/48)\u001b[K\rremote: Compressing objects:   4% (2/48)\u001b[K\rremote: Compressing objects:   6% (3/48)\u001b[K\rremote: Compressing objects:   8% (4/48)\u001b[K\rremote: Compressing objects:  10% (5/48)\u001b[K\rremote: Compressing objects:  12% (6/48)\u001b[K\rremote: Compressing objects:  14% (7/48)\u001b[K\rremote: Compressing objects:  16% (8/48)\u001b[K\rremote: Compressing objects:  18% (9/48)\u001b[K\rremote: Compressing objects:  20% (10/48)\u001b[K\rremote: Compressing objects:  22% (11/48)\u001b[K\rremote: Compressing objects:  25% (12/48)\u001b[K\rremote: Compressing objects:  27% (13/48)\u001b[K\rremote: Compressing objects:  29% (14/48)\u001b[K\rremote: Compressing objects:  31% (15/48)\u001b[K\rremote: Compressing objects:  33% (16/48)\u001b[K\rremote: Compressing objects:  35% (17/48)\u001b[K\rremote: Compressing objects:  37% (18/48)\u001b[K\rremote: Compressing objects:  39% (19/48)\u001b[K\rremote: Compressing objects:  41% (20/48)\u001b[K\rremote: Compressing objects:  43% (21/48)\u001b[K\rremote: Compressing objects:  45% (22/48)\u001b[K\rremote: Compressing objects:  47% (23/48)\u001b[K\rremote: Compressing objects:  50% (24/48)\u001b[K\rremote: Compressing objects:  52% (25/48)\u001b[K\rremote: Compressing objects:  54% (26/48)\u001b[K\rremote: Compressing objects:  56% (27/48)\u001b[K\rremote: Compressing objects:  58% (28/48)\u001b[K\rremote: Compressing objects:  60% (29/48)\u001b[K\rremote: Compressing objects:  62% (30/48)\u001b[K\rremote: Compressing objects:  64% (31/48)\u001b[K\rremote: Compressing objects:  66% (32/48)\u001b[K\rremote: Compressing objects:  68% (33/48)\u001b[K\rremote: Compressing objects:  70% (34/48)\u001b[K\rremote: Compressing objects:  72% (35/48)\u001b[K\rremote: Compressing objects:  75% (36/48)\u001b[K\rremote: Compressing objects:  77% (37/48)\u001b[K\rremote: Compressing objects:  79% (38/48)\u001b[K\rremote: Compressing objects:  81% (39/48)\u001b[K\rremote: Compressing objects:  83% (40/48)\u001b[K\rremote: Compressing objects:  85% (41/48)\u001b[K\rremote: Compressing objects:  87% (42/48)\u001b[K\rremote: Compressing objects:  89% (43/48)\u001b[K\rremote: Compressing objects:  91% (44/48)\u001b[K\rremote: Compressing objects:  93% (45/48)\u001b[K\rremote: Compressing objects:  95% (46/48)\u001b[K\rremote: Compressing objects:  97% (47/48)\u001b[K\rremote: Compressing objects: 100% (48/48)\u001b[K\rremote: Compressing objects: 100% (48/48), done.\u001b[K\n",
            "remote: Total 76 (delta 23), reused 6 (delta 1), pack-reused 25\u001b[K\n",
            "Unpacking objects: 100% (76/76), done.\n",
            "/content/sat-experiments/neuralheuristicsforsat\n"
          ],
          "name": "stdout"
        }
      ]
    },
    {
      "cell_type": "code",
      "metadata": {
        "id": "v2-gZ0GlqhCu",
        "colab_type": "code",
        "colab": {
          "base_uri": "https://localhost:8080/",
          "height": 35
        },
        "outputId": "7cf7f33e-f231-4f9c-9a6e-758111ee9e0a"
      },
      "source": [
        "%cd .."
      ],
      "execution_count": null,
      "outputs": [
        {
          "output_type": "stream",
          "text": [
            "/content/sat-experiments\n"
          ],
          "name": "stdout"
        }
      ]
    },
    {
      "cell_type": "code",
      "metadata": {
        "id": "QMjyGYflHeYS",
        "colab_type": "code",
        "colab": {
          "base_uri": "https://localhost:8080/",
          "height": 1000
        },
        "outputId": "7b841bb4-d37a-4cae-ad95-657ed9e9ca4d"
      },
      "source": [
        "!pip install -r requirements.in"
      ],
      "execution_count": null,
      "outputs": [
        {
          "output_type": "stream",
          "text": [
            "Requirement already satisfied: jupyterlab in /usr/local/lib/python3.6/dist-packages (from -r requirements.in (line 1)) (2.1.1)\n",
            "Requirement already satisfied: tensorflow==1.12 in /usr/local/lib/python3.6/dist-packages (from -r requirements.in (line 2)) (1.12.0)\n",
            "Requirement already satisfied: sympy in /usr/local/lib/python3.6/dist-packages (from -r requirements.in (line 3)) (1.1.1)\n",
            "Requirement already satisfied: sklearn in /usr/local/lib/python3.6/dist-packages (from -r requirements.in (line 4)) (0.0)\n",
            "Requirement already satisfied: scipy in /usr/local/lib/python3.6/dist-packages (from -r requirements.in (line 5)) (1.4.1)\n",
            "Requirement already satisfied: matplotlib in /usr/local/lib/python3.6/dist-packages (from -r requirements.in (line 6)) (3.2.1)\n",
            "Requirement already satisfied: pandas in /usr/local/lib/python3.6/dist-packages (from -r requirements.in (line 7)) (1.0.3)\n",
            "Requirement already satisfied: python-sat in /usr/local/lib/python3.6/dist-packages (from -r requirements.in (line 8)) (0.1.5.dev12)\n",
            "Requirement already satisfied: google-api-python-client in /usr/local/lib/python3.6/dist-packages (from -r requirements.in (line 9)) (1.7.12)\n",
            "Requirement already satisfied: google-cloud-storage in /usr/local/lib/python3.6/dist-packages (from -r requirements.in (line 10)) (1.18.1)\n",
            "Requirement already satisfied: oauth2client in /usr/local/lib/python3.6/dist-packages (from -r requirements.in (line 11)) (4.1.3)\n",
            "Requirement already satisfied: tqdm in /usr/local/lib/python3.6/dist-packages (from -r requirements.in (line 12)) (4.38.0)\n",
            "Requirement already satisfied: jupyterlab-server>=1.1.0 in /usr/local/lib/python3.6/dist-packages (from jupyterlab->-r requirements.in (line 1)) (1.1.1)\n",
            "Requirement already satisfied: tornado!=6.0.0,!=6.0.1,!=6.0.2 in /usr/local/lib/python3.6/dist-packages (from jupyterlab->-r requirements.in (line 1)) (4.5.3)\n",
            "Requirement already satisfied: jinja2>=2.10 in /usr/local/lib/python3.6/dist-packages (from jupyterlab->-r requirements.in (line 1)) (2.11.2)\n",
            "Requirement already satisfied: notebook>=4.3.1 in /usr/local/lib/python3.6/dist-packages (from jupyterlab->-r requirements.in (line 1)) (5.2.2)\n",
            "Requirement already satisfied: absl-py>=0.1.6 in /usr/local/lib/python3.6/dist-packages (from tensorflow==1.12->-r requirements.in (line 2)) (0.9.0)\n",
            "Requirement already satisfied: keras-applications>=1.0.6 in /usr/local/lib/python3.6/dist-packages (from tensorflow==1.12->-r requirements.in (line 2)) (1.0.8)\n",
            "Requirement already satisfied: numpy>=1.13.3 in /usr/local/lib/python3.6/dist-packages (from tensorflow==1.12->-r requirements.in (line 2)) (1.18.3)\n",
            "Requirement already satisfied: tensorboard<1.13.0,>=1.12.0 in /usr/local/lib/python3.6/dist-packages (from tensorflow==1.12->-r requirements.in (line 2)) (1.12.2)\n",
            "Requirement already satisfied: wheel>=0.26 in /usr/local/lib/python3.6/dist-packages (from tensorflow==1.12->-r requirements.in (line 2)) (0.34.2)\n",
            "Requirement already satisfied: six>=1.10.0 in /usr/local/lib/python3.6/dist-packages (from tensorflow==1.12->-r requirements.in (line 2)) (1.12.0)\n",
            "Requirement already satisfied: termcolor>=1.1.0 in /usr/local/lib/python3.6/dist-packages (from tensorflow==1.12->-r requirements.in (line 2)) (1.1.0)\n",
            "Requirement already satisfied: keras-preprocessing>=1.0.5 in /usr/local/lib/python3.6/dist-packages (from tensorflow==1.12->-r requirements.in (line 2)) (1.1.0)\n",
            "Requirement already satisfied: protobuf>=3.6.1 in /usr/local/lib/python3.6/dist-packages (from tensorflow==1.12->-r requirements.in (line 2)) (3.10.0)\n",
            "Requirement already satisfied: gast>=0.2.0 in /usr/local/lib/python3.6/dist-packages (from tensorflow==1.12->-r requirements.in (line 2)) (0.3.3)\n",
            "Requirement already satisfied: grpcio>=1.8.6 in /usr/local/lib/python3.6/dist-packages (from tensorflow==1.12->-r requirements.in (line 2)) (1.28.1)\n",
            "Requirement already satisfied: astor>=0.6.0 in /usr/local/lib/python3.6/dist-packages (from tensorflow==1.12->-r requirements.in (line 2)) (0.8.1)\n",
            "Requirement already satisfied: mpmath>=0.19 in /usr/local/lib/python3.6/dist-packages (from sympy->-r requirements.in (line 3)) (1.1.0)\n",
            "Requirement already satisfied: scikit-learn in /usr/local/lib/python3.6/dist-packages (from sklearn->-r requirements.in (line 4)) (0.22.2.post1)\n",
            "Requirement already satisfied: kiwisolver>=1.0.1 in /usr/local/lib/python3.6/dist-packages (from matplotlib->-r requirements.in (line 6)) (1.2.0)\n",
            "Requirement already satisfied: python-dateutil>=2.1 in /usr/local/lib/python3.6/dist-packages (from matplotlib->-r requirements.in (line 6)) (2.8.1)\n",
            "Requirement already satisfied: cycler>=0.10 in /usr/local/lib/python3.6/dist-packages (from matplotlib->-r requirements.in (line 6)) (0.10.0)\n",
            "Requirement already satisfied: pyparsing!=2.0.4,!=2.1.2,!=2.1.6,>=2.0.1 in /usr/local/lib/python3.6/dist-packages (from matplotlib->-r requirements.in (line 6)) (2.4.7)\n",
            "Requirement already satisfied: pytz>=2017.2 in /usr/local/lib/python3.6/dist-packages (from pandas->-r requirements.in (line 7)) (2018.9)\n",
            "Requirement already satisfied: httplib2<1dev,>=0.17.0 in /usr/local/lib/python3.6/dist-packages (from google-api-python-client->-r requirements.in (line 9)) (0.17.3)\n",
            "Requirement already satisfied: google-auth>=1.4.1 in /usr/local/lib/python3.6/dist-packages (from google-api-python-client->-r requirements.in (line 9)) (1.7.2)\n",
            "Requirement already satisfied: google-auth-httplib2>=0.0.3 in /usr/local/lib/python3.6/dist-packages (from google-api-python-client->-r requirements.in (line 9)) (0.0.3)\n",
            "Requirement already satisfied: uritemplate<4dev,>=3.0.0 in /usr/local/lib/python3.6/dist-packages (from google-api-python-client->-r requirements.in (line 9)) (3.0.1)\n",
            "Requirement already satisfied: google-cloud-core<2.0dev,>=1.0.0 in /usr/local/lib/python3.6/dist-packages (from google-cloud-storage->-r requirements.in (line 10)) (1.0.3)\n",
            "Requirement already satisfied: google-resumable-media<0.5.0dev,>=0.3.1 in /usr/local/lib/python3.6/dist-packages (from google-cloud-storage->-r requirements.in (line 10)) (0.4.1)\n",
            "Requirement already satisfied: pyasn1>=0.1.7 in /usr/local/lib/python3.6/dist-packages (from oauth2client->-r requirements.in (line 11)) (0.4.8)\n",
            "Requirement already satisfied: rsa>=3.1.4 in /usr/local/lib/python3.6/dist-packages (from oauth2client->-r requirements.in (line 11)) (4.0)\n",
            "Requirement already satisfied: pyasn1-modules>=0.0.5 in /usr/local/lib/python3.6/dist-packages (from oauth2client->-r requirements.in (line 11)) (0.2.8)\n",
            "Requirement already satisfied: json5 in /usr/local/lib/python3.6/dist-packages (from jupyterlab-server>=1.1.0->jupyterlab->-r requirements.in (line 1)) (0.9.4)\n",
            "Requirement already satisfied: jsonschema>=3.0.1 in /usr/local/lib/python3.6/dist-packages (from jupyterlab-server>=1.1.0->jupyterlab->-r requirements.in (line 1)) (3.2.0)\n",
            "Requirement already satisfied: requests in /usr/local/lib/python3.6/dist-packages (from jupyterlab-server>=1.1.0->jupyterlab->-r requirements.in (line 1)) (2.21.0)\n",
            "Requirement already satisfied: MarkupSafe>=0.23 in /usr/local/lib/python3.6/dist-packages (from jinja2>=2.10->jupyterlab->-r requirements.in (line 1)) (1.1.1)\n",
            "Requirement already satisfied: jupyter-client in /usr/local/lib/python3.6/dist-packages (from notebook>=4.3.1->jupyterlab->-r requirements.in (line 1)) (5.3.4)\n",
            "Requirement already satisfied: traitlets>=4.2.1 in /usr/local/lib/python3.6/dist-packages (from notebook>=4.3.1->jupyterlab->-r requirements.in (line 1)) (4.3.3)\n",
            "Requirement already satisfied: nbformat in /usr/local/lib/python3.6/dist-packages (from notebook>=4.3.1->jupyterlab->-r requirements.in (line 1)) (5.0.6)\n",
            "Requirement already satisfied: ipython-genutils in /usr/local/lib/python3.6/dist-packages (from notebook>=4.3.1->jupyterlab->-r requirements.in (line 1)) (0.2.0)\n",
            "Requirement already satisfied: terminado>=0.3.3; sys_platform != \"win32\" in /usr/local/lib/python3.6/dist-packages (from notebook>=4.3.1->jupyterlab->-r requirements.in (line 1)) (0.8.3)\n",
            "Requirement already satisfied: nbconvert in /usr/local/lib/python3.6/dist-packages (from notebook>=4.3.1->jupyterlab->-r requirements.in (line 1)) (5.6.1)\n",
            "Requirement already satisfied: ipykernel in /usr/local/lib/python3.6/dist-packages (from notebook>=4.3.1->jupyterlab->-r requirements.in (line 1)) (4.10.1)\n",
            "Requirement already satisfied: jupyter-core in /usr/local/lib/python3.6/dist-packages (from notebook>=4.3.1->jupyterlab->-r requirements.in (line 1)) (4.6.3)\n",
            "Requirement already satisfied: h5py in /usr/local/lib/python3.6/dist-packages (from keras-applications>=1.0.6->tensorflow==1.12->-r requirements.in (line 2)) (2.10.0)\n",
            "Requirement already satisfied: markdown>=2.6.8 in /usr/local/lib/python3.6/dist-packages (from tensorboard<1.13.0,>=1.12.0->tensorflow==1.12->-r requirements.in (line 2)) (3.2.1)\n",
            "Requirement already satisfied: werkzeug>=0.11.10 in /usr/local/lib/python3.6/dist-packages (from tensorboard<1.13.0,>=1.12.0->tensorflow==1.12->-r requirements.in (line 2)) (1.0.1)\n",
            "Requirement already satisfied: setuptools in /usr/local/lib/python3.6/dist-packages (from protobuf>=3.6.1->tensorflow==1.12->-r requirements.in (line 2)) (46.1.3)\n",
            "Requirement already satisfied: joblib>=0.11 in /usr/local/lib/python3.6/dist-packages (from scikit-learn->sklearn->-r requirements.in (line 4)) (0.14.1)\n",
            "Requirement already satisfied: cachetools<3.2,>=2.0.0 in /usr/local/lib/python3.6/dist-packages (from google-auth>=1.4.1->google-api-python-client->-r requirements.in (line 9)) (3.1.1)\n",
            "Requirement already satisfied: google-api-core<2.0.0dev,>=1.14.0 in /usr/local/lib/python3.6/dist-packages (from google-cloud-core<2.0dev,>=1.0.0->google-cloud-storage->-r requirements.in (line 10)) (1.16.0)\n",
            "Requirement already satisfied: importlib-metadata; python_version < \"3.8\" in /usr/local/lib/python3.6/dist-packages (from jsonschema>=3.0.1->jupyterlab-server>=1.1.0->jupyterlab->-r requirements.in (line 1)) (1.6.0)\n",
            "Requirement already satisfied: attrs>=17.4.0 in /usr/local/lib/python3.6/dist-packages (from jsonschema>=3.0.1->jupyterlab-server>=1.1.0->jupyterlab->-r requirements.in (line 1)) (19.3.0)\n",
            "Requirement already satisfied: pyrsistent>=0.14.0 in /usr/local/lib/python3.6/dist-packages (from jsonschema>=3.0.1->jupyterlab-server>=1.1.0->jupyterlab->-r requirements.in (line 1)) (0.16.0)\n",
            "Requirement already satisfied: chardet<3.1.0,>=3.0.2 in /usr/local/lib/python3.6/dist-packages (from requests->jupyterlab-server>=1.1.0->jupyterlab->-r requirements.in (line 1)) (3.0.4)\n",
            "Requirement already satisfied: certifi>=2017.4.17 in /usr/local/lib/python3.6/dist-packages (from requests->jupyterlab-server>=1.1.0->jupyterlab->-r requirements.in (line 1)) (2020.4.5.1)\n",
            "Requirement already satisfied: urllib3<1.25,>=1.21.1 in /usr/local/lib/python3.6/dist-packages (from requests->jupyterlab-server>=1.1.0->jupyterlab->-r requirements.in (line 1)) (1.24.3)\n",
            "Requirement already satisfied: idna<2.9,>=2.5 in /usr/local/lib/python3.6/dist-packages (from requests->jupyterlab-server>=1.1.0->jupyterlab->-r requirements.in (line 1)) (2.8)\n",
            "Requirement already satisfied: pyzmq>=13 in /usr/local/lib/python3.6/dist-packages (from jupyter-client->notebook>=4.3.1->jupyterlab->-r requirements.in (line 1)) (19.0.0)\n",
            "Requirement already satisfied: decorator in /usr/local/lib/python3.6/dist-packages (from traitlets>=4.2.1->notebook>=4.3.1->jupyterlab->-r requirements.in (line 1)) (4.4.2)\n",
            "Requirement already satisfied: ptyprocess; os_name != \"nt\" in /usr/local/lib/python3.6/dist-packages (from terminado>=0.3.3; sys_platform != \"win32\"->notebook>=4.3.1->jupyterlab->-r requirements.in (line 1)) (0.6.0)\n",
            "Requirement already satisfied: pygments in /usr/local/lib/python3.6/dist-packages (from nbconvert->notebook>=4.3.1->jupyterlab->-r requirements.in (line 1)) (2.1.3)\n",
            "Requirement already satisfied: defusedxml in /usr/local/lib/python3.6/dist-packages (from nbconvert->notebook>=4.3.1->jupyterlab->-r requirements.in (line 1)) (0.6.0)\n",
            "Requirement already satisfied: mistune<2,>=0.8.1 in /usr/local/lib/python3.6/dist-packages (from nbconvert->notebook>=4.3.1->jupyterlab->-r requirements.in (line 1)) (0.8.4)\n",
            "Requirement already satisfied: pandocfilters>=1.4.1 in /usr/local/lib/python3.6/dist-packages (from nbconvert->notebook>=4.3.1->jupyterlab->-r requirements.in (line 1)) (1.4.2)\n",
            "Requirement already satisfied: bleach in /usr/local/lib/python3.6/dist-packages (from nbconvert->notebook>=4.3.1->jupyterlab->-r requirements.in (line 1)) (3.1.4)\n",
            "Requirement already satisfied: testpath in /usr/local/lib/python3.6/dist-packages (from nbconvert->notebook>=4.3.1->jupyterlab->-r requirements.in (line 1)) (0.4.4)\n",
            "Requirement already satisfied: entrypoints>=0.2.2 in /usr/local/lib/python3.6/dist-packages (from nbconvert->notebook>=4.3.1->jupyterlab->-r requirements.in (line 1)) (0.3)\n",
            "Requirement already satisfied: ipython>=4.0.0 in /usr/local/lib/python3.6/dist-packages (from ipykernel->notebook>=4.3.1->jupyterlab->-r requirements.in (line 1)) (5.5.0)\n",
            "Requirement already satisfied: googleapis-common-protos<2.0dev,>=1.6.0 in /usr/local/lib/python3.6/dist-packages (from google-api-core<2.0.0dev,>=1.14.0->google-cloud-core<2.0dev,>=1.0.0->google-cloud-storage->-r requirements.in (line 10)) (1.51.0)\n",
            "Requirement already satisfied: zipp>=0.5 in /usr/local/lib/python3.6/dist-packages (from importlib-metadata; python_version < \"3.8\"->jsonschema>=3.0.1->jupyterlab-server>=1.1.0->jupyterlab->-r requirements.in (line 1)) (3.1.0)\n",
            "Requirement already satisfied: webencodings in /usr/local/lib/python3.6/dist-packages (from bleach->nbconvert->notebook>=4.3.1->jupyterlab->-r requirements.in (line 1)) (0.5.1)\n",
            "Requirement already satisfied: pexpect; sys_platform != \"win32\" in /usr/local/lib/python3.6/dist-packages (from ipython>=4.0.0->ipykernel->notebook>=4.3.1->jupyterlab->-r requirements.in (line 1)) (4.8.0)\n",
            "Requirement already satisfied: pickleshare in /usr/local/lib/python3.6/dist-packages (from ipython>=4.0.0->ipykernel->notebook>=4.3.1->jupyterlab->-r requirements.in (line 1)) (0.7.5)\n",
            "Requirement already satisfied: prompt-toolkit<2.0.0,>=1.0.4 in /usr/local/lib/python3.6/dist-packages (from ipython>=4.0.0->ipykernel->notebook>=4.3.1->jupyterlab->-r requirements.in (line 1)) (1.0.18)\n",
            "Requirement already satisfied: simplegeneric>0.8 in /usr/local/lib/python3.6/dist-packages (from ipython>=4.0.0->ipykernel->notebook>=4.3.1->jupyterlab->-r requirements.in (line 1)) (0.8.1)\n",
            "Requirement already satisfied: wcwidth in /usr/local/lib/python3.6/dist-packages (from prompt-toolkit<2.0.0,>=1.0.4->ipython>=4.0.0->ipykernel->notebook>=4.3.1->jupyterlab->-r requirements.in (line 1)) (0.1.9)\n"
          ],
          "name": "stdout"
        }
      ]
    },
    {
      "cell_type": "code",
      "metadata": {
        "id": "ccf29VA2yBst",
        "colab_type": "code",
        "colab": {
          "base_uri": "https://localhost:8080/",
          "height": 71
        },
        "outputId": "cc98ab04-3136-4e77-9c86-f9f710da7ad1"
      },
      "source": [
        "!git pull origin master"
      ],
      "execution_count": null,
      "outputs": [
        {
          "output_type": "stream",
          "text": [
            "From https://github.com/marcin119a/sat-experiments\n",
            " * branch            master     -> FETCH_HEAD\n",
            "Already up to date.\n"
          ],
          "name": "stdout"
        }
      ]
    },
    {
      "cell_type": "code",
      "metadata": {
        "id": "GoMLZiYlyQ9B",
        "colab_type": "code",
        "colab": {
          "base_uri": "https://localhost:8080/",
          "height": 35
        },
        "outputId": "523eacb3-481f-40f1-e6a3-c44567b84892"
      },
      "source": [
        "%cd .."
      ],
      "execution_count": null,
      "outputs": [
        {
          "output_type": "stream",
          "text": [
            "/content/sat-experiments\n"
          ],
          "name": "stdout"
        }
      ]
    },
    {
      "cell_type": "code",
      "metadata": {
        "id": "_zN49Z66zbt1",
        "colab_type": "code",
        "colab": {}
      },
      "source": [
        "# Hyperparameter grid  [pump parametrization (linear, tanh, etc.), number of iterations (N), noise level (sigma), learning rate (dt), coupling (zeta), sample size (attempt_num)] \n",
        "from hyperopt import hp\n",
        "from hyperopt.pyll.stochastic import sample\n",
        "import numpy as np \n",
        "\n",
        "space = {\n",
        "    'N': hp.quniform('N', 300, 500, 10),\n",
        "    'sigma': hp.uniform('sigma', 0.0, 1.0),\n",
        "    'dt': hp.loguniform('dt', np.log(0.005), np.log(0.5)),\n",
        "    'zeta': hp.uniform('zeta', 0.0, 2.0),\n",
        "    'attempt_num': hp.quniform('attempt_num', 950, 1100, 5),\n",
        "    'alpha': hp.uniform('alpha', 0.1, 0.9),\n",
        "    'complexity': 700,\n",
        "    'seed': 2131,\n",
        "    'loss': None,\n",
        "    'observations': 100 #batch_size\n",
        "}\n",
        "\n",
        "# Subsampling (only applicable with 'goss')\n",
        "subsample_dist = list(np.linspace(0.5, 1, 100))"
      ],
      "execution_count": null,
      "outputs": []
    },
    {
      "cell_type": "code",
      "metadata": {
        "id": "ucalY86GzcNJ",
        "colab_type": "code",
        "colab": {
          "base_uri": "https://localhost:8080/",
          "height": 269
        },
        "outputId": "7930d0fd-69e3-407f-b7c8-822d1ec5a8f7"
      },
      "source": [
        "from hyperopt import fmin, Trials, rand, tpe\n",
        "\n",
        "from tunning import objective\n",
        "import tunning\n",
        "\n",
        "from importlib import reload\n",
        "reload(tunning)\n",
        "\n",
        "\n",
        "tpe_trials = Trials()\n",
        "rand_trials = Trials()\n",
        "\n",
        "global  ITERATION\n",
        "\n",
        "ITERATION = 0\n",
        "\n",
        "# Create the algorithms\n",
        "tpe_algo = tpe.suggest\n",
        "rand_algo = rand.suggest\n",
        "\n",
        "rand_best = fmin(fn=objective, space=space, algo=tpe_algo, trials=rand_trials, \n",
        "                 max_evals=20)"
      ],
      "execution_count": null,
      "outputs": [
        {
          "output_type": "stream",
          "text": [
            "/usr/local/lib/python3.6/dist-packages/tensorflow/python/framework/dtypes.py:523: FutureWarning: Passing (type, 1) or '1type' as a synonym of type is deprecated; in a future version of numpy, it will be understood as (type, (1,)) / '(1,)type'.\n",
            "  _np_qint8 = np.dtype([(\"qint8\", np.int8, 1)])\n",
            "/usr/local/lib/python3.6/dist-packages/tensorflow/python/framework/dtypes.py:524: FutureWarning: Passing (type, 1) or '1type' as a synonym of type is deprecated; in a future version of numpy, it will be understood as (type, (1,)) / '(1,)type'.\n",
            "  _np_quint8 = np.dtype([(\"quint8\", np.uint8, 1)])\n",
            "/usr/local/lib/python3.6/dist-packages/tensorflow/python/framework/dtypes.py:525: FutureWarning: Passing (type, 1) or '1type' as a synonym of type is deprecated; in a future version of numpy, it will be understood as (type, (1,)) / '(1,)type'.\n",
            "  _np_qint16 = np.dtype([(\"qint16\", np.int16, 1)])\n",
            "/usr/local/lib/python3.6/dist-packages/tensorflow/python/framework/dtypes.py:526: FutureWarning: Passing (type, 1) or '1type' as a synonym of type is deprecated; in a future version of numpy, it will be understood as (type, (1,)) / '(1,)type'.\n",
            "  _np_quint16 = np.dtype([(\"quint16\", np.uint16, 1)])\n",
            "/usr/local/lib/python3.6/dist-packages/tensorflow/python/framework/dtypes.py:527: FutureWarning: Passing (type, 1) or '1type' as a synonym of type is deprecated; in a future version of numpy, it will be understood as (type, (1,)) / '(1,)type'.\n",
            "  _np_qint32 = np.dtype([(\"qint32\", np.int32, 1)])\n",
            "/usr/local/lib/python3.6/dist-packages/tensorflow/python/framework/dtypes.py:532: FutureWarning: Passing (type, 1) or '1type' as a synonym of type is deprecated; in a future version of numpy, it will be understood as (type, (1,)) / '(1,)type'.\n",
            "  np_resource = np.dtype([(\"resource\", np.ubyte, 1)])\n"
          ],
          "name": "stderr"
        },
        {
          "output_type": "stream",
          "text": [
            "100%|██████████| 20/20 [7:56:13<00:00, 1428.67s/it, best loss: 0.28]\n"
          ],
          "name": "stdout"
        }
      ]
    },
    {
      "cell_type": "code",
      "metadata": {
        "id": "nzgpVFVgE0dV",
        "colab_type": "code",
        "colab": {}
      },
      "source": [
        "hyperparameters = {\n",
        "    #'class_weight': hp.choice('class_weight', [None, 'balanced']), @TODO\n",
        "    'N': 400,\n",
        "    'sigma': 0.2,\n",
        "    'dt': 0.3,\n",
        "    'zeta': 1,\n",
        "    'attempt_num': 1000,\n",
        "    'alpha': 0.2,\n",
        "    'complexity': 500,\n",
        "    'seed': 1232,\n",
        "    'observations': 1000 #batch_size\n",
        "}\n",
        "hyp300 = {\n",
        "    'N': 480.0,\n",
        "    'alpha': 0.7936654055841527, \n",
        "    'attempt_num': 1020.0, \n",
        "    'complexity': 1000, \n",
        "    'dt': 0.013139918560135064, \n",
        "    'observations': 10, \n",
        "    'seed': 12321, \n",
        "    'sigma': 0.3576152387617014, \n",
        "    'zeta': 1.8420981016068374\n",
        "}\n",
        "hyp1000 = {'N': 420.0,\n",
        "  'alpha': 0.22949599410175772,\n",
        "  'attempt_num': 1020.0,\n",
        "  'complexity': 1000, \n",
        "  'seed': 12321,\n",
        "  'observations': 100, \n",
        "  'dt': 0.07728240871208217,\n",
        "  'sigma': 0.9582091076002451,\n",
        "  'zeta': 1.6383005179860826\n",
        " }"
      ],
      "execution_count": null,
      "outputs": []
    },
    {
      "cell_type": "code",
      "metadata": {
        "id": "qXnH5Jp_2sPW",
        "colab_type": "code",
        "colab": {
          "base_uri": "https://localhost:8080/",
          "height": 73
        },
        "outputId": "873bbe40-3810-4304-993b-31fb49f439a0"
      },
      "source": [
        "from performance import predict\n",
        "\n",
        "import performance\n",
        "\n",
        "from importlib import reload\n",
        "reload(performance)\n",
        "\n",
        "\n",
        "\n",
        "\n",
        "y_pred, train_set = predict(hyp1000)\n",
        "print(train_set['sat'], y_pred)\n",
        "print(accuracy(y_pred, train_set['sat']))"
      ],
      "execution_count": null,
      "outputs": [
        {
          "output_type": "stream",
          "text": [
            "[0, 0, 0, 1, 0, 0, 1, 1, 1, 0, 1, 1, 1, 0, 0, 0, 1, 1, 1, 0] [0, 0, 0, 0, 0, 0, 0, 0, 0, 0, 0, 1, 0, 0, 0, 0, 0, 1, 0, 0]\n",
            "0.6\n"
          ],
          "name": "stdout"
        }
      ]
    },
    {
      "cell_type": "code",
      "metadata": {
        "id": "wGcleNRHHqOj",
        "colab_type": "code",
        "colab": {}
      },
      "source": [
        "def accuracy(x, y):\n",
        "  return sum(1 for a,b in zip(x,y) if a == b) / len(x)\n"
      ],
      "execution_count": null,
      "outputs": []
    },
    {
      "cell_type": "code",
      "metadata": {
        "id": "D2ce2Z9gLgZl",
        "colab_type": "code",
        "colab": {}
      },
      "source": [
        "!git config  user.email \"marcin119a@gmail.com\""
      ],
      "execution_count": null,
      "outputs": []
    },
    {
      "cell_type": "code",
      "metadata": {
        "id": "izq1yUvcH-bM",
        "colab_type": "code",
        "colab": {
          "base_uri": "https://localhost:8080/",
          "height": 160
        },
        "outputId": "3d22330d-65a3-4ba2-cb02-480c26c0b5c5"
      },
      "source": [
        "!git push origin master"
      ],
      "execution_count": null,
      "outputs": [
        {
          "output_type": "stream",
          "text": [
            "Counting objects: 6, done.\n",
            "Delta compression using up to 2 threads.\n",
            "Compressing objects: 100% (6/6), done.\n",
            "Writing objects: 100% (6/6), 747.96 KiB | 1.79 MiB/s, done.\n",
            "Total 6 (delta 1), reused 0 (delta 0)\n",
            "remote: Resolving deltas: 100% (1/1), completed with 1 local object.\u001b[K\n",
            "To https://github.com/marcin119a/sat-experiments.git\n",
            "   839b0d0..ab5752b  master -> master\n"
          ],
          "name": "stdout"
        }
      ]
    },
    {
      "cell_type": "code",
      "metadata": {
        "id": "RycK0jTMz7O0",
        "colab_type": "code",
        "colab": {
          "base_uri": "https://localhost:8080/",
          "height": 35
        },
        "outputId": "3fa5072f-61e6-42ba-b9b7-ad5fd84c8ba4"
      },
      "source": [
        "print(accuracy(y_pred, train_set['sat']))"
      ],
      "execution_count": null,
      "outputs": [
        {
          "output_type": "stream",
          "text": [
            "0.9\n"
          ],
          "name": "stdout"
        }
      ]
    },
    {
      "cell_type": "code",
      "metadata": {
        "id": "iMxIqMFRKaLz",
        "colab_type": "code",
        "colab": {
          "base_uri": "https://localhost:8080/",
          "height": 35
        },
        "outputId": "48479290-acfe-4f1f-8bd0-f3cc759f1b90"
      },
      "source": [
        "%cd neuralheuristicsforsat/"
      ],
      "execution_count": null,
      "outputs": [
        {
          "output_type": "stream",
          "text": [
            "/content/sat-experiments/neuralheuristicsforsat\n"
          ],
          "name": "stdout"
        }
      ]
    },
    {
      "cell_type": "code",
      "metadata": {
        "id": "uB7aBTI-LSnY",
        "colab_type": "code",
        "colab": {
          "base_uri": "https://localhost:8080/",
          "height": 71
        },
        "outputId": "f5ee2b68-b160-444e-b695-e0ee2d6fadb4"
      },
      "source": [
        "!git commit -m \"sr_50\""
      ],
      "execution_count": null,
      "outputs": [
        {
          "output_type": "stream",
          "text": [
            "[master 5cd4a00] sr_50\n",
            " 1 file changed, 0 insertions(+), 0 deletions(-)\n",
            " create mode 100644 sr_50/train_12321_sr_50.tfrecord\n"
          ],
          "name": "stdout"
        }
      ]
    },
    {
      "cell_type": "code",
      "metadata": {
        "id": "l0xMFO9-NMIE",
        "colab_type": "code",
        "colab": {}
      },
      "source": [
        "!git add sr_*"
      ],
      "execution_count": null,
      "outputs": []
    },
    {
      "cell_type": "code",
      "metadata": {
        "id": "ZDpklX6iIf7B",
        "colab_type": "code",
        "colab": {
          "base_uri": "https://localhost:8080/",
          "height": 71
        },
        "outputId": "16ec1285-c893-46eb-c911-ae6ab53717c2"
      },
      "source": [
        "!git commit -m \"sr_dataset vol2\""
      ],
      "execution_count": null,
      "outputs": [
        {
          "output_type": "stream",
          "text": [
            "[master 067fea8] sr_dataset vol2\n",
            " 1 file changed, 0 insertions(+), 0 deletions(-)\n",
            " create mode 100644 sr_700/train_2131_sr_700.tfrecord\n"
          ],
          "name": "stdout"
        }
      ]
    },
    {
      "cell_type": "code",
      "metadata": {
        "id": "Odg1vDQNIZ2s",
        "colab_type": "code",
        "colab": {}
      },
      "source": [
        "!git config --global user.email \"marcin119a@gmail.com\""
      ],
      "execution_count": null,
      "outputs": []
    },
    {
      "cell_type": "code",
      "metadata": {
        "id": "a5acaDe9N2pp",
        "colab_type": "code",
        "colab": {
          "base_uri": "https://localhost:8080/",
          "height": 35
        },
        "outputId": "6ae31145-e57d-4e2b-ff61-c67d6d06de05"
      },
      "source": [
        "%cd .."
      ],
      "execution_count": null,
      "outputs": [
        {
          "output_type": "stream",
          "text": [
            "/content/sat-experiments\n"
          ],
          "name": "stdout"
        }
      ]
    },
    {
      "cell_type": "code",
      "metadata": {
        "id": "LDMifjoJOodb",
        "colab_type": "code",
        "colab": {
          "base_uri": "https://localhost:8080/",
          "height": 160
        },
        "outputId": "113aea7d-dafe-4443-e445-bcb4097f153b"
      },
      "source": [
        "!git push origin master"
      ],
      "execution_count": null,
      "outputs": [
        {
          "output_type": "stream",
          "text": [
            "Counting objects: 4, done.\n",
            "Delta compression using up to 2 threads.\n",
            "Compressing objects: 100% (4/4), done.\n",
            "Writing objects: 100% (4/4), 2.64 MiB | 1.57 MiB/s, done.\n",
            "Total 4 (delta 1), reused 0 (delta 0)\n",
            "remote: Resolving deltas: 100% (1/1), completed with 1 local object.\u001b[K\n",
            "To https://github.com/marcin119a/sat-experiments.git\n",
            "   e5423ef..067fea8  master -> master\n"
          ],
          "name": "stdout"
        }
      ]
    },
    {
      "cell_type": "code",
      "metadata": {
        "id": "5Gl3UfsxKgoI",
        "colab_type": "code",
        "colab": {
          "base_uri": "https://localhost:8080/",
          "height": 305
        },
        "outputId": "fecec795-4ade-4d3b-9fcb-4c0bc1edb2d2"
      },
      "source": [
        "!python dump_dataset_2sat.py -o 1000 -c 700 -j 2131"
      ],
      "execution_count": null,
      "outputs": [
        {
          "output_type": "stream",
          "text": [
            "/usr/local/lib/python3.6/dist-packages/tensorflow/python/framework/dtypes.py:523: FutureWarning: Passing (type, 1) or '1type' as a synonym of type is deprecated; in a future version of numpy, it will be understood as (type, (1,)) / '(1,)type'.\n",
            "  _np_qint8 = np.dtype([(\"qint8\", np.int8, 1)])\n",
            "/usr/local/lib/python3.6/dist-packages/tensorflow/python/framework/dtypes.py:524: FutureWarning: Passing (type, 1) or '1type' as a synonym of type is deprecated; in a future version of numpy, it will be understood as (type, (1,)) / '(1,)type'.\n",
            "  _np_quint8 = np.dtype([(\"quint8\", np.uint8, 1)])\n",
            "/usr/local/lib/python3.6/dist-packages/tensorflow/python/framework/dtypes.py:525: FutureWarning: Passing (type, 1) or '1type' as a synonym of type is deprecated; in a future version of numpy, it will be understood as (type, (1,)) / '(1,)type'.\n",
            "  _np_qint16 = np.dtype([(\"qint16\", np.int16, 1)])\n",
            "/usr/local/lib/python3.6/dist-packages/tensorflow/python/framework/dtypes.py:526: FutureWarning: Passing (type, 1) or '1type' as a synonym of type is deprecated; in a future version of numpy, it will be understood as (type, (1,)) / '(1,)type'.\n",
            "  _np_quint16 = np.dtype([(\"quint16\", np.uint16, 1)])\n",
            "/usr/local/lib/python3.6/dist-packages/tensorflow/python/framework/dtypes.py:527: FutureWarning: Passing (type, 1) or '1type' as a synonym of type is deprecated; in a future version of numpy, it will be understood as (type, (1,)) / '(1,)type'.\n",
            "  _np_qint32 = np.dtype([(\"qint32\", np.int32, 1)])\n",
            "/usr/local/lib/python3.6/dist-packages/tensorflow/python/framework/dtypes.py:532: FutureWarning: Passing (type, 1) or '1type' as a synonym of type is deprecated; in a future version of numpy, it will be understood as (type, (1,)) / '(1,)type'.\n",
            "  np_resource = np.dtype([(\"resource\", np.ubyte, 1)])\n",
            "Set random seed to 2131\n",
            "Created directory sr_700\n",
            "100% 1000/1000 [09:36<00:00,  1.73it/s]\n"
          ],
          "name": "stdout"
        }
      ]
    },
    {
      "cell_type": "code",
      "metadata": {
        "id": "yoaC54jYFgg1",
        "colab_type": "code",
        "colab": {
          "base_uri": "https://localhost:8080/",
          "height": 305
        },
        "outputId": "28d6b557-f9bc-4bdd-ed00-3b5190567f3b"
      },
      "source": [
        "!python dump_dataset_2sat.py -o 1000 -c 1000 -j 12321"
      ],
      "execution_count": null,
      "outputs": [
        {
          "output_type": "stream",
          "text": [
            "/usr/local/lib/python3.6/dist-packages/tensorflow/python/framework/dtypes.py:523: FutureWarning: Passing (type, 1) or '1type' as a synonym of type is deprecated; in a future version of numpy, it will be understood as (type, (1,)) / '(1,)type'.\n",
            "  _np_qint8 = np.dtype([(\"qint8\", np.int8, 1)])\n",
            "/usr/local/lib/python3.6/dist-packages/tensorflow/python/framework/dtypes.py:524: FutureWarning: Passing (type, 1) or '1type' as a synonym of type is deprecated; in a future version of numpy, it will be understood as (type, (1,)) / '(1,)type'.\n",
            "  _np_quint8 = np.dtype([(\"quint8\", np.uint8, 1)])\n",
            "/usr/local/lib/python3.6/dist-packages/tensorflow/python/framework/dtypes.py:525: FutureWarning: Passing (type, 1) or '1type' as a synonym of type is deprecated; in a future version of numpy, it will be understood as (type, (1,)) / '(1,)type'.\n",
            "  _np_qint16 = np.dtype([(\"qint16\", np.int16, 1)])\n",
            "/usr/local/lib/python3.6/dist-packages/tensorflow/python/framework/dtypes.py:526: FutureWarning: Passing (type, 1) or '1type' as a synonym of type is deprecated; in a future version of numpy, it will be understood as (type, (1,)) / '(1,)type'.\n",
            "  _np_quint16 = np.dtype([(\"quint16\", np.uint16, 1)])\n",
            "/usr/local/lib/python3.6/dist-packages/tensorflow/python/framework/dtypes.py:527: FutureWarning: Passing (type, 1) or '1type' as a synonym of type is deprecated; in a future version of numpy, it will be understood as (type, (1,)) / '(1,)type'.\n",
            "  _np_qint32 = np.dtype([(\"qint32\", np.int32, 1)])\n",
            "/usr/local/lib/python3.6/dist-packages/tensorflow/python/framework/dtypes.py:532: FutureWarning: Passing (type, 1) or '1type' as a synonym of type is deprecated; in a future version of numpy, it will be understood as (type, (1,)) / '(1,)type'.\n",
            "  np_resource = np.dtype([(\"resource\", np.ubyte, 1)])\n",
            "Set random seed to 12321\n",
            "Created directory sr_1000\n",
            "100% 1000/1000 [19:44<00:00,  1.18s/it]\n"
          ],
          "name": "stdout"
        }
      ]
    },
    {
      "cell_type": "code",
      "metadata": {
        "id": "lp6em7ADbzaU",
        "colab_type": "code",
        "colab": {}
      },
      "source": [
        "df = pd.read_csv('logs_logs__1000.csv', names=['M','alfa','y_hat','y_acc', 'TIME'], sep=',')\n"
      ],
      "execution_count": null,
      "outputs": []
    },
    {
      "cell_type": "code",
      "metadata": {
        "id": "RJJ9tsOebWmF",
        "colab_type": "code",
        "colab": {}
      },
      "source": [
        "import np\n",
        "\n",
        "x = df['alfa']\n",
        "y = np.mean(df['y_hat'])\n",
        "z = 100 * df['time']\n",
        "for v1,v2,v3 in answer:\n",
        "    x.append(v1)\n",
        "    y.append(100*v2)\n",
        "    z.append(100*v3)"
      ],
      "execution_count": null,
      "outputs": []
    },
    {
      "cell_type": "code",
      "metadata": {
        "id": "s-0J8NFibsVd",
        "colab_type": "code",
        "colab": {}
      },
      "source": [
        "f = plt.figure(figsize=[7,7])\n",
        "plt.title('2-SAT {} variables, each point is averaged over {}'.format(n, num_averaging), fontsize=16)\n",
        "plt.plot(x, y, \"-\",label='SimCIM \\n')\n",
        "plt.plot(x, z, \"-\",label=' pycosat\\n')\n",
        "plt.xlabel('clause density',size=15)\n",
        "plt.ylabel('% Satisfiability',size=15)\n",
        "plt.xticks(fontsize = 15)\n",
        "plt.yticks(fontsize = 15)\n",
        "plt.grid()\n",
        "plt.legend(fontsize=12)\n",
        "plt.show()"
      ],
      "execution_count": null,
      "outputs": []
    },
    {
      "cell_type": "code",
      "metadata": {
        "id": "IFFvdnLKRKCt",
        "colab_type": "code",
        "colab": {
          "base_uri": "https://localhost:8080/",
          "height": 73
        },
        "outputId": "90d4b0b6-4e01-4b07-986c-4bfb70068309"
      },
      "source": [
        "import tensorflow as tf \n",
        "import tensorflow\n",
        "\n",
        "\n",
        "def extract_fn(data_record):\n",
        "    features = {\n",
        "        # Extract features using the keys set during creation\n",
        "        'inputs': tf.FixedLenFeature([], tf.string),\n",
        "        'sat': tf.FixedLenFeature([], tf.int64),\n",
        "        # If size is different of different records, use VarLenFeature \n",
        "    }\n",
        "    sample = tf.parse_single_example(data_record, features)\n",
        "    return sample\n",
        "\n",
        "dataset = tf.data.TFRecordDataset('sr_50/train_12321_sr_50.tfrecord')\n",
        "print(dataset)\n",
        "dataset = dataset.map(extract_fn)\n",
        "print(dataset)\n",
        "iterator = dataset.make_one_shot_iterator()\n",
        "next_element = iterator.get_next()\n",
        "\n",
        "if __name__ == '__main__':\n",
        "  with tf.Session() as sess:\n",
        "      try:\n",
        "          while True:\n",
        "              data_record = sess.run(next_element)\n",
        "              print(data_record)\n",
        "      except:\n",
        "          pass\n"
      ],
      "execution_count": null,
      "outputs": [
        {
          "output_type": "stream",
          "text": [
            "<TFRecordDataset shapes: (), types: tf.string>\n",
            "<MapDataset shapes: {inputs: (), sat: ()}, types: {inputs: tf.string, sat: tf.int64}>\n"
          ],
          "name": "stdout"
        }
      ]
    },
    {
      "cell_type": "code",
      "metadata": {
        "id": "v5OLs6BlX23y",
        "colab_type": "code",
        "colab": {}
      },
      "source": [
        "import tensorflow as tf\n",
        "\n",
        "\n",
        "def make_dataset(filename, gzipped):\n",
        "    #batch_size = FLAGS.batch_size\n",
        "    batch_size = 10\n",
        "    variable_num= 50\n",
        "    clause_num = 100\n",
        "    #variable_num = FLAGS.variable_number\n",
        "    #clause_num = FLAGS.clause_number\n",
        "\n",
        "    def parser(serialized_example):\n",
        "        return tf.parse_single_example(\n",
        "            serialized_example,\n",
        "            features={\n",
        "                'inputs': tf.FixedLenFeature([variable_num, clause_num, 2], tf.float32),\n",
        "                'sat': tf.FixedLenFeature([], tf.float32)\n",
        "            })\n",
        "\n",
        "    dataset = tf.data.TFRecordDataset(tf.matching_files(filename),\n",
        "                                      compression_type='GZIP'\n",
        "                                      if gzipped else ''\n",
        "                                      )\n",
        "    dataset = dataset.map(parser, num_parallel_calls=batch_size)\n",
        "    dataset = dataset.map(lambda x:\n",
        "                          (x[\"inputs\"], {\"sat\": x[\"sat\"]}))\n",
        "    return dataset\n",
        "\n",
        "def train_input_fn(train_file, train_files_gzipped):\n",
        "\n",
        "    batch_size = 10\n",
        "    dataset = make_dataset(train_file, train_files_gzipped)\n",
        "    dataset = dataset.batch(batch_size, drop_remainder=True)\n",
        "    dataset = dataset.prefetch(4).cache().repeat()\n",
        "    dataset = dataset.make_one_shot_iterator().get_next()\n",
        "    return dataset\n",
        "\n",
        "\n",
        "def eval_input_fn(test_file, test_files_gzipped):\n",
        "    batch_size = 10\n",
        "    dataset = make_dataset(test_file, test_files_gzipped)\n",
        "    dataset = dataset.batch(batch_size, drop_remainder=True)\n",
        "    dataset = dataset.make_one_shot_iterator().get_next()\n",
        "    return dataset\n"
      ],
      "execution_count": null,
      "outputs": []
    },
    {
      "cell_type": "code",
      "metadata": {
        "id": "2vVigVElTs4T",
        "colab_type": "code",
        "colab": {}
      },
      "source": [
        "\n",
        "features, labels = train_input_fn('/content/sat-experiments/sr_50/train_12321_sr_50.tfrecord', False)\n",
        "\n",
        "\n",
        "#inputs, sat_labels = labels[\"sat\"]\n",
        "\n",
        "\n",
        "batch_size = tf.shape(features)[0]\n",
        "variable_num = tf.shape(features)[1]\n",
        "clause_num = tf.shape(features)[2]\n",
        "#assert_shape(variable_num, [])\n",
        "#assert_shape(clause_num, [])"
      ],
      "execution_count": null,
      "outputs": []
    },
    {
      "cell_type": "code",
      "metadata": {
        "id": "b8CuESCuZekk",
        "colab_type": "code",
        "colab": {
          "base_uri": "https://localhost:8080/",
          "height": 35
        },
        "outputId": "6f6b3e68-da9c-4f64-9d0e-884bd825617b"
      },
      "source": [
        "print(batch_size)"
      ],
      "execution_count": null,
      "outputs": [
        {
          "output_type": "stream",
          "text": [
            "Tensor(\"strided_slice_3:0\", shape=(), dtype=int32)\n"
          ],
          "name": "stdout"
        }
      ]
    },
    {
      "cell_type": "code",
      "metadata": {
        "id": "nMFOHaD1ZhMS",
        "colab_type": "code",
        "colab": {
          "base_uri": "https://localhost:8080/",
          "height": 35
        },
        "outputId": "5bb105c1-9ec6-434b-c9d1-3095cf438421"
      },
      "source": [
        "variable_num"
      ],
      "execution_count": null,
      "outputs": [
        {
          "output_type": "execute_result",
          "data": {
            "text/plain": [
              "<tf.Tensor 'strided_slice_4:0' shape=() dtype=int32>"
            ]
          },
          "metadata": {
            "tags": []
          },
          "execution_count": 13
        }
      ]
    },
    {
      "cell_type": "code",
      "metadata": {
        "id": "u7-JSEcMZkA1",
        "colab_type": "code",
        "colab": {
          "base_uri": "https://localhost:8080/",
          "height": 35
        },
        "outputId": "89ac8b35-5685-4c49-d2f0-3a2a029e5962"
      },
      "source": [
        "%cd .."
      ],
      "execution_count": null,
      "outputs": [
        {
          "output_type": "stream",
          "text": [
            "/content/sat-experiments\n"
          ],
          "name": "stdout"
        }
      ]
    },
    {
      "cell_type": "code",
      "metadata": {
        "id": "pGW935D-Z2hm",
        "colab_type": "code",
        "colab": {}
      },
      "source": [
        "sat_labels = labels[\"sat\"]"
      ],
      "execution_count": null,
      "outputs": []
    },
    {
      "cell_type": "code",
      "metadata": {
        "id": "_C2nDFIVh1za",
        "colab_type": "code",
        "colab": {}
      },
      "source": [
        "import pandas as pd\n",
        "df = pd.read_csv('https://students.mimuw.edu.pl/~mw404851/sr_700/logs_logs__700.csv', names=['M','alfa','y_hat','y_acc', 'TIME'], sep=',')\n"
      ],
      "execution_count": null,
      "outputs": []
    },
    {
      "cell_type": "code",
      "metadata": {
        "id": "c9BvMMJHiCaO",
        "colab_type": "code",
        "colab": {
          "base_uri": "https://localhost:8080/",
          "height": 178
        },
        "outputId": "a4e915d9-5919-4365-8e5a-a9ae617c4182"
      },
      "source": [
        "from sklearn.metrics import classification_report\n",
        "\n",
        "y_pred = df['y_hat']\n",
        "y_true = df['y_acc']\n",
        "target_names = ['sat=1', 'unsat=0']\n",
        "report = classification_report(y_true, y_pred, target_names=target_names)\n",
        "print(report)"
      ],
      "execution_count": null,
      "outputs": [
        {
          "output_type": "stream",
          "text": [
            "              precision    recall  f1-score   support\n",
            "\n",
            "       sat=1       0.49      1.00      0.66       840\n",
            "     unsat=0       1.00      0.25      0.40      1160\n",
            "\n",
            "    accuracy                           0.57      2000\n",
            "   macro avg       0.75      0.63      0.53      2000\n",
            "weighted avg       0.79      0.57      0.51      2000\n",
            "\n"
          ],
          "name": "stdout"
        }
      ]
    },
    {
      "cell_type": "code",
      "metadata": {
        "id": "sVGQX8VfjjYc",
        "colab_type": "code",
        "colab": {
          "base_uri": "https://localhost:8080/",
          "height": 339
        },
        "outputId": "e28e7fa1-14f4-4c5b-ea8f-b7c01e083c41"
      },
      "source": [
        "\n",
        "x1 = classification_report(y_true[200:300], y_pred[200:300], target_names=target_names)\n",
        "x2 = classification_report(y_true[500:600], y_pred[500:600], target_names=target_names)\n",
        "print(x1)\n",
        "print(x2)"
      ],
      "execution_count": null,
      "outputs": [
        {
          "output_type": "stream",
          "text": [
            "              precision    recall  f1-score   support\n",
            "\n",
            "       sat=1       0.41      0.76      0.53        42\n",
            "     unsat=0       0.55      0.21      0.30        58\n",
            "\n",
            "    accuracy                           0.44       100\n",
            "   macro avg       0.48      0.48      0.42       100\n",
            "weighted avg       0.49      0.44      0.40       100\n",
            "\n",
            "              precision    recall  f1-score   support\n",
            "\n",
            "       sat=1       0.43      0.93      0.59        42\n",
            "     unsat=0       0.67      0.10      0.18        58\n",
            "\n",
            "    accuracy                           0.45       100\n",
            "   macro avg       0.55      0.52      0.38       100\n",
            "weighted avg       0.57      0.45      0.35       100\n",
            "\n"
          ],
          "name": "stdout"
        }
      ]
    },
    {
      "cell_type": "code",
      "metadata": {
        "id": "6HKOh-Y_h-54",
        "colab_type": "code",
        "colab": {}
      },
      "source": [
        ""
      ],
      "execution_count": null,
      "outputs": []
    }
  ]
}
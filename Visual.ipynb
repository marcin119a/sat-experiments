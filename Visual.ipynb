{
  "nbformat": 4,
  "nbformat_minor": 0,
  "metadata": {
    "colab": {
      "name": "Visual.ipynb",
      "provenance": [],
      "collapsed_sections": []
    },
    "kernelspec": {
      "name": "python3",
      "display_name": "Python 3"
    }
  },
  "cells": [
    {
      "cell_type": "code",
      "metadata": {
        "id": "LWdGeW2UkLbl",
        "colab_type": "code",
        "colab": {}
      },
      "source": [
        "import pandas as pd\n",
        "import numpy as np \n",
        "import matplotlib.pyplot as plt\n",
        "\n",
        "df3 = pd.read_csv('https://students.mimuw.edu.pl/~mw404851/sr_50/logs_logs_1000_50.csv', names=['M','alfa','y_hat','y_acc', 'TIME'], sep=',')\n",
        "Y = df3.sort_values(['alfa'])\n"
      ],
      "execution_count": null,
      "outputs": []
    },
    {
      "cell_type": "code",
      "metadata": {
        "id": "I3AA1kdpk2UV",
        "colab_type": "code",
        "colab": {}
      },
      "source": [
        "y = (Y[Y['y_acc'] != Y['y_hat']])\n"
      ],
      "execution_count": null,
      "outputs": []
    },
    {
      "cell_type": "code",
      "metadata": {
        "id": "4PxCRFTulnBo",
        "colab_type": "code",
        "colab": {
          "base_uri": "https://localhost:8080/",
          "height": 273
        },
        "outputId": "45d6151d-4362-4a0f-e1d8-708b33f451ca"
      },
      "source": [
        "print(y)"
      ],
      "execution_count": null,
      "outputs": [
        {
          "output_type": "stream",
          "text": [
            "      M  alfa  y_hat  y_acc      TIME\n",
            "97   35  0.70      0      1  0.220050\n",
            "529  44  0.88      0      1  0.229257\n",
            "774  48  0.96      0      1  0.230359\n",
            "517  49  0.98      0      1  0.233787\n",
            "163  49  0.98      0      1  0.226457\n",
            "..   ..   ...    ...    ...       ...\n",
            "179  94  1.88      0      1  0.240995\n",
            "636  94  1.88      0      1  0.237015\n",
            "942  95  1.90      0      1  0.237874\n",
            "642  96  1.92      0      1  0.244500\n",
            "934  98  1.96      0      1  0.235891\n",
            "\n",
            "[92 rows x 5 columns]\n"
          ],
          "name": "stdout"
        }
      ]
    },
    {
      "cell_type": "code",
      "metadata": {
        "id": "OO6wV2CYk5vw",
        "colab_type": "code",
        "colab": {
          "base_uri": "https://localhost:8080/",
          "height": 147
        },
        "outputId": "1b1b4218-862d-4e81-8859-2607bde8b5a1"
      },
      "source": [
        "bins = np.arange(0.0, 2.1, 0.20)\n",
        "y['bins'] = pd.cut(y['alfa'], bins)\n",
        "plot_y = y.groupby('bins')['y_acc'].agg(['sum', 'count'])\n"
      ],
      "execution_count": null,
      "outputs": [
        {
          "output_type": "stream",
          "text": [
            "/usr/local/lib/python3.6/dist-packages/ipykernel_launcher.py:2: SettingWithCopyWarning: \n",
            "A value is trying to be set on a copy of a slice from a DataFrame.\n",
            "Try using .loc[row_indexer,col_indexer] = value instead\n",
            "\n",
            "See the caveats in the documentation: https://pandas.pydata.org/pandas-docs/stable/user_guide/indexing.html#returning-a-view-versus-a-copy\n",
            "  \n"
          ],
          "name": "stderr"
        }
      ]
    },
    {
      "cell_type": "code",
      "metadata": {
        "id": "aZfz9XBHlTfH",
        "colab_type": "code",
        "colab": {
          "base_uri": "https://localhost:8080/",
          "height": 264
        },
        "outputId": "e3e817c0-e17d-468f-eb57-3ebc3fb8369a"
      },
      "source": [
        "plt.pie(plot_y['count'], labels=plot_y.index.values.tolist(), )\n",
        "plt.title('Error Count')\n",
        "plt.show()"
      ],
      "execution_count": null,
      "outputs": [
        {
          "output_type": "display_data",
          "data": {
            "image/png": "[encoded data removed]",
            "text/plain": [
              "<Figure size 432x288 with 1 Axes>"
            ]
          },
          "metadata": {
            "tags": []
          }
        }
      ]
    },
    {
      "cell_type": "code",
      "metadata": {
        "id": "GSx9r2Vxqgco",
        "colab_type": "code",
        "colab": {
          "base_uri": "https://localhost:8080/",
          "height": 270
        },
        "outputId": "30cad1bc-95dd-40ca-9854-fcf65ab891c3"
      },
      "source": [
        "import pandas as pd\n",
        "import numpy as np\n",
        "import matplotlib.pyplot as plt\n",
        "\n",
        "df50 = pd.read_csv('https://students.mimuw.edu.pl/~mw404851/sr_50/logs_logs_1000_50.csv', names=['M','alfa','y_hat','y_acc', 'TIME'], sep=',').sort_values(['alfa'])\n",
        "df100 = pd.read_csv('https://students.mimuw.edu.pl/~mw404851/sr_100/logs_logs_1000_100.csv', names=['M','alfa','y_hat','y_acc', 'TIME'], sep=',').sort_values(['alfa'])\n",
        "\n",
        "\n",
        "\n",
        "bins = np.arange(0, 2.1, 0.10)\n",
        "\n",
        "df50['bins'] = pd.cut(df50.alfa, bins) \n",
        "df100['bins'] = pd.cut(df100.alfa, bins) \n",
        "\n",
        "\n",
        "ss_acc = df50.groupby('bins')['y_acc'].agg(['sum', 'count'])\n",
        "ss_hat = df50.groupby('bins')['y_hat'].agg(['sum', 'count'])\n",
        "\n",
        "ss_acc_100 =  df100.groupby('bins')['y_acc'].agg(['sum', 'count'])\n",
        "ss_hat_100 =  df100.groupby('bins')['y_hat'].agg(['sum', 'count'])\n",
        "\n",
        "\n",
        "y = [x.mid for x in ss_acc.index.values]\n",
        "\n",
        "\n",
        "#plt.title('Procent spełnialności formuły logicznej dla przedziałów co 1/10', fontsize=14)\n",
        "plt.plot(y, ss_acc['sum']/ss_acc['count'], \"-\",label='MiniSAT-50')\n",
        "plt.plot(y, ss_hat['sum']/ss_hat['count'], \"-\",label=' SimCim-50')\n",
        "plt.plot(y, ss_acc_100['sum']/ss_acc_100['count'], \"-\", label='MiniSAT-100')\n",
        "plt.plot(y, ss_hat_100['sum']/ss_hat_100['count'], \"-\", label=' SimCim-100')\n",
        "\n",
        "\n",
        "plt.xticks(fontsize = 15)\n",
        "plt.yticks(fontsize = 15)\n",
        "plt.grid()\n",
        "plt.legend(fontsize=12)\n",
        "plt.show()\n"
      ],
      "execution_count": null,
      "outputs": [
        {
          "output_type": "display_data",
          "data": {
            "image/png": "[encoded data removed]",
            "text/plain": [
              "<Figure size 432x288 with 1 Axes>"
            ]
          },
          "metadata": {
            "tags": [],
            "needs_background": "light"
          }
        }
      ]
    },
    {
      "cell_type": "code",
      "metadata": {
        "id": "HtVhQZuU2EjC",
        "colab_type": "code",
        "colab": {
          "base_uri": "https://localhost:8080/",
          "height": 137
        },
        "outputId": "d04bb423-c14d-4358-a4ec-fb60cf27099e"
      },
      "source": [
        "df1000 = pd.read_csv('https://students.mimuw.edu.pl/~mw404851/sr_1000/logs_logs__1000.csv', names=['M','alfa','y_hat','y_acc', 'TIME'], sep=',')\n",
        "df700 = pd.read_csv('https://students.mimuw.edu.pl/~mw404851/sr_700/logs_logs__700.csv', names=['M','alfa','y_hat','y_acc', 'TIME'], sep=',')\n",
        "\n"
      ],
      "execution_count": null,
      "outputs": [
        {
          "output_type": "error",
          "ename": "SyntaxError",
          "evalue": "ignored",
          "traceback": [
            "\u001b[0;36m  File \u001b[0;32m\"<ipython-input-115-2e4c2085b125>\"\u001b[0;36m, line \u001b[0;32m3\u001b[0m\n\u001b[0;31m    df500 =\u001b[0m\n\u001b[0m            ^\u001b[0m\n\u001b[0;31mSyntaxError\u001b[0m\u001b[0;31m:\u001b[0m invalid syntax\n"
          ]
        }
      ]
    },
    {
      "cell_type": "code",
      "metadata": {
        "id": "zvc6CRSP41td",
        "colab_type": "code",
        "colab": {
          "base_uri": "https://localhost:8080/",
          "height": 35
        },
        "outputId": "e160f55f-32ab-44c1-d4ef-bd709063d9ac"
      },
      "source": [
        "df500 = pd.read_csv('https://students.mimuw.edu.pl/~mw404851/sr_500/logs_logs__500.csv', names=['M','alfa','y_hat','y_acc', 'TIME'], sep=',')\n",
        "len(df500)"
      ],
      "execution_count": null,
      "outputs": [
        {
          "output_type": "execute_result",
          "data": {
            "text/plain": [
              "2991"
            ]
          },
          "metadata": {
            "tags": []
          },
          "execution_count": 104
        }
      ]
    },
    {
      "cell_type": "code",
      "metadata": {
        "id": "rFF1ZEyW59-i",
        "colab_type": "code",
        "colab": {
          "base_uri": "https://localhost:8080/",
          "height": 35
        },
        "outputId": "28c63d83-96f0-417d-ae09-31b0f978c0a3"
      },
      "source": [
        "df300 = pd.read_csv('https://students.mimuw.edu.pl/~mw404851/sr_300/logs_logs__300(3).csv', names=['M','alfa','y_hat','y_acc', 'TIME'], sep=',')\n",
        "len(df300)"
      ],
      "execution_count": null,
      "outputs": [
        {
          "output_type": "execute_result",
          "data": {
            "text/plain": [
              "4000"
            ]
          },
          "metadata": {
            "tags": []
          },
          "execution_count": 110
        }
      ]
    },
    {
      "cell_type": "code",
      "metadata": {
        "id": "zmOaOpZB6YEU",
        "colab_type": "code",
        "colab": {
          "base_uri": "https://localhost:8080/",
          "height": 206
        },
        "outputId": "fdb5f0e0-e0f4-400a-8465-5aa5ed47d195"
      },
      "source": [
        "df300 = pd.read_csv('https://students.mimuw.edu.pl/~mw404851/sr_300/logs_gbm_trials__100(15).csv', names=['M','alfa','y_hat','y_acc', 'TIME'], sep=',')\n",
        "df300.head()"
      ],
      "execution_count": null,
      "outputs": [
        {
          "output_type": "execute_result",
          "data": {
            "text/html": [
              "<div>\n",
              "<style scoped>\n",
              "    .dataframe tbody tr th:only-of-type {\n",
              "        vertical-align: middle;\n",
              "    }\n",
              "\n",
              "    .dataframe tbody tr th {\n",
              "        vertical-align: top;\n",
              "    }\n",
              "\n",
              "    .dataframe thead th {\n",
              "        text-align: right;\n",
              "    }\n",
              "</style>\n",
              "<table border=\"1\" class=\"dataframe\">\n",
              "  <thead>\n",
              "    <tr style=\"text-align: right;\">\n",
              "      <th></th>\n",
              "      <th>M</th>\n",
              "      <th>alfa</th>\n",
              "      <th>y_hat</th>\n",
              "      <th>y_acc</th>\n",
              "      <th>TIME</th>\n",
              "    </tr>\n",
              "  </thead>\n",
              "  <tbody>\n",
              "    <tr>\n",
              "      <th>0</th>\n",
              "      <td>0.45</td>\n",
              "      <td>{'N': 350.0, 'alpha': 0.32179317540421365, 'at...</td>\n",
              "      <td>1</td>\n",
              "      <td>1549.167690</td>\n",
              "      <td>NaN</td>\n",
              "    </tr>\n",
              "    <tr>\n",
              "      <th>1</th>\n",
              "      <td>0.43</td>\n",
              "      <td>{'N': 310.0, 'alpha': 0.4758159826394771, 'att...</td>\n",
              "      <td>2</td>\n",
              "      <td>1302.321333</td>\n",
              "      <td>NaN</td>\n",
              "    </tr>\n",
              "    <tr>\n",
              "      <th>2</th>\n",
              "      <td>0.37</td>\n",
              "      <td>{'N': 410.0, 'alpha': 0.37480260511071417, 'at...</td>\n",
              "      <td>3</td>\n",
              "      <td>1688.668124</td>\n",
              "      <td>NaN</td>\n",
              "    </tr>\n",
              "    <tr>\n",
              "      <th>3</th>\n",
              "      <td>0.42</td>\n",
              "      <td>{'N': 460.0, 'alpha': 0.7667343879386458, 'att...</td>\n",
              "      <td>4</td>\n",
              "      <td>1906.851444</td>\n",
              "      <td>NaN</td>\n",
              "    </tr>\n",
              "    <tr>\n",
              "      <th>4</th>\n",
              "      <td>0.42</td>\n",
              "      <td>{'N': 310.0, 'alpha': 0.4506147105978493, 'att...</td>\n",
              "      <td>5</td>\n",
              "      <td>1438.998688</td>\n",
              "      <td>NaN</td>\n",
              "    </tr>\n",
              "  </tbody>\n",
              "</table>\n",
              "</div>"
            ],
            "text/plain": [
              "      M                                               alfa  ...        y_acc  TIME\n",
              "0  0.45  {'N': 350.0, 'alpha': 0.32179317540421365, 'at...  ...  1549.167690   NaN\n",
              "1  0.43  {'N': 310.0, 'alpha': 0.4758159826394771, 'att...  ...  1302.321333   NaN\n",
              "2  0.37  {'N': 410.0, 'alpha': 0.37480260511071417, 'at...  ...  1688.668124   NaN\n",
              "3  0.42  {'N': 460.0, 'alpha': 0.7667343879386458, 'att...  ...  1906.851444   NaN\n",
              "4  0.42  {'N': 310.0, 'alpha': 0.4506147105978493, 'att...  ...  1438.998688   NaN\n",
              "\n",
              "[5 rows x 5 columns]"
            ]
          },
          "metadata": {
            "tags": []
          },
          "execution_count": 112
        }
      ]
    },
    {
      "cell_type": "code",
      "metadata": {
        "id": "2dy9A-OG2Llz",
        "colab_type": "code",
        "colab": {
          "base_uri": "https://localhost:8080/",
          "height": 746
        },
        "outputId": "f0556065-1f98-455c-cf84-0979186979b4"
      },
      "source": [
        "best_1000 = df1000[0:100].sort_values(['alfa'])\n",
        "best_700 =  df1000[500:600].sort_values(['alfa'])\n",
        "best_500 = df500[991+700: 991+800].sort_values(['alfa'])\n",
        "best_300 = "
      ],
      "execution_count": null,
      "outputs": [
        {
          "output_type": "error",
          "ename": "KeyError",
          "evalue": "ignored",
          "traceback": [
            "\u001b[0;31m---------------------------------------------------------------------------\u001b[0m",
            "\u001b[0;31mKeyError\u001b[0m                                  Traceback (most recent call last)",
            "\u001b[0;32m/usr/local/lib/python3.6/dist-packages/pandas/core/indexes/base.py\u001b[0m in \u001b[0;36mget_loc\u001b[0;34m(self, key, method, tolerance)\u001b[0m\n\u001b[1;32m   2645\u001b[0m             \u001b[0;32mtry\u001b[0m\u001b[0;34m:\u001b[0m\u001b[0;34m\u001b[0m\u001b[0;34m\u001b[0m\u001b[0m\n\u001b[0;32m-> 2646\u001b[0;31m                 \u001b[0;32mreturn\u001b[0m \u001b[0mself\u001b[0m\u001b[0;34m.\u001b[0m\u001b[0m_engine\u001b[0m\u001b[0;34m.\u001b[0m\u001b[0mget_loc\u001b[0m\u001b[0;34m(\u001b[0m\u001b[0mkey\u001b[0m\u001b[0;34m)\u001b[0m\u001b[0;34m\u001b[0m\u001b[0;34m\u001b[0m\u001b[0m\n\u001b[0m\u001b[1;32m   2647\u001b[0m             \u001b[0;32mexcept\u001b[0m \u001b[0mKeyError\u001b[0m\u001b[0;34m:\u001b[0m\u001b[0;34m\u001b[0m\u001b[0;34m\u001b[0m\u001b[0m\n",
            "\u001b[0;32mpandas/_libs/index.pyx\u001b[0m in \u001b[0;36mpandas._libs.index.IndexEngine.get_loc\u001b[0;34m()\u001b[0m\n",
            "\u001b[0;32mpandas/_libs/index.pyx\u001b[0m in \u001b[0;36mpandas._libs.index.IndexEngine.get_loc\u001b[0;34m()\u001b[0m\n",
            "\u001b[0;32mpandas/_libs/hashtable_class_helper.pxi\u001b[0m in \u001b[0;36mpandas._libs.hashtable.PyObjectHashTable.get_item\u001b[0;34m()\u001b[0m\n",
            "\u001b[0;32mpandas/_libs/hashtable_class_helper.pxi\u001b[0m in \u001b[0;36mpandas._libs.hashtable.PyObjectHashTable.get_item\u001b[0;34m()\u001b[0m\n",
            "\u001b[0;31mKeyError\u001b[0m: (1691, 1791)",
            "\nDuring handling of the above exception, another exception occurred:\n",
            "\u001b[0;31mKeyError\u001b[0m                                  Traceback (most recent call last)",
            "\u001b[0;32m<ipython-input-105-534be9a20818>\u001b[0m in \u001b[0;36m<module>\u001b[0;34m()\u001b[0m\n\u001b[1;32m      1\u001b[0m \u001b[0mbest_1000\u001b[0m \u001b[0;34m=\u001b[0m \u001b[0mdf1000\u001b[0m\u001b[0;34m[\u001b[0m\u001b[0;36m0\u001b[0m\u001b[0;34m:\u001b[0m\u001b[0;36m100\u001b[0m\u001b[0;34m]\u001b[0m\u001b[0;34m.\u001b[0m\u001b[0msort_values\u001b[0m\u001b[0;34m(\u001b[0m\u001b[0;34m[\u001b[0m\u001b[0;34m'alfa'\u001b[0m\u001b[0;34m]\u001b[0m\u001b[0;34m)\u001b[0m\u001b[0;34m\u001b[0m\u001b[0;34m\u001b[0m\u001b[0m\n\u001b[1;32m      2\u001b[0m \u001b[0mbest_700\u001b[0m \u001b[0;34m=\u001b[0m  \u001b[0mdf1000\u001b[0m\u001b[0;34m[\u001b[0m\u001b[0;36m500\u001b[0m\u001b[0;34m:\u001b[0m\u001b[0;36m600\u001b[0m\u001b[0;34m]\u001b[0m\u001b[0;34m.\u001b[0m\u001b[0msort_values\u001b[0m\u001b[0;34m(\u001b[0m\u001b[0;34m[\u001b[0m\u001b[0;34m'alfa'\u001b[0m\u001b[0;34m]\u001b[0m\u001b[0;34m)\u001b[0m\u001b[0;34m\u001b[0m\u001b[0;34m\u001b[0m\u001b[0m\n\u001b[0;32m----> 3\u001b[0;31m \u001b[0mbest_500\u001b[0m \u001b[0;34m=\u001b[0m \u001b[0mdf500\u001b[0m\u001b[0;34m[\u001b[0m\u001b[0;36m991\u001b[0m\u001b[0;34m+\u001b[0m\u001b[0;36m700\u001b[0m\u001b[0;34m,\u001b[0m \u001b[0;36m991\u001b[0m\u001b[0;34m+\u001b[0m\u001b[0;36m800\u001b[0m\u001b[0;34m]\u001b[0m\u001b[0;34m\u001b[0m\u001b[0;34m\u001b[0m\u001b[0m\n\u001b[0m",
            "\u001b[0;32m/usr/local/lib/python3.6/dist-packages/pandas/core/frame.py\u001b[0m in \u001b[0;36m__getitem__\u001b[0;34m(self, key)\u001b[0m\n\u001b[1;32m   2798\u001b[0m             \u001b[0;32mif\u001b[0m \u001b[0mself\u001b[0m\u001b[0;34m.\u001b[0m\u001b[0mcolumns\u001b[0m\u001b[0;34m.\u001b[0m\u001b[0mnlevels\u001b[0m \u001b[0;34m>\u001b[0m \u001b[0;36m1\u001b[0m\u001b[0;34m:\u001b[0m\u001b[0;34m\u001b[0m\u001b[0;34m\u001b[0m\u001b[0m\n\u001b[1;32m   2799\u001b[0m                 \u001b[0;32mreturn\u001b[0m \u001b[0mself\u001b[0m\u001b[0;34m.\u001b[0m\u001b[0m_getitem_multilevel\u001b[0m\u001b[0;34m(\u001b[0m\u001b[0mkey\u001b[0m\u001b[0;34m)\u001b[0m\u001b[0;34m\u001b[0m\u001b[0;34m\u001b[0m\u001b[0m\n\u001b[0;32m-> 2800\u001b[0;31m             \u001b[0mindexer\u001b[0m \u001b[0;34m=\u001b[0m \u001b[0mself\u001b[0m\u001b[0;34m.\u001b[0m\u001b[0mcolumns\u001b[0m\u001b[0;34m.\u001b[0m\u001b[0mget_loc\u001b[0m\u001b[0;34m(\u001b[0m\u001b[0mkey\u001b[0m\u001b[0;34m)\u001b[0m\u001b[0;34m\u001b[0m\u001b[0;34m\u001b[0m\u001b[0m\n\u001b[0m\u001b[1;32m   2801\u001b[0m             \u001b[0;32mif\u001b[0m \u001b[0mis_integer\u001b[0m\u001b[0;34m(\u001b[0m\u001b[0mindexer\u001b[0m\u001b[0;34m)\u001b[0m\u001b[0;34m:\u001b[0m\u001b[0;34m\u001b[0m\u001b[0;34m\u001b[0m\u001b[0m\n\u001b[1;32m   2802\u001b[0m                 \u001b[0mindexer\u001b[0m \u001b[0;34m=\u001b[0m \u001b[0;34m[\u001b[0m\u001b[0mindexer\u001b[0m\u001b[0;34m]\u001b[0m\u001b[0;34m\u001b[0m\u001b[0;34m\u001b[0m\u001b[0m\n",
            "\u001b[0;32m/usr/local/lib/python3.6/dist-packages/pandas/core/indexes/base.py\u001b[0m in \u001b[0;36mget_loc\u001b[0;34m(self, key, method, tolerance)\u001b[0m\n\u001b[1;32m   2646\u001b[0m                 \u001b[0;32mreturn\u001b[0m \u001b[0mself\u001b[0m\u001b[0;34m.\u001b[0m\u001b[0m_engine\u001b[0m\u001b[0;34m.\u001b[0m\u001b[0mget_loc\u001b[0m\u001b[0;34m(\u001b[0m\u001b[0mkey\u001b[0m\u001b[0;34m)\u001b[0m\u001b[0;34m\u001b[0m\u001b[0;34m\u001b[0m\u001b[0m\n\u001b[1;32m   2647\u001b[0m             \u001b[0;32mexcept\u001b[0m \u001b[0mKeyError\u001b[0m\u001b[0;34m:\u001b[0m\u001b[0;34m\u001b[0m\u001b[0;34m\u001b[0m\u001b[0m\n\u001b[0;32m-> 2648\u001b[0;31m                 \u001b[0;32mreturn\u001b[0m \u001b[0mself\u001b[0m\u001b[0;34m.\u001b[0m\u001b[0m_engine\u001b[0m\u001b[0;34m.\u001b[0m\u001b[0mget_loc\u001b[0m\u001b[0;34m(\u001b[0m\u001b[0mself\u001b[0m\u001b[0;34m.\u001b[0m\u001b[0m_maybe_cast_indexer\u001b[0m\u001b[0;34m(\u001b[0m\u001b[0mkey\u001b[0m\u001b[0;34m)\u001b[0m\u001b[0;34m)\u001b[0m\u001b[0;34m\u001b[0m\u001b[0;34m\u001b[0m\u001b[0m\n\u001b[0m\u001b[1;32m   2649\u001b[0m         \u001b[0mindexer\u001b[0m \u001b[0;34m=\u001b[0m \u001b[0mself\u001b[0m\u001b[0;34m.\u001b[0m\u001b[0mget_indexer\u001b[0m\u001b[0;34m(\u001b[0m\u001b[0;34m[\u001b[0m\u001b[0mkey\u001b[0m\u001b[0;34m]\u001b[0m\u001b[0;34m,\u001b[0m \u001b[0mmethod\u001b[0m\u001b[0;34m=\u001b[0m\u001b[0mmethod\u001b[0m\u001b[0;34m,\u001b[0m \u001b[0mtolerance\u001b[0m\u001b[0;34m=\u001b[0m\u001b[0mtolerance\u001b[0m\u001b[0;34m)\u001b[0m\u001b[0;34m\u001b[0m\u001b[0;34m\u001b[0m\u001b[0m\n\u001b[1;32m   2650\u001b[0m         \u001b[0;32mif\u001b[0m \u001b[0mindexer\u001b[0m\u001b[0;34m.\u001b[0m\u001b[0mndim\u001b[0m \u001b[0;34m>\u001b[0m \u001b[0;36m1\u001b[0m \u001b[0;32mor\u001b[0m \u001b[0mindexer\u001b[0m\u001b[0;34m.\u001b[0m\u001b[0msize\u001b[0m \u001b[0;34m>\u001b[0m \u001b[0;36m1\u001b[0m\u001b[0;34m:\u001b[0m\u001b[0;34m\u001b[0m\u001b[0;34m\u001b[0m\u001b[0m\n",
            "\u001b[0;32mpandas/_libs/index.pyx\u001b[0m in \u001b[0;36mpandas._libs.index.IndexEngine.get_loc\u001b[0;34m()\u001b[0m\n",
            "\u001b[0;32mpandas/_libs/index.pyx\u001b[0m in \u001b[0;36mpandas._libs.index.IndexEngine.get_loc\u001b[0;34m()\u001b[0m\n",
            "\u001b[0;32mpandas/_libs/hashtable_class_helper.pxi\u001b[0m in \u001b[0;36mpandas._libs.hashtable.PyObjectHashTable.get_item\u001b[0;34m()\u001b[0m\n",
            "\u001b[0;32mpandas/_libs/hashtable_class_helper.pxi\u001b[0m in \u001b[0;36mpandas._libs.hashtable.PyObjectHashTable.get_item\u001b[0;34m()\u001b[0m\n",
            "\u001b[0;31mKeyError\u001b[0m: (1691, 1791)"
          ]
        }
      ]
    },
    {
      "cell_type": "code",
      "metadata": {
        "id": "TCwKvdqz1tig",
        "colab_type": "code",
        "colab": {
          "base_uri": "https://localhost:8080/",
          "height": 324
        },
        "outputId": "c7e1ce03-36a7-48fc-af6d-a4a15e7e33b1"
      },
      "source": [
        "df100 = pd.read_csv('https://students.mimuw.edu.pl/~mw404851/sr_1000/logs_logs__1000.csv', names=['M','alfa','y_hat','y_acc', 'TIME'], sep=',').sort_values(['alfa'])[0:1000]\n",
        "df50 = pd.read_csv('https://students.mimuw.edu.pl/~mw404851/sr_700/logs_logs__700.csv', names=['M','alfa','y_hat','y_acc', 'TIME'], sep=',').sort_values(['alfa'])[0:1000]\n",
        "\n",
        "print(len(df100))\n",
        "print(len(df50))\n",
        "\n",
        "\n",
        "bins = np.arange(0, 2.1, 0.20)\n",
        "\n",
        "df50['bins'] = pd.cut(df50.alfa, bins) \n",
        "df100['bins'] = pd.cut(df100.alfa, bins) \n",
        "\n",
        "\n",
        "ss_acc = df50.groupby('bins')['y_acc'].agg(['sum', 'count'])\n",
        "ss_hat = df50.groupby('bins')['y_hat'].agg(['sum', 'count'])\n",
        "\n",
        "ss_acc_100 =  df100.groupby('bins')['y_acc'].agg(['sum', 'count'])\n",
        "ss_hat_100 =  df100.groupby('bins')['y_hat'].agg(['sum', 'count'])\n",
        "\n",
        "\n",
        "y = [x.mid for x in ss_acc.index.values]\n",
        "\n",
        "\n",
        "plt.title('2-SAT, each point is averaged by step: (1/10)', fontsize=14)\n",
        "plt.plot(y, ss_acc['sum']/ss_acc['count'], \"-\",label='MiniSAT-500')\n",
        "plt.plot(y, ss_hat['sum']/ss_hat['count'], \"-\",label=' SimCim-500')\n",
        "plt.plot(y, ss_acc_100['sum']/ss_acc_100['count'], \"-\", label='MiniSAT-1000')\n",
        "plt.plot(y, ss_hat_100['sum']/ss_hat_100['count'], \"-\", label=' SimCim-1000')\n",
        "\n",
        "\n",
        "plt.xticks(fontsize = 15)\n",
        "plt.yticks(fontsize = 15)\n",
        "plt.grid()\n",
        "plt.legend(fontsize=12)\n",
        "plt.show()\n"
      ],
      "execution_count": null,
      "outputs": [
        {
          "output_type": "stream",
          "text": [
            "1000\n",
            "1000\n"
          ],
          "name": "stdout"
        },
        {
          "output_type": "display_data",
          "data": {
            "image/png": "[encoded data removed]",
            "text/plain": [
              "<Figure size 432x288 with 1 Axes>"
            ]
          },
          "metadata": {
            "tags": [],
            "needs_background": "light"
          }
        }
      ]
    },
    {
      "cell_type": "code",
      "metadata": {
        "id": "S73RPgyOy4JE",
        "colab_type": "code",
        "colab": {
          "base_uri": "https://localhost:8080/",
          "height": 287
        },
        "outputId": "c0d49219-9b77-41bd-a600-b7a188edff2e"
      },
      "source": [
        "dwave = pd.read_csv('https://students.mimuw.edu.pl/~mw404851/logs_logs_100_50_dwave.csv', names=['M','alfa','pycosat_res','wq_result', 'dw_result', 'y_acc', 'TIME'], sep=',')\n",
        "\n",
        "\n",
        "\n",
        "bins = np.arange(0, 2.1, 0.10)\n",
        "\n",
        "df50['bins'] = pd.cut(dwave.alfa, bins) \n",
        "\n",
        "\n",
        "ss_acc = df50.groupby('bins')['y_acc'].agg(['sum', 'count'])\n",
        "ss_hat = df50.groupby('bins')['y_hat'].agg(['sum', 'count'])\n",
        "\n",
        "\n",
        "y = [x.mid for x in ss_acc.index.values]\n",
        "\n",
        "\n",
        "plt.title('2-SAT, each point is averaged by step: (1/10)', fontsize=14)\n",
        "plt.plot(y, ss_acc['sum']/ss_acc['count'], \"-\",label='MiniSAT-50')\n",
        "plt.plot(y, ss_hat['sum']/ss_hat['count'], \"-\",label='DWave-50')\n",
        "\n",
        "plt.xticks(fontsize = 15)\n",
        "plt.yticks(fontsize = 15)\n",
        "plt.grid()\n",
        "plt.legend(fontsize=12)\n",
        "plt.show()\n"
      ],
      "execution_count": null,
      "outputs": [
        {
          "output_type": "display_data",
          "data": {
            "image/png": "[encoded data removed]",
            "text/plain": [
              "<Figure size 432x288 with 1 Axes>"
            ]
          },
          "metadata": {
            "tags": [],
            "needs_background": "light"
          }
        }
      ]
    },
    {
      "cell_type": "code",
      "metadata": {
        "id": "e3XX3pWvkahd",
        "colab_type": "code",
        "colab": {}
      },
      "source": [
        ""
      ],
      "execution_count": null,
      "outputs": []
    },
    {
      "cell_type": "code",
      "metadata": {
        "id": "yNrKokC5p8lC",
        "colab_type": "code",
        "colab": {}
      },
      "source": [
        "import collections\n",
        "\n",
        "ConfusionMatrix = collections.namedtuple('ConfusionMatrix', 'name age gender')\n",
        "\n",
        "def perf_measure(y_actual, y_hat):\n",
        "    TP = 0\n",
        "    FP = 0\n",
        "    TN = 0\n",
        "    FN = 0\n",
        "    \n",
        "    for i in range(len(y_hat)): \n",
        "        if y_actual[i]==y_hat[i]==1:\n",
        "           TP += 1\n",
        "        if y_hat[i]==1 and y_actual[i]!=y_hat[i]:\n",
        "           FP += 1\n",
        "        if y_actual[i]==y_hat[i]==0:\n",
        "           TN += 1\n",
        "        if y_hat[i]==0 and y_actual[i]!=y_hat[i]:\n",
        "           FN += 1\n",
        "    \n",
        "    return (TP, FP, TN, FN)\n",
        "\n"
      ],
      "execution_count": null,
      "outputs": []
    },
    {
      "cell_type": "code",
      "metadata": {
        "id": "eY4eoKC-pWoA",
        "colab_type": "code",
        "colab": {
          "base_uri": "https://localhost:8080/",
          "height": 513
        },
        "outputId": "2f9b9127-0db1-4162-b1a6-33320cd383c5"
      },
      "source": [
        "import seaborn as sn\n",
        "import pandas as pd\n",
        "import matplotlib.pyplot as plt\n",
        "\n",
        "df50 = pd.read_csv('https://students.mimuw.edu.pl/~mw404851/sr_50/logs_logs_1000_50.csv', names=['M','alfa','y_hat','y_acc', 'TIME'], sep=',').sort_values(['alfa'])\n",
        "df100 = pd.read_csv('https://students.mimuw.edu.pl/~mw404851/sr_100/logs_logs_1000_100.csv', names=['M','alfa','y_hat','y_acc', 'TIME'], sep=',').sort_values(['alfa'])\n",
        "\n",
        "import pandas as pd\n",
        "\n",
        "print(df50['y_acc'])\n",
        "\n",
        "\n",
        "TP, FP, TN, FN = perf_measure(df50['y_acc'], df50['y_hat'])\n",
        "\n",
        "array = [[TP, FP], [FN, TN]]\n",
        "df_cm = pd.DataFrame(array, index = [i for i in [\"Y_hat=1\",\"Y_hat=0\"]],\n",
        "                  columns = [i for i in [\"Y_acc=1\", \"Y_acc=0\"]])\n",
        "ax = plt.axes()\n",
        "sn.set(font_scale=1.4) # for label size\n",
        "sn.heatmap(df_cm, annot=True, fmt=\"d\", annot_kws={\"size\": 16}) # font size\n",
        "ax.set_title('SAT-50')\n",
        "plt.show()"
      ],
      "execution_count": null,
      "outputs": [
        {
          "output_type": "stream",
          "text": [
            "901    1\n",
            "656    1\n",
            "583    1\n",
            "720    1\n",
            "527    1\n",
            "      ..\n",
            "383    0\n",
            "201    0\n",
            "13     0\n",
            "915    0\n",
            "221    0\n",
            "Name: y_acc, Length: 1000, dtype: int64\n"
          ],
          "name": "stdout"
        },
        {
          "output_type": "display_data",
          "data": {
            "image/png": "[encoded data removed]",
            "text/plain": [
              "<Figure size 432x288 with 2 Axes>"
            ]
          },
          "metadata": {
            "tags": []
          }
        }
      ]
    },
    {
      "cell_type": "code",
      "metadata": {
        "id": "tdv-7Xhkqfnf",
        "colab_type": "code",
        "colab": {}
      },
      "source": [
        "\n",
        "TP, FP, TN, FN = perf_measure(df100['y_acc'], df100['y_hat'])\n",
        "\n",
        "array = [[TP, FP], [FN, TN]]\n",
        "df_cm = pd.DataFrame(array, index = [i for i in [\"Y_hat=1\",\"Y_hat=0\"]],\n",
        "                  columns = [i for i in [\"Y_acc=1\", \"Y_acc=0\"]])\n",
        "ax = plt.axes()\n",
        "sn.set(font_scale=1.4) # for label size\n",
        "sn.heatmap(df_cm, annot=True, fmt=\"d\", annot_kws={\"size\": 16}) # font size\n",
        "ax.set_title('SAT-100 SIMCim')\n",
        "plt.show()"
      ],
      "execution_count": null,
      "outputs": []
    },
    {
      "cell_type": "code",
      "metadata": {
        "id": "nE-dJMaPrETR",
        "colab_type": "code",
        "colab": {}
      },
      "source": [
        "TP, FP, TN, FN = perf_measure(df100['y_acc'], df100['y_hat'])\n",
        "\n",
        "array = [[TP, FP], [FN, TN]]\n",
        "df_cm = pd.DataFrame(array, index = [i for i in [\"Y_hat=1\",\"Y_hat=0\"]],\n",
        "                  columns = [i for i in [\"Y_acc=1\", \"Y_acc=0\"]])\n",
        "ax = plt.axes()\n",
        "sn.set(font_scale=1.4) # for label size\n",
        "sn.heatmap(df_cm, annot=True, fmt=\"d\", annot_kws={\"size\": 16}) # font size\n",
        "ax.set_title('SAT-100 SIMCim')\n",
        "plt.show()"
      ],
      "execution_count": null,
      "outputs": []
    },
    {
      "cell_type": "code",
      "metadata": {
        "id": "KGrFKkOxkbok",
        "colab_type": "code",
        "colab": {
          "base_uri": "https://localhost:8080/",
          "height": 1000
        },
        "outputId": "80dac2de-549e-44a4-d15c-9541e459eb85"
      },
      "source": [
        "import pandas as pd\n",
        "import numpy as np \n",
        "import matplotlib.pyplot as plt\n",
        "\n",
        "\n",
        "phase = pd.read_csv('https://students.mimuw.edu.pl/~mw404851/phase_transition_1000.csv', names=['M','alfa', 'y_acc'], sep=',').sort_values(['alfa'])\n",
        "\n",
        "\n",
        "phase['alfa'] = phase['alfa']* 100\n",
        "\n",
        "bins = np.arange(0, 2, 0.05)\n",
        "\n",
        "print(phase.tail())\n",
        "\n",
        "phase['bins'] = pd.cut(phase.alfa, bins) \n",
        "\n",
        "ss_acc = phase.groupby('bins')['y_acc'].agg(['sum', 'count'])\n",
        "\n",
        "\n",
        "y = [x.mid for x in ss_acc.index.values]\n",
        "\n",
        "print(ss_acc['sum'])\n",
        "print(ss_acc['count'])\n",
        "plt.title('2-SAT, each point is averaged by step: (1/10)', fontsize=14)\n",
        "plt.plot(y, ss_acc['sum']/ss_acc['count'], \"-\",label='MiniSAT-50')\n",
        "\n",
        "plt.xticks(fontsize = 15)\n",
        "plt.yticks(fontsize = 15)\n",
        "plt.grid()\n",
        "plt.legend(fontsize=12)\n",
        "plt.show()\n"
      ],
      "execution_count": null,
      "outputs": [
        {
          "output_type": "stream",
          "text": [
            "        M  alfa  y_acc\n",
            "5474  100   1.0      1\n",
            "5767  100   1.0      0\n",
            "915   100   1.0      0\n",
            "5927  100   1.0      0\n",
            "4334  100   1.0      0\n",
            "bins\n",
            "(0.0, 0.05]    420\n",
            "(0.05, 0.1]    500\n",
            "(0.1, 0.15]    504\n",
            "(0.15, 0.2]    522\n",
            "(0.2, 0.25]    487\n",
            "(0.25, 0.3]    495\n",
            "(0.3, 0.35]    484\n",
            "(0.35, 0.4]    454\n",
            "(0.4, 0.45]    469\n",
            "(0.45, 0.5]    474\n",
            "(0.5, 0.55]    465\n",
            "(0.55, 0.6]    456\n",
            "(0.6, 0.65]    395\n",
            "(0.65, 0.7]    327\n",
            "(0.7, 0.75]    267\n",
            "(0.75, 0.8]    187\n",
            "(0.8, 0.85]    139\n",
            "(0.85, 0.9]     77\n",
            "(0.9, 0.95]     58\n",
            "(0.95, 1.0]     34\n",
            "(1.0, 1.05]      0\n",
            "(1.05, 1.1]      0\n",
            "(1.1, 1.15]      0\n",
            "(1.15, 1.2]      0\n",
            "(1.2, 1.25]      0\n",
            "(1.25, 1.3]      0\n",
            "(1.3, 1.35]      0\n",
            "(1.35, 1.4]      0\n",
            "(1.4, 1.45]      0\n",
            "(1.45, 1.5]      0\n",
            "(1.5, 1.55]      0\n",
            "(1.55, 1.6]      0\n",
            "(1.6, 1.65]      0\n",
            "(1.65, 1.7]      0\n",
            "(1.7, 1.75]      0\n",
            "(1.75, 1.8]      0\n",
            "(1.8, 1.85]      0\n",
            "(1.85, 1.9]      0\n",
            "(1.9, 1.95]      0\n",
            "Name: sum, dtype: int64\n",
            "bins\n",
            "(0.0, 0.05]    420\n",
            "(0.05, 0.1]    500\n",
            "(0.1, 0.15]    504\n",
            "(0.15, 0.2]    522\n",
            "(0.2, 0.25]    488\n",
            "(0.25, 0.3]    496\n",
            "(0.3, 0.35]    487\n",
            "(0.35, 0.4]    464\n",
            "(0.4, 0.45]    483\n",
            "(0.45, 0.5]    490\n",
            "(0.5, 0.55]    506\n",
            "(0.55, 0.6]    518\n",
            "(0.6, 0.65]    525\n",
            "(0.65, 0.7]    509\n",
            "(0.7, 0.75]    514\n",
            "(0.75, 0.8]    492\n",
            "(0.8, 0.85]    499\n",
            "(0.85, 0.9]    408\n",
            "(0.9, 0.95]    630\n",
            "(0.95, 1.0]    545\n",
            "(1.0, 1.05]      0\n",
            "(1.05, 1.1]      0\n",
            "(1.1, 1.15]      0\n",
            "(1.15, 1.2]      0\n",
            "(1.2, 1.25]      0\n",
            "(1.25, 1.3]      0\n",
            "(1.3, 1.35]      0\n",
            "(1.35, 1.4]      0\n",
            "(1.4, 1.45]      0\n",
            "(1.45, 1.5]      0\n",
            "(1.5, 1.55]      0\n",
            "(1.55, 1.6]      0\n",
            "(1.6, 1.65]      0\n",
            "(1.65, 1.7]      0\n",
            "(1.7, 1.75]      0\n",
            "(1.75, 1.8]      0\n",
            "(1.8, 1.85]      0\n",
            "(1.85, 1.9]      0\n",
            "(1.9, 1.95]      0\n",
            "Name: count, dtype: int64\n"
          ],
          "name": "stdout"
        },
        {
          "output_type": "display_data",
          "data": {
            "image/png": "[encoded data removed]",
            "text/plain": [
              "<Figure size 432x288 with 1 Axes>"
            ]
          },
          "metadata": {
            "tags": [],
            "needs_background": "light"
          }
        }
      ]
    },
    {
      "cell_type": "code",
      "metadata": {
        "id": "gmRGWEDElADQ",
        "colab_type": "code",
        "colab": {
          "base_uri": "https://localhost:8080/",
          "height": 206
        },
        "outputId": "abe3b3c9-e880-4811-c2d9-abff1bfaa327"
      },
      "source": [
        "phase.head()"
      ],
      "execution_count": null,
      "outputs": [
        {
          "output_type": "execute_result",
          "data": {
            "text/html": [
              "<div>\n",
              "<style scoped>\n",
              "    .dataframe tbody tr th:only-of-type {\n",
              "        vertical-align: middle;\n",
              "    }\n",
              "\n",
              "    .dataframe tbody tr th {\n",
              "        vertical-align: top;\n",
              "    }\n",
              "\n",
              "    .dataframe thead th {\n",
              "        text-align: right;\n",
              "    }\n",
              "</style>\n",
              "<table border=\"1\" class=\"dataframe\">\n",
              "  <thead>\n",
              "    <tr style=\"text-align: right;\">\n",
              "      <th></th>\n",
              "      <th>M</th>\n",
              "      <th>alfa</th>\n",
              "      <th>y_acc</th>\n",
              "      <th>bins</th>\n",
              "    </tr>\n",
              "  </thead>\n",
              "  <tbody>\n",
              "    <tr>\n",
              "      <th>0</th>\n",
              "      <td>87</td>\n",
              "      <td>0.0087</td>\n",
              "      <td>0</td>\n",
              "      <td>(0.0, 0.1]</td>\n",
              "    </tr>\n",
              "    <tr>\n",
              "      <th>1</th>\n",
              "      <td>23</td>\n",
              "      <td>0.0023</td>\n",
              "      <td>1</td>\n",
              "      <td>(0.0, 0.1]</td>\n",
              "    </tr>\n",
              "    <tr>\n",
              "      <th>2</th>\n",
              "      <td>5</td>\n",
              "      <td>0.0005</td>\n",
              "      <td>1</td>\n",
              "      <td>(0.0, 0.1]</td>\n",
              "    </tr>\n",
              "    <tr>\n",
              "      <th>3</th>\n",
              "      <td>9</td>\n",
              "      <td>0.0009</td>\n",
              "      <td>1</td>\n",
              "      <td>(0.0, 0.1]</td>\n",
              "    </tr>\n",
              "    <tr>\n",
              "      <th>4</th>\n",
              "      <td>57</td>\n",
              "      <td>0.0057</td>\n",
              "      <td>1</td>\n",
              "      <td>(0.0, 0.1]</td>\n",
              "    </tr>\n",
              "  </tbody>\n",
              "</table>\n",
              "</div>"
            ],
            "text/plain": [
              "    M    alfa  y_acc        bins\n",
              "0  87  0.0087      0  (0.0, 0.1]\n",
              "1  23  0.0023      1  (0.0, 0.1]\n",
              "2   5  0.0005      1  (0.0, 0.1]\n",
              "3   9  0.0009      1  (0.0, 0.1]\n",
              "4  57  0.0057      1  (0.0, 0.1]"
            ]
          },
          "metadata": {
            "tags": []
          },
          "execution_count": 10
        }
      ]
    }
  ]
}
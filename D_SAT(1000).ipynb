{
  "nbformat": 4,
  "nbformat_minor": 0,
  "metadata": {
    "colab": {
      "name": "D-SAT(1000).ipynb",
      "provenance": [],
      "collapsed_sections": []
    },
    "kernelspec": {
      "name": "python3",
      "display_name": "Python 3"
    }
  },
  "cells": [
    {
      "cell_type": "code",
      "metadata": {
        "id": "qzqQ6DWg8pXJ",
        "colab_type": "code",
        "colab": {}
      },
      "source": [
        "%%capture\n",
        "!git clone https://github.com/marcin119a/sat-experiments.git\n",
        "%cd sat-experiments\n",
        "!pip install -r requirements.txt"
      ],
      "execution_count": 1,
      "outputs": []
    },
    {
      "cell_type": "code",
      "metadata": {
        "id": "74uzNQ3Q87cF",
        "colab_type": "code",
        "colab": {
          "base_uri": "https://localhost:8080/",
          "height": 124
        },
        "outputId": "ecb54904-ce8c-4305-e70b-2eee5d515d4f"
      },
      "source": [
        "%%\n",
        "!git clone https://github.com/satproject/neuralheuristicsforsat.git"
      ],
      "execution_count": null,
      "outputs": [
        {
          "output_type": "stream",
          "text": [
            "Cloning into 'neuralheuristicsforsat'...\n",
            "remote: Enumerating objects: 48, done.\u001b[K\n",
            "remote: Counting objects: 100% (48/48), done.\u001b[K\n",
            "remote: Compressing objects: 100% (45/45), done.\u001b[K\n",
            "remote: Total 73 (delta 21), reused 6 (delta 1), pack-reused 25\u001b[K\n",
            "Unpacking objects: 100% (73/73), done.\n"
          ],
          "name": "stdout"
        }
      ]
    },
    {
      "cell_type": "code",
      "metadata": {
        "id": "7JH5mvQ49Bir",
        "colab_type": "code",
        "colab": {}
      },
      "source": [
        "# Hyperparameter grid  [pump parametrization (linear, tanh, etc.), number of iterations (N), noise level (sigma), learning rate (dt), coupling (zeta), sample size (attempt_num)] \n",
        "from hyperopt import hp\n",
        "import numpy as np \n",
        "\n",
        "space = {\n",
        "    'N': hp.quniform('N', 300, 500, 10), # ilość iteracji symulatora \n",
        "    'sigma': hp.uniform('sigma', 0.0, 1.0), # poziom szumu \n",
        "    'dt': hp.loguniform('dt', np.log(0.005), np.log(0.5)), # współczynnik uczenia\n",
        "    'zeta': hp.uniform('zeta', 0.0, 2.0), # oddziaływanie\n",
        "    'attempt_num': hp.quniform('attempt_num', 950, 1100, 5), # ilość prób\n",
        "    'alpha': hp.uniform('alpha', 0.1, 0.9),  # parametr metody SGD stochastyczne obniżanie gradientu\n",
        "    'complexity': 1000, # n parametr ilosci zmiennych\n",
        "    'seed': 1000,  # dodatkowy szum\n",
        "    'loss': None, # parametr do zapisu podczas optymalizacji\n",
        "    'observations': 100 #batch_size\n",
        "}\n"
      ],
      "execution_count": null,
      "outputs": []
    },
    {
      "cell_type": "code",
      "metadata": {
        "id": "05UnnO4X9Ly5",
        "colab_type": "code",
        "colab": {
          "base_uri": "https://localhost:8080/",
          "height": 269
        },
        "outputId": "a1003dc7-5a8d-450b-f340-4a0166c41f94"
      },
      "source": [
        "from hyperopt import fmin, Trials, rand, tpe\n",
        "\n",
        "# funkcja kosztu optymalizacji\n",
        "from tunning import objective\n",
        "\n",
        "# zapisanie wyników do tego obiektu\n",
        "rand_trials = Trials()\n",
        "\n",
        "global  ITERATION\n",
        "\n",
        "ITERATION = 0\n",
        "\n",
        "# wykorzystanie algorytmu rand z hyperopt\n",
        "rand_algo = rand.suggest\n",
        "\n",
        "# optymalizacja symulatora, zadanie funkcji kosztu, przestrzeni, algorytmu i wyjścia z optymalizacji\n",
        "# max_evals=20 maksymalna ilość wykonania się optymalizacji\n",
        "rand_best = fmin(fn=objective, space=space, algo=tpe_algo, trials=rand_trials, \n",
        "                 max_evals=20)"
      ],
      "execution_count": null,
      "outputs": [
        {
          "output_type": "stream",
          "text": [
            "/usr/local/lib/python3.6/dist-packages/tensorflow/python/framework/dtypes.py:523: FutureWarning: Passing (type, 1) or '1type' as a synonym of type is deprecated; in a future version of numpy, it will be understood as (type, (1,)) / '(1,)type'.\n",
            "  _np_qint8 = np.dtype([(\"qint8\", np.int8, 1)])\n",
            "/usr/local/lib/python3.6/dist-packages/tensorflow/python/framework/dtypes.py:524: FutureWarning: Passing (type, 1) or '1type' as a synonym of type is deprecated; in a future version of numpy, it will be understood as (type, (1,)) / '(1,)type'.\n",
            "  _np_quint8 = np.dtype([(\"quint8\", np.uint8, 1)])\n",
            "/usr/local/lib/python3.6/dist-packages/tensorflow/python/framework/dtypes.py:525: FutureWarning: Passing (type, 1) or '1type' as a synonym of type is deprecated; in a future version of numpy, it will be understood as (type, (1,)) / '(1,)type'.\n",
            "  _np_qint16 = np.dtype([(\"qint16\", np.int16, 1)])\n",
            "/usr/local/lib/python3.6/dist-packages/tensorflow/python/framework/dtypes.py:526: FutureWarning: Passing (type, 1) or '1type' as a synonym of type is deprecated; in a future version of numpy, it will be understood as (type, (1,)) / '(1,)type'.\n",
            "  _np_quint16 = np.dtype([(\"quint16\", np.uint16, 1)])\n",
            "/usr/local/lib/python3.6/dist-packages/tensorflow/python/framework/dtypes.py:527: FutureWarning: Passing (type, 1) or '1type' as a synonym of type is deprecated; in a future version of numpy, it will be understood as (type, (1,)) / '(1,)type'.\n",
            "  _np_qint32 = np.dtype([(\"qint32\", np.int32, 1)])\n",
            "/usr/local/lib/python3.6/dist-packages/tensorflow/python/framework/dtypes.py:532: FutureWarning: Passing (type, 1) or '1type' as a synonym of type is deprecated; in a future version of numpy, it will be understood as (type, (1,)) / '(1,)type'.\n",
            "  np_resource = np.dtype([(\"resource\", np.ubyte, 1)])\n"
          ],
          "name": "stderr"
        },
        {
          "output_type": "stream",
          "text": [
            "100%|██████████| 20/20 [07:38<00:00, 22.90s/it, best loss: 0.07]\n"
          ],
          "name": "stdout"
        }
      ]
    },
    {
      "cell_type": "code",
      "metadata": {
        "id": "JGoLfosFIlUP",
        "colab_type": "code",
        "colab": {
          "base_uri": "https://localhost:8080/",
          "height": 303
        },
        "outputId": "9bcd8724-2185-4894-ba68-4a5eb821c289"
      },
      "source": [
        "!git status"
      ],
      "execution_count": null,
      "outputs": [
        {
          "output_type": "stream",
          "text": [
            "On branch master\n",
            "Your branch is up to date with 'origin/master'.\n",
            "\n",
            "Changes not staged for commit:\n",
            "  (use \"git add/rm <file>...\" to update what will be committed)\n",
            "  (use \"git checkout -- <file>...\" to discard changes in working directory)\n",
            "\n",
            "\t\u001b[31mdeleted:    sr_50/logs_gbm_trials__1000.csv\u001b[m\n",
            "\n",
            "Untracked files:\n",
            "  (use \"git add <file>...\" to include in what will be committed)\n",
            "\n",
            "\t\u001b[31mneuralheuristicsforsat/\u001b[m\n",
            "\t\u001b[31msr_50/train_1000_sr_50.tfrecord\u001b[m\n",
            "\n",
            "no changes added to commit (use \"git add\" and/or \"git commit -a\")\n"
          ],
          "name": "stdout"
        }
      ]
    },
    {
      "cell_type": "code",
      "metadata": {
        "id": "97M-nsOGInW7",
        "colab_type": "code",
        "colab": {}
      },
      "source": [
        ""
      ],
      "execution_count": null,
      "outputs": []
    }
  ]
}
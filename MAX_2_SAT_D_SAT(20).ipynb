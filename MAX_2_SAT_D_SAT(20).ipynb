{
  "nbformat": 4,
  "nbformat_minor": 0,
  "metadata": {
    "colab": {
      "name": "MAX-2-SAT-D-SAT(20).ipynb",
      "provenance": [],
      "collapsed_sections": []
    },
    "kernelspec": {
      "name": "python3",
      "display_name": "Python 3"
    }
  },
  "cells": [
    {
      "cell_type": "code",
      "metadata": {
        "id": "yc_9X9U-BBQi",
        "colab_type": "code",
        "colab": {}
      },
      "source": [
        "%%capture\n",
        "!git clone https://@github.com/marcin119a/sat-experiments.git\n",
        "%cd sat-experiments\n"
      ],
      "execution_count": null,
      "outputs": []
    },
    {
      "cell_type": "markdown",
      "metadata": {
        "id": "VKrnyxN57yNp",
        "colab_type": "text"
      },
      "source": [
        "##### Kompilacja akmaxsat -- pakietu do rozwiązywanie MAX-SAT, w naszym przypadku 2-MAX-SAT"
      ]
    },
    {
      "cell_type": "code",
      "metadata": {
        "id": "63NDAkqQRGpf",
        "colab_type": "code",
        "colab": {}
      },
      "source": [
        "%cd /content/sat-experiments/akmaxsat_1.1\n",
        "!make\n",
        "%cd /content/sat-experiments"
      ],
      "execution_count": null,
      "outputs": []
    },
    {
      "cell_type": "code",
      "metadata": {
        "id": "LuLf0KSLBFlZ",
        "colab_type": "code",
        "colab": {}
      },
      "source": [
        "%%capture\n",
        "!pip install -r requirements.txt"
      ],
      "execution_count": null,
      "outputs": []
    },
    {
      "cell_type": "markdown",
      "metadata": {
        "id": "IxyCzGre-EAq",
        "colab_type": "text"
      },
      "source": [
        "### Pobranie projektu z githuba generujacego zbiór danych D-SAT(n) "
      ]
    },
    {
      "cell_type": "code",
      "metadata": {
        "id": "-hUheLDtBHI3",
        "colab_type": "code",
        "colab": {}
      },
      "source": [
        "%%capture\n",
        "!git clone https://github.com/satproject/neuralheuristicsforsat.git"
      ],
      "execution_count": null,
      "outputs": []
    },
    {
      "cell_type": "markdown",
      "metadata": {
        "id": "kyXoqYjf97nQ",
        "colab_type": "text"
      },
      "source": [
        "### postawowe parametry symulatora SIMCim"
      ]
    },
    {
      "cell_type": "code",
      "metadata": {
        "id": "2RD8fsTmBs_u",
        "colab_type": "code",
        "colab": {}
      },
      "source": [
        "hyperparameters = {\n",
        "    'N': 400, #ilość iteracji symulatora \n",
        "    'sigma': 0.2, #poziom szumu \n",
        "    'dt': 0.3, # współczynnik uczenia\n",
        "    'zeta': 1, # oddziaływanie\n",
        "    'attempt_num': 1000, # attempt\n",
        "    'alpha': 0.2, # parametr metody SGD stochastyczne obniżanie gradientu wykorzystanej w algorytmie\n",
        "    'complexity': 20, #n parametr ilosci zmiennych\n",
        "    'seed': 1000, #losowy szum\n",
        "    'observations': 1000 #ilosc formuł\n",
        "}"
      ],
      "execution_count": null,
      "outputs": []
    },
    {
      "cell_type": "markdown",
      "metadata": {
        "id": "Xonx8y_2-QW1",
        "colab_type": "text"
      },
      "source": [
        "### Wygenerowanie zbioru danych D-SAT(20)"
      ]
    },
    {
      "cell_type": "code",
      "metadata": {
        "id": "lkyRJTYUR6Vc",
        "colab_type": "code",
        "colab": {}
      },
      "source": [
        "%%capture\n",
        "!python /content/sat-experiments/neuralheuristicsforsat/dump_dataset_2sat.py -o 10000 -c 20 -j 10000"
      ],
      "execution_count": null,
      "outputs": []
    },
    {
      "cell_type": "markdown",
      "metadata": {
        "id": "bBc_53fOBC4H",
        "colab_type": "text"
      },
      "source": [
        "### Uruchomienie algorytmów akmaxsat SimCim i brute-force dla D-SAT(20)"
      ]
    },
    {
      "cell_type": "code",
      "metadata": {
        "id": "lkavtNihWo5J",
        "colab_type": "code",
        "colab": {}
      },
      "source": [
        "import os\n",
        "import tensorflow as tf\n",
        "import itertools\n",
        "from neuralheuristicsforsat.helpers import chunkIt, save_to_csv\n",
        " \n",
        "from maxsat import (\n",
        "    akmaxsat_format_to_list, akmaxsat_run, function_from_akmaxsat, brute_force_2_max_sat, dump, transform\n",
        ")\n",
        "import time\n",
        "from SIMCIM import SIMCim\n",
        "import csv\n",
        "\n",
        "params = hyperparameters\n",
        "# ilosc zmiennych\n",
        "n = 20 \n",
        "# sciezka do pliku D-SAT(50)\n",
        "tfrecord_location = '/content/sat-experiments/sr_20/train_10000_sr_20.tfrecord' \n",
        "\n",
        "record_iterator = tf.python_io.tf_record_iterator(path=tfrecord_location)\n",
        "preds = []\n",
        "batch_size = params['observations']\n",
        "\n",
        "\n",
        "from importlib import reload\n",
        "\n",
        "train_set = {'cnf': list(), 'sat': list()}\n",
        "sim_results = list()\n",
        "\n",
        "# dla 100 formuł uruchamiamy eksperyment porównujący SIMCim, brute-force i akmaxsat \n",
        "for string_record in itertools.islice(record_iterator, 100): \n",
        "    example = tf.train.Example()\n",
        "    # wczytujemy dataset D-SAT(20) \n",
        "    example.ParseFromString(string_record) \n",
        "\n",
        "    # ilosc klazul w formule 2CNF\n",
        "    m = len(example.features.feature[\"inputs\"].float_list.value) // 2 \n",
        "\n",
        "    # Formuły w postaci CNF: \n",
        "    inputs = chunkIt(example.features.feature[\"inputs\"].float_list.value, m) \n",
        "    train_set['cnf'].append(inputs)\n",
        "    targ = int(example.features.feature[\"sat\"].float_list.value[0])\n",
        "    train_set['sat'].append(targ)\n",
        "\n",
        "    start = time.time()\n",
        "    cnf = transform(inputs)\n",
        "    # zapisanie do pliku dla algorytmu akmaxsat\n",
        "    dump(inputs, n, m, round(start,2)) \n",
        "\n",
        "    # nazwa pliku wejscia dla algorytmu akmaxsat\n",
        "    s = '/content/sat-experiments/out/{0}.txt'.format(round(start,2)) \n",
        "\n",
        "    # uruchomienie algorytmu akmaxsat dla tego pliku\n",
        "    output = akmaxsat_run('/content/sat-experiments/akmaxsat_1.1/akmaxsat',s) \n",
        "\n",
        "      \n",
        "    literals = set()\n",
        "    for conj in cnf:\n",
        "            for disj in conj:\n",
        "                literals.add(disj[0])\n",
        "    # sprawdzenie ile klauzul zostało spełnionych\n",
        "    check_cnf = [bool(disj.intersection(output)) for disj in cnf] \n",
        "    MAX_akmaxsat = check_cnf.count(True)\n",
        "    if targ == 0: \n",
        "       # uruchomienie algorytmu bruteforce tylko dla formuł które są UNSAT=0\n",
        "      vars, max_2sat = brute_force_2_max_sat(cnf)\n",
        "    else:\n",
        "      max_2sat = m \n",
        "      \n",
        "    # predykcja symulatora SIMCim\n",
        "    sim_result = SIMCim(params, n, m, inputs)  \n",
        "\n",
        "    end = time.time()\n",
        "    \n",
        "    # zapisanie wyników do pliku csv\n",
        "    save_to_csv('max_sat_100.csv', [[m, m / n, m + sim_result, MAX_akmaxsat, max_2sat , targ, end - start]], n)"
      ],
      "execution_count": null,
      "outputs": []
    }
  ]
}
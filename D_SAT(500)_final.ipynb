{
  "nbformat": 4,
  "nbformat_minor": 0,
  "metadata": {
    "colab": {
      "name": "D-SAT(500)-final.ipynb",
      "provenance": [],
      "collapsed_sections": []
    },
    "kernelspec": {
      "name": "python3",
      "display_name": "Python 3"
    }
  },
  "cells": [
    {
      "cell_type": "code",
      "metadata": {
        "id": "gCliSHojS0-H",
        "colab_type": "code",
        "colab": {
          "base_uri": "https://localhost:8080/",
          "height": 142
        },
        "outputId": "a0b1503a-8939-4e5e-ff5c-76cdb9faa062"
      },
      "source": [
        "!git clone https://817f39297e940726a8648b171b073bc8bd73f2f0@github.com/marcin119a/sat-experiments.git\n",
        "%cd sat-experiments"
      ],
      "execution_count": null,
      "outputs": [
        {
          "output_type": "stream",
          "text": [
            "Cloning into 'sat-experiments'...\n",
            "remote: Enumerating objects: 63, done.\u001b[K\n",
            "remote: Counting objects: 100% (63/63), done.\u001b[K\n",
            "remote: Compressing objects: 100% (55/55), done.\u001b[K\n",
            "remote: Total 63 (delta 21), reused 29 (delta 5), pack-reused 0\u001b[K\n",
            "Unpacking objects: 100% (63/63), done.\n",
            "/content/sat-experiments\n"
          ],
          "name": "stdout"
        }
      ]
    },
    {
      "cell_type": "code",
      "metadata": {
        "id": "IyGUQQPCS7ek",
        "colab_type": "code",
        "colab": {
          "base_uri": "https://localhost:8080/",
          "height": 1000
        },
        "outputId": "699952ac-ad34-44fc-c3f7-94d81551aa38"
      },
      "source": [
        "!pip install -r requirements.txt"
      ],
      "execution_count": null,
      "outputs": [
        {
          "output_type": "stream",
          "text": [
            "Collecting git+https://github.com/satproject/neuralheuristicsforsat (from -r requirements.txt (line 3))\n",
            "  Cloning https://github.com/satproject/neuralheuristicsforsat to /tmp/pip-req-build-c_xrqdmf\n",
            "  Running command git clone -q https://github.com/satproject/neuralheuristicsforsat /tmp/pip-req-build-c_xrqdmf\n",
            "Requirement already satisfied (use --upgrade to upgrade): projekt-sat==1.0.0 from git+https://github.com/satproject/neuralheuristicsforsat in /usr/local/lib/python3.6/dist-packages (from -r requirements.txt (line 3))\n",
            "Requirement already satisfied: torch in /usr/local/lib/python3.6/dist-packages (from -r requirements.txt (line 1)) (1.4.0)\n",
            "Requirement already satisfied: tqdm in /usr/local/lib/python3.6/dist-packages (from -r requirements.txt (line 2)) (4.38.0)\n",
            "Requirement already satisfied: jupyterlab in /usr/local/lib/python3.6/dist-packages (from projekt-sat==1.0.0->-r requirements.txt (line 3)) (2.1.1)\n",
            "Requirement already satisfied: tensorflow==1.12 in /usr/local/lib/python3.6/dist-packages (from projekt-sat==1.0.0->-r requirements.txt (line 3)) (1.12.0)\n",
            "Requirement already satisfied: sympy in /usr/local/lib/python3.6/dist-packages (from projekt-sat==1.0.0->-r requirements.txt (line 3)) (1.1.1)\n",
            "Requirement already satisfied: sklearn in /usr/local/lib/python3.6/dist-packages (from projekt-sat==1.0.0->-r requirements.txt (line 3)) (0.0)\n",
            "Requirement already satisfied: scipy in /usr/local/lib/python3.6/dist-packages (from projekt-sat==1.0.0->-r requirements.txt (line 3)) (1.4.1)\n",
            "Requirement already satisfied: matplotlib in /usr/local/lib/python3.6/dist-packages (from projekt-sat==1.0.0->-r requirements.txt (line 3)) (3.2.1)\n",
            "Requirement already satisfied: pandas in /usr/local/lib/python3.6/dist-packages (from projekt-sat==1.0.0->-r requirements.txt (line 3)) (1.0.3)\n",
            "Requirement already satisfied: python-sat in /usr/local/lib/python3.6/dist-packages (from projekt-sat==1.0.0->-r requirements.txt (line 3)) (0.1.5.dev12)\n",
            "Requirement already satisfied: google-api-python-client in /usr/local/lib/python3.6/dist-packages (from projekt-sat==1.0.0->-r requirements.txt (line 3)) (1.7.12)\n",
            "Requirement already satisfied: google-cloud-storage in /usr/local/lib/python3.6/dist-packages (from projekt-sat==1.0.0->-r requirements.txt (line 3)) (1.18.1)\n",
            "Requirement already satisfied: oauth2client in /usr/local/lib/python3.6/dist-packages (from projekt-sat==1.0.0->-r requirements.txt (line 3)) (4.1.3)\n",
            "Requirement already satisfied: jinja2>=2.10 in /usr/local/lib/python3.6/dist-packages (from jupyterlab->projekt-sat==1.0.0->-r requirements.txt (line 3)) (2.11.2)\n",
            "Requirement already satisfied: jupyterlab-server>=1.1.0 in /usr/local/lib/python3.6/dist-packages (from jupyterlab->projekt-sat==1.0.0->-r requirements.txt (line 3)) (1.1.1)\n",
            "Requirement already satisfied: tornado!=6.0.0,!=6.0.1,!=6.0.2 in /usr/local/lib/python3.6/dist-packages (from jupyterlab->projekt-sat==1.0.0->-r requirements.txt (line 3)) (4.5.3)\n",
            "Requirement already satisfied: notebook>=4.3.1 in /usr/local/lib/python3.6/dist-packages (from jupyterlab->projekt-sat==1.0.0->-r requirements.txt (line 3)) (5.2.2)\n",
            "Requirement already satisfied: absl-py>=0.1.6 in /usr/local/lib/python3.6/dist-packages (from tensorflow==1.12->projekt-sat==1.0.0->-r requirements.txt (line 3)) (0.9.0)\n",
            "Requirement already satisfied: termcolor>=1.1.0 in /usr/local/lib/python3.6/dist-packages (from tensorflow==1.12->projekt-sat==1.0.0->-r requirements.txt (line 3)) (1.1.0)\n",
            "Requirement already satisfied: gast>=0.2.0 in /usr/local/lib/python3.6/dist-packages (from tensorflow==1.12->projekt-sat==1.0.0->-r requirements.txt (line 3)) (0.3.3)\n",
            "Requirement already satisfied: keras-applications>=1.0.6 in /usr/local/lib/python3.6/dist-packages (from tensorflow==1.12->projekt-sat==1.0.0->-r requirements.txt (line 3)) (1.0.8)\n",
            "Requirement already satisfied: tensorboard<1.13.0,>=1.12.0 in /usr/local/lib/python3.6/dist-packages (from tensorflow==1.12->projekt-sat==1.0.0->-r requirements.txt (line 3)) (1.12.2)\n",
            "Requirement already satisfied: grpcio>=1.8.6 in /usr/local/lib/python3.6/dist-packages (from tensorflow==1.12->projekt-sat==1.0.0->-r requirements.txt (line 3)) (1.28.1)\n",
            "Requirement already satisfied: numpy>=1.13.3 in /usr/local/lib/python3.6/dist-packages (from tensorflow==1.12->projekt-sat==1.0.0->-r requirements.txt (line 3)) (1.18.3)\n",
            "Requirement already satisfied: protobuf>=3.6.1 in /usr/local/lib/python3.6/dist-packages (from tensorflow==1.12->projekt-sat==1.0.0->-r requirements.txt (line 3)) (3.10.0)\n",
            "Requirement already satisfied: six>=1.10.0 in /usr/local/lib/python3.6/dist-packages (from tensorflow==1.12->projekt-sat==1.0.0->-r requirements.txt (line 3)) (1.12.0)\n",
            "Requirement already satisfied: wheel>=0.26 in /usr/local/lib/python3.6/dist-packages (from tensorflow==1.12->projekt-sat==1.0.0->-r requirements.txt (line 3)) (0.34.2)\n",
            "Requirement already satisfied: keras-preprocessing>=1.0.5 in /usr/local/lib/python3.6/dist-packages (from tensorflow==1.12->projekt-sat==1.0.0->-r requirements.txt (line 3)) (1.1.0)\n",
            "Requirement already satisfied: astor>=0.6.0 in /usr/local/lib/python3.6/dist-packages (from tensorflow==1.12->projekt-sat==1.0.0->-r requirements.txt (line 3)) (0.8.1)\n",
            "Requirement already satisfied: mpmath>=0.19 in /usr/local/lib/python3.6/dist-packages (from sympy->projekt-sat==1.0.0->-r requirements.txt (line 3)) (1.1.0)\n",
            "Requirement already satisfied: scikit-learn in /usr/local/lib/python3.6/dist-packages (from sklearn->projekt-sat==1.0.0->-r requirements.txt (line 3)) (0.22.2.post1)\n",
            "Requirement already satisfied: pyparsing!=2.0.4,!=2.1.2,!=2.1.6,>=2.0.1 in /usr/local/lib/python3.6/dist-packages (from matplotlib->projekt-sat==1.0.0->-r requirements.txt (line 3)) (2.4.7)\n",
            "Requirement already satisfied: cycler>=0.10 in /usr/local/lib/python3.6/dist-packages (from matplotlib->projekt-sat==1.0.0->-r requirements.txt (line 3)) (0.10.0)\n",
            "Requirement already satisfied: python-dateutil>=2.1 in /usr/local/lib/python3.6/dist-packages (from matplotlib->projekt-sat==1.0.0->-r requirements.txt (line 3)) (2.8.1)\n",
            "Requirement already satisfied: kiwisolver>=1.0.1 in /usr/local/lib/python3.6/dist-packages (from matplotlib->projekt-sat==1.0.0->-r requirements.txt (line 3)) (1.2.0)\n",
            "Requirement already satisfied: pytz>=2017.2 in /usr/local/lib/python3.6/dist-packages (from pandas->projekt-sat==1.0.0->-r requirements.txt (line 3)) (2018.9)\n",
            "Requirement already satisfied: google-auth>=1.4.1 in /usr/local/lib/python3.6/dist-packages (from google-api-python-client->projekt-sat==1.0.0->-r requirements.txt (line 3)) (1.7.2)\n",
            "Requirement already satisfied: google-auth-httplib2>=0.0.3 in /usr/local/lib/python3.6/dist-packages (from google-api-python-client->projekt-sat==1.0.0->-r requirements.txt (line 3)) (0.0.3)\n",
            "Requirement already satisfied: httplib2<1dev,>=0.17.0 in /usr/local/lib/python3.6/dist-packages (from google-api-python-client->projekt-sat==1.0.0->-r requirements.txt (line 3)) (0.17.3)\n",
            "Requirement already satisfied: uritemplate<4dev,>=3.0.0 in /usr/local/lib/python3.6/dist-packages (from google-api-python-client->projekt-sat==1.0.0->-r requirements.txt (line 3)) (3.0.1)\n",
            "Requirement already satisfied: google-resumable-media<0.5.0dev,>=0.3.1 in /usr/local/lib/python3.6/dist-packages (from google-cloud-storage->projekt-sat==1.0.0->-r requirements.txt (line 3)) (0.4.1)\n",
            "Requirement already satisfied: google-cloud-core<2.0dev,>=1.0.0 in /usr/local/lib/python3.6/dist-packages (from google-cloud-storage->projekt-sat==1.0.0->-r requirements.txt (line 3)) (1.0.3)\n",
            "Requirement already satisfied: pyasn1-modules>=0.0.5 in /usr/local/lib/python3.6/dist-packages (from oauth2client->projekt-sat==1.0.0->-r requirements.txt (line 3)) (0.2.8)\n",
            "Requirement already satisfied: pyasn1>=0.1.7 in /usr/local/lib/python3.6/dist-packages (from oauth2client->projekt-sat==1.0.0->-r requirements.txt (line 3)) (0.4.8)\n",
            "Requirement already satisfied: rsa>=3.1.4 in /usr/local/lib/python3.6/dist-packages (from oauth2client->projekt-sat==1.0.0->-r requirements.txt (line 3)) (4.0)\n",
            "Requirement already satisfied: MarkupSafe>=0.23 in /usr/local/lib/python3.6/dist-packages (from jinja2>=2.10->jupyterlab->projekt-sat==1.0.0->-r requirements.txt (line 3)) (1.1.1)\n",
            "Requirement already satisfied: requests in /usr/local/lib/python3.6/dist-packages (from jupyterlab-server>=1.1.0->jupyterlab->projekt-sat==1.0.0->-r requirements.txt (line 3)) (2.21.0)\n",
            "Requirement already satisfied: jsonschema>=3.0.1 in /usr/local/lib/python3.6/dist-packages (from jupyterlab-server>=1.1.0->jupyterlab->projekt-sat==1.0.0->-r requirements.txt (line 3)) (3.2.0)\n",
            "Requirement already satisfied: json5 in /usr/local/lib/python3.6/dist-packages (from jupyterlab-server>=1.1.0->jupyterlab->projekt-sat==1.0.0->-r requirements.txt (line 3)) (0.9.4)\n",
            "Requirement already satisfied: ipython-genutils in /usr/local/lib/python3.6/dist-packages (from notebook>=4.3.1->jupyterlab->projekt-sat==1.0.0->-r requirements.txt (line 3)) (0.2.0)\n",
            "Requirement already satisfied: ipykernel in /usr/local/lib/python3.6/dist-packages (from notebook>=4.3.1->jupyterlab->projekt-sat==1.0.0->-r requirements.txt (line 3)) (4.10.1)\n",
            "Requirement already satisfied: terminado>=0.3.3; sys_platform != \"win32\" in /usr/local/lib/python3.6/dist-packages (from notebook>=4.3.1->jupyterlab->projekt-sat==1.0.0->-r requirements.txt (line 3)) (0.8.3)\n",
            "Requirement already satisfied: nbformat in /usr/local/lib/python3.6/dist-packages (from notebook>=4.3.1->jupyterlab->projekt-sat==1.0.0->-r requirements.txt (line 3)) (5.0.6)\n",
            "Requirement already satisfied: nbconvert in /usr/local/lib/python3.6/dist-packages (from notebook>=4.3.1->jupyterlab->projekt-sat==1.0.0->-r requirements.txt (line 3)) (5.6.1)\n",
            "Requirement already satisfied: jupyter-core in /usr/local/lib/python3.6/dist-packages (from notebook>=4.3.1->jupyterlab->projekt-sat==1.0.0->-r requirements.txt (line 3)) (4.6.3)\n",
            "Requirement already satisfied: jupyter-client in /usr/local/lib/python3.6/dist-packages (from notebook>=4.3.1->jupyterlab->projekt-sat==1.0.0->-r requirements.txt (line 3)) (5.3.4)\n",
            "Requirement already satisfied: traitlets>=4.2.1 in /usr/local/lib/python3.6/dist-packages (from notebook>=4.3.1->jupyterlab->projekt-sat==1.0.0->-r requirements.txt (line 3)) (4.3.3)\n",
            "Requirement already satisfied: h5py in /usr/local/lib/python3.6/dist-packages (from keras-applications>=1.0.6->tensorflow==1.12->projekt-sat==1.0.0->-r requirements.txt (line 3)) (2.10.0)\n",
            "Requirement already satisfied: markdown>=2.6.8 in /usr/local/lib/python3.6/dist-packages (from tensorboard<1.13.0,>=1.12.0->tensorflow==1.12->projekt-sat==1.0.0->-r requirements.txt (line 3)) (3.2.1)\n",
            "Requirement already satisfied: werkzeug>=0.11.10 in /usr/local/lib/python3.6/dist-packages (from tensorboard<1.13.0,>=1.12.0->tensorflow==1.12->projekt-sat==1.0.0->-r requirements.txt (line 3)) (1.0.1)\n",
            "Requirement already satisfied: setuptools in /usr/local/lib/python3.6/dist-packages (from protobuf>=3.6.1->tensorflow==1.12->projekt-sat==1.0.0->-r requirements.txt (line 3)) (46.1.3)\n",
            "Requirement already satisfied: joblib>=0.11 in /usr/local/lib/python3.6/dist-packages (from scikit-learn->sklearn->projekt-sat==1.0.0->-r requirements.txt (line 3)) (0.14.1)\n",
            "Requirement already satisfied: cachetools<3.2,>=2.0.0 in /usr/local/lib/python3.6/dist-packages (from google-auth>=1.4.1->google-api-python-client->projekt-sat==1.0.0->-r requirements.txt (line 3)) (3.1.1)\n",
            "Requirement already satisfied: google-api-core<2.0.0dev,>=1.14.0 in /usr/local/lib/python3.6/dist-packages (from google-cloud-core<2.0dev,>=1.0.0->google-cloud-storage->projekt-sat==1.0.0->-r requirements.txt (line 3)) (1.16.0)\n",
            "Requirement already satisfied: certifi>=2017.4.17 in /usr/local/lib/python3.6/dist-packages (from requests->jupyterlab-server>=1.1.0->jupyterlab->projekt-sat==1.0.0->-r requirements.txt (line 3)) (2020.4.5.1)\n",
            "Requirement already satisfied: urllib3<1.25,>=1.21.1 in /usr/local/lib/python3.6/dist-packages (from requests->jupyterlab-server>=1.1.0->jupyterlab->projekt-sat==1.0.0->-r requirements.txt (line 3)) (1.24.3)\n",
            "Requirement already satisfied: idna<2.9,>=2.5 in /usr/local/lib/python3.6/dist-packages (from requests->jupyterlab-server>=1.1.0->jupyterlab->projekt-sat==1.0.0->-r requirements.txt (line 3)) (2.8)\n",
            "Requirement already satisfied: chardet<3.1.0,>=3.0.2 in /usr/local/lib/python3.6/dist-packages (from requests->jupyterlab-server>=1.1.0->jupyterlab->projekt-sat==1.0.0->-r requirements.txt (line 3)) (3.0.4)\n",
            "Requirement already satisfied: attrs>=17.4.0 in /usr/local/lib/python3.6/dist-packages (from jsonschema>=3.0.1->jupyterlab-server>=1.1.0->jupyterlab->projekt-sat==1.0.0->-r requirements.txt (line 3)) (19.3.0)\n",
            "Requirement already satisfied: pyrsistent>=0.14.0 in /usr/local/lib/python3.6/dist-packages (from jsonschema>=3.0.1->jupyterlab-server>=1.1.0->jupyterlab->projekt-sat==1.0.0->-r requirements.txt (line 3)) (0.16.0)\n",
            "Requirement already satisfied: importlib-metadata; python_version < \"3.8\" in /usr/local/lib/python3.6/dist-packages (from jsonschema>=3.0.1->jupyterlab-server>=1.1.0->jupyterlab->projekt-sat==1.0.0->-r requirements.txt (line 3)) (1.6.0)\n",
            "Requirement already satisfied: ipython>=4.0.0 in /usr/local/lib/python3.6/dist-packages (from ipykernel->notebook>=4.3.1->jupyterlab->projekt-sat==1.0.0->-r requirements.txt (line 3)) (5.5.0)\n",
            "Requirement already satisfied: ptyprocess; os_name != \"nt\" in /usr/local/lib/python3.6/dist-packages (from terminado>=0.3.3; sys_platform != \"win32\"->notebook>=4.3.1->jupyterlab->projekt-sat==1.0.0->-r requirements.txt (line 3)) (0.6.0)\n",
            "Requirement already satisfied: testpath in /usr/local/lib/python3.6/dist-packages (from nbconvert->notebook>=4.3.1->jupyterlab->projekt-sat==1.0.0->-r requirements.txt (line 3)) (0.4.4)\n",
            "Requirement already satisfied: pandocfilters>=1.4.1 in /usr/local/lib/python3.6/dist-packages (from nbconvert->notebook>=4.3.1->jupyterlab->projekt-sat==1.0.0->-r requirements.txt (line 3)) (1.4.2)\n",
            "Requirement already satisfied: bleach in /usr/local/lib/python3.6/dist-packages (from nbconvert->notebook>=4.3.1->jupyterlab->projekt-sat==1.0.0->-r requirements.txt (line 3)) (3.1.4)\n",
            "Requirement already satisfied: entrypoints>=0.2.2 in /usr/local/lib/python3.6/dist-packages (from nbconvert->notebook>=4.3.1->jupyterlab->projekt-sat==1.0.0->-r requirements.txt (line 3)) (0.3)\n",
            "Requirement already satisfied: defusedxml in /usr/local/lib/python3.6/dist-packages (from nbconvert->notebook>=4.3.1->jupyterlab->projekt-sat==1.0.0->-r requirements.txt (line 3)) (0.6.0)\n",
            "Requirement already satisfied: mistune<2,>=0.8.1 in /usr/local/lib/python3.6/dist-packages (from nbconvert->notebook>=4.3.1->jupyterlab->projekt-sat==1.0.0->-r requirements.txt (line 3)) (0.8.4)\n",
            "Requirement already satisfied: pygments in /usr/local/lib/python3.6/dist-packages (from nbconvert->notebook>=4.3.1->jupyterlab->projekt-sat==1.0.0->-r requirements.txt (line 3)) (2.1.3)\n",
            "Requirement already satisfied: pyzmq>=13 in /usr/local/lib/python3.6/dist-packages (from jupyter-client->notebook>=4.3.1->jupyterlab->projekt-sat==1.0.0->-r requirements.txt (line 3)) (19.0.0)\n",
            "Requirement already satisfied: decorator in /usr/local/lib/python3.6/dist-packages (from traitlets>=4.2.1->notebook>=4.3.1->jupyterlab->projekt-sat==1.0.0->-r requirements.txt (line 3)) (4.4.2)\n",
            "Requirement already satisfied: googleapis-common-protos<2.0dev,>=1.6.0 in /usr/local/lib/python3.6/dist-packages (from google-api-core<2.0.0dev,>=1.14.0->google-cloud-core<2.0dev,>=1.0.0->google-cloud-storage->projekt-sat==1.0.0->-r requirements.txt (line 3)) (1.51.0)\n",
            "Requirement already satisfied: zipp>=0.5 in /usr/local/lib/python3.6/dist-packages (from importlib-metadata; python_version < \"3.8\"->jsonschema>=3.0.1->jupyterlab-server>=1.1.0->jupyterlab->projekt-sat==1.0.0->-r requirements.txt (line 3)) (3.1.0)\n",
            "Requirement already satisfied: pickleshare in /usr/local/lib/python3.6/dist-packages (from ipython>=4.0.0->ipykernel->notebook>=4.3.1->jupyterlab->projekt-sat==1.0.0->-r requirements.txt (line 3)) (0.7.5)\n",
            "Requirement already satisfied: prompt-toolkit<2.0.0,>=1.0.4 in /usr/local/lib/python3.6/dist-packages (from ipython>=4.0.0->ipykernel->notebook>=4.3.1->jupyterlab->projekt-sat==1.0.0->-r requirements.txt (line 3)) (1.0.18)\n",
            "Requirement already satisfied: simplegeneric>0.8 in /usr/local/lib/python3.6/dist-packages (from ipython>=4.0.0->ipykernel->notebook>=4.3.1->jupyterlab->projekt-sat==1.0.0->-r requirements.txt (line 3)) (0.8.1)\n",
            "Requirement already satisfied: pexpect; sys_platform != \"win32\" in /usr/local/lib/python3.6/dist-packages (from ipython>=4.0.0->ipykernel->notebook>=4.3.1->jupyterlab->projekt-sat==1.0.0->-r requirements.txt (line 3)) (4.8.0)\n",
            "Requirement already satisfied: webencodings in /usr/local/lib/python3.6/dist-packages (from bleach->nbconvert->notebook>=4.3.1->jupyterlab->projekt-sat==1.0.0->-r requirements.txt (line 3)) (0.5.1)\n",
            "Requirement already satisfied: wcwidth in /usr/local/lib/python3.6/dist-packages (from prompt-toolkit<2.0.0,>=1.0.4->ipython>=4.0.0->ipykernel->notebook>=4.3.1->jupyterlab->projekt-sat==1.0.0->-r requirements.txt (line 3)) (0.1.9)\n",
            "Building wheels for collected packages: projekt-sat\n",
            "  Building wheel for projekt-sat (setup.py) ... \u001b[?25l\u001b[?25hdone\n",
            "  Created wheel for projekt-sat: filename=projekt_sat-1.0.0-cp36-none-any.whl size=1185 sha256=ccaf05343187da24674aa61802748b413efdacea56fbdfdfa5b10bd8bffe3ef9\n",
            "  Stored in directory: /tmp/pip-ephem-wheel-cache-8l_8hghb/wheels/be/7f/db/6e8ebfa23a7134a0bf146cb48f6f2b433bf73645f9de997403\n",
            "Successfully built projekt-sat\n"
          ],
          "name": "stdout"
        }
      ]
    },
    {
      "cell_type": "code",
      "metadata": {
        "id": "hPwi0IvYTFKu",
        "colab_type": "code",
        "colab": {
          "base_uri": "https://localhost:8080/",
          "height": 124
        },
        "outputId": "e284a200-9bb6-4d71-a694-8d4ef41aa094"
      },
      "source": [
        "!git clone https://github.com/satproject/neuralheuristicsforsat.git"
      ],
      "execution_count": null,
      "outputs": [
        {
          "output_type": "stream",
          "text": [
            "Cloning into 'neuralheuristicsforsat'...\n",
            "remote: Enumerating objects: 48, done.\u001b[K\n",
            "remote: Counting objects:   2% (1/48)\u001b[K\rremote: Counting objects:   4% (2/48)\u001b[K\rremote: Counting objects:   6% (3/48)\u001b[K\rremote: Counting objects:   8% (4/48)\u001b[K\rremote: Counting objects:  10% (5/48)\u001b[K\rremote: Counting objects:  12% (6/48)\u001b[K\rremote: Counting objects:  14% (7/48)\u001b[K\rremote: Counting objects:  16% (8/48)\u001b[K\rremote: Counting objects:  18% (9/48)\u001b[K\rremote: Counting objects:  20% (10/48)\u001b[K\rremote: Counting objects:  22% (11/48)\u001b[K\rremote: Counting objects:  25% (12/48)\u001b[K\rremote: Counting objects:  27% (13/48)\u001b[K\rremote: Counting objects:  29% (14/48)\u001b[K\rremote: Counting objects:  31% (15/48)\u001b[K\rremote: Counting objects:  33% (16/48)\u001b[K\rremote: Counting objects:  35% (17/48)\u001b[K\rremote: Counting objects:  37% (18/48)\u001b[K\rremote: Counting objects:  39% (19/48)\u001b[K\rremote: Counting objects:  41% (20/48)\u001b[K\rremote: Counting objects:  43% (21/48)\u001b[K\rremote: Counting objects:  45% (22/48)\u001b[K\rremote: Counting objects:  47% (23/48)\u001b[K\rremote: Counting objects:  50% (24/48)\u001b[K\rremote: Counting objects:  52% (25/48)\u001b[K\rremote: Counting objects:  54% (26/48)\u001b[K\rremote: Counting objects:  56% (27/48)\u001b[K\rremote: Counting objects:  58% (28/48)\u001b[K\rremote: Counting objects:  60% (29/48)\u001b[K\rremote: Counting objects:  62% (30/48)\u001b[K\rremote: Counting objects:  64% (31/48)\u001b[K\rremote: Counting objects:  66% (32/48)\u001b[K\rremote: Counting objects:  68% (33/48)\u001b[K\rremote: Counting objects:  70% (34/48)\u001b[K\rremote: Counting objects:  72% (35/48)\u001b[K\rremote: Counting objects:  75% (36/48)\u001b[K\rremote: Counting objects:  77% (37/48)\u001b[K\rremote: Counting objects:  79% (38/48)\u001b[K\rremote: Counting objects:  81% (39/48)\u001b[K\rremote: Counting objects:  83% (40/48)\u001b[K\rremote: Counting objects:  85% (41/48)\u001b[K\rremote: Counting objects:  87% (42/48)\u001b[K\rremote: Counting objects:  89% (43/48)\u001b[K\rremote: Counting objects:  91% (44/48)\u001b[K\rremote: Counting objects:  93% (45/48)\u001b[K\rremote: Counting objects:  95% (46/48)\u001b[K\rremote: Counting objects:  97% (47/48)\u001b[K\rremote: Counting objects: 100% (48/48)\u001b[K\rremote: Counting objects: 100% (48/48), done.\u001b[K\n",
            "remote: Compressing objects:   2% (1/45)\u001b[K\rremote: Compressing objects:   4% (2/45)\u001b[K\rremote: Compressing objects:   6% (3/45)\u001b[K\rremote: Compressing objects:   8% (4/45)\u001b[K\rremote: Compressing objects:  11% (5/45)\u001b[K\rremote: Compressing objects:  13% (6/45)\u001b[K\rremote: Compressing objects:  15% (7/45)\u001b[K\rremote: Compressing objects:  17% (8/45)\u001b[K\rremote: Compressing objects:  20% (9/45)\u001b[K\rremote: Compressing objects:  22% (10/45)\u001b[K\rremote: Compressing objects:  24% (11/45)\u001b[K\rremote: Compressing objects:  26% (12/45)\u001b[K\rremote: Compressing objects:  28% (13/45)\u001b[K\rremote: Compressing objects:  31% (14/45)\u001b[K\rremote: Compressing objects:  33% (15/45)\u001b[K\rremote: Compressing objects:  35% (16/45)\u001b[K\rremote: Compressing objects:  37% (17/45)\u001b[K\rremote: Compressing objects:  40% (18/45)\u001b[K\rremote: Compressing objects:  42% (19/45)\u001b[K\rremote: Compressing objects:  44% (20/45)\u001b[K\rremote: Compressing objects:  46% (21/45)\u001b[K\rremote: Compressing objects:  48% (22/45)\u001b[K\rremote: Compressing objects:  51% (23/45)\u001b[K\rremote: Compressing objects:  53% (24/45)\u001b[K\rremote: Compressing objects:  55% (25/45)\u001b[K\rremote: Compressing objects:  57% (26/45)\u001b[K\rremote: Compressing objects:  60% (27/45)\u001b[K\rremote: Compressing objects:  62% (28/45)\u001b[K\rremote: Compressing objects:  64% (29/45)\u001b[K\rremote: Compressing objects:  66% (30/45)\u001b[K\rremote: Compressing objects:  68% (31/45)\u001b[K\rremote: Compressing objects:  71% (32/45)\u001b[K\rremote: Compressing objects:  73% (33/45)\u001b[K\rremote: Compressing objects:  75% (34/45)\u001b[K\rremote: Compressing objects:  77% (35/45)\u001b[K\rremote: Compressing objects:  80% (36/45)\u001b[K\rremote: Compressing objects:  82% (37/45)\u001b[K\rremote: Compressing objects:  84% (38/45)\u001b[K\rremote: Compressing objects:  86% (39/45)\u001b[K\rremote: Compressing objects:  88% (40/45)\u001b[K\rremote: Compressing objects:  91% (41/45)\u001b[K\rremote: Compressing objects:  93% (42/45)\u001b[K\rremote: Compressing objects:  95% (43/45)\u001b[K\rremote: Compressing objects:  97% (44/45)\u001b[K\rremote: Compressing objects: 100% (45/45)\u001b[K\rremote: Compressing objects: 100% (45/45), done.\u001b[K\n",
            "Unpacking objects:   1% (1/73)   \rUnpacking objects:   2% (2/73)   \rUnpacking objects:   4% (3/73)   \rUnpacking objects:   5% (4/73)   \rUnpacking objects:   6% (5/73)   \rUnpacking objects:   8% (6/73)   \rUnpacking objects:   9% (7/73)   \rUnpacking objects:  10% (8/73)   \rUnpacking objects:  12% (9/73)   \rUnpacking objects:  13% (10/73)   \rUnpacking objects:  15% (11/73)   \rUnpacking objects:  16% (12/73)   \rUnpacking objects:  17% (13/73)   \rUnpacking objects:  19% (14/73)   \rUnpacking objects:  20% (15/73)   \rUnpacking objects:  21% (16/73)   \rUnpacking objects:  23% (17/73)   \rUnpacking objects:  24% (18/73)   \rremote: Total 73 (delta 21), reused 6 (delta 1), pack-reused 25\u001b[K\n",
            "Unpacking objects:  26% (19/73)   \rUnpacking objects:  27% (20/73)   \rUnpacking objects:  28% (21/73)   \rUnpacking objects:  30% (22/73)   \rUnpacking objects:  31% (23/73)   \rUnpacking objects:  32% (24/73)   \rUnpacking objects:  34% (25/73)   \rUnpacking objects:  35% (26/73)   \rUnpacking objects:  36% (27/73)   \rUnpacking objects:  38% (28/73)   \rUnpacking objects:  39% (29/73)   \rUnpacking objects:  41% (30/73)   \rUnpacking objects:  42% (31/73)   \rUnpacking objects:  43% (32/73)   \rUnpacking objects:  45% (33/73)   \rUnpacking objects:  46% (34/73)   \rUnpacking objects:  47% (35/73)   \rUnpacking objects:  49% (36/73)   \rUnpacking objects:  50% (37/73)   \rUnpacking objects:  52% (38/73)   \rUnpacking objects:  53% (39/73)   \rUnpacking objects:  54% (40/73)   \rUnpacking objects:  56% (41/73)   \rUnpacking objects:  57% (42/73)   \rUnpacking objects:  58% (43/73)   \rUnpacking objects:  60% (44/73)   \rUnpacking objects:  61% (45/73)   \rUnpacking objects:  63% (46/73)   \rUnpacking objects:  64% (47/73)   \rUnpacking objects:  65% (48/73)   \rUnpacking objects:  67% (49/73)   \rUnpacking objects:  68% (50/73)   \rUnpacking objects:  69% (51/73)   \rUnpacking objects:  71% (52/73)   \rUnpacking objects:  72% (53/73)   \rUnpacking objects:  73% (54/73)   \rUnpacking objects:  75% (55/73)   \rUnpacking objects:  76% (56/73)   \rUnpacking objects:  78% (57/73)   \rUnpacking objects:  79% (58/73)   \rUnpacking objects:  80% (59/73)   \rUnpacking objects:  82% (60/73)   \rUnpacking objects:  83% (61/73)   \rUnpacking objects:  84% (62/73)   \rUnpacking objects:  86% (63/73)   \rUnpacking objects:  87% (64/73)   \rUnpacking objects:  89% (65/73)   \rUnpacking objects:  90% (66/73)   \rUnpacking objects:  91% (67/73)   \rUnpacking objects:  93% (68/73)   \rUnpacking objects:  94% (69/73)   \rUnpacking objects:  95% (70/73)   \rUnpacking objects:  97% (71/73)   \rUnpacking objects:  98% (72/73)   \rUnpacking objects: 100% (73/73)   \rUnpacking objects: 100% (73/73), done.\n"
          ],
          "name": "stdout"
        }
      ]
    },
    {
      "cell_type": "code",
      "metadata": {
        "id": "_w6F_mziTJix",
        "colab_type": "code",
        "colab": {}
      },
      "source": [
        "# Hyperparameter grid  [pump parametrization (linear, tanh, etc.), number of iterations (N), noise level (sigma), learning rate (dt), coupling (zeta), sample size (attempt_num)] \n",
        "from hyperopt import hp\n",
        "from hyperopt.pyll.stochastic import sample\n",
        "import numpy as np \n",
        "\n",
        "space = {\n",
        "    'N': hp.quniform('N', 300, 500, 10),\n",
        "    'sigma': hp.uniform('sigma', 0.0, 1.0),\n",
        "    'dt': hp.loguniform('dt', np.log(0.005), np.log(0.5)),\n",
        "    'zeta': hp.uniform('zeta', 0.0, 2.0),\n",
        "    'attempt_num': hp.quniform('attempt_num', 950, 1100, 5),\n",
        "    'alpha': hp.uniform('alpha', 0.1, 0.9),\n",
        "    'complexity': 500,\n",
        "    'seed': 2121,\n",
        "    'loss': None,\n",
        "    'observations': 200 #batch_size\n",
        "}\n",
        "\n",
        "# Subsampling (only applicable with 'goss')\n",
        "subsample_dist = list(np.linspace(0.5, 1, 100))"
      ],
      "execution_count": null,
      "outputs": []
    },
    {
      "cell_type": "code",
      "metadata": {
        "id": "-zM9dHuxTS4t",
        "colab_type": "code",
        "colab": {
          "base_uri": "https://localhost:8080/",
          "height": 269
        },
        "outputId": "01e0efb8-de38-46a4-e7af-f1046b9e2f63"
      },
      "source": [
        "from hyperopt import fmin, Trials, rand, tpe\n",
        "\n",
        "from tunning import objective\n",
        "import tunning\n",
        "\n",
        "from importlib import reload\n",
        "reload(tunning)\n",
        "\n",
        "\n",
        "tpe_trials = Trials()\n",
        "rand_trials = Trials()\n",
        "\n",
        "global  ITERATION\n",
        "\n",
        "ITERATION = 0\n",
        "\n",
        "# Create the algorithms\n",
        "tpe_algo = tpe.suggest\n",
        "rand_algo = rand.suggest\n",
        "\n",
        "rand_best = fmin(fn=objective, space=space, algo=tpe_algo, trials=rand_trials, \n",
        "                 max_evals=20)"
      ],
      "execution_count": null,
      "outputs": [
        {
          "output_type": "stream",
          "text": [
            "/usr/local/lib/python3.6/dist-packages/tensorflow/python/framework/dtypes.py:523: FutureWarning: Passing (type, 1) or '1type' as a synonym of type is deprecated; in a future version of numpy, it will be understood as (type, (1,)) / '(1,)type'.\n",
            "  _np_qint8 = np.dtype([(\"qint8\", np.int8, 1)])\n",
            "/usr/local/lib/python3.6/dist-packages/tensorflow/python/framework/dtypes.py:524: FutureWarning: Passing (type, 1) or '1type' as a synonym of type is deprecated; in a future version of numpy, it will be understood as (type, (1,)) / '(1,)type'.\n",
            "  _np_quint8 = np.dtype([(\"quint8\", np.uint8, 1)])\n",
            "/usr/local/lib/python3.6/dist-packages/tensorflow/python/framework/dtypes.py:525: FutureWarning: Passing (type, 1) or '1type' as a synonym of type is deprecated; in a future version of numpy, it will be understood as (type, (1,)) / '(1,)type'.\n",
            "  _np_qint16 = np.dtype([(\"qint16\", np.int16, 1)])\n",
            "/usr/local/lib/python3.6/dist-packages/tensorflow/python/framework/dtypes.py:526: FutureWarning: Passing (type, 1) or '1type' as a synonym of type is deprecated; in a future version of numpy, it will be understood as (type, (1,)) / '(1,)type'.\n",
            "  _np_quint16 = np.dtype([(\"quint16\", np.uint16, 1)])\n",
            "/usr/local/lib/python3.6/dist-packages/tensorflow/python/framework/dtypes.py:527: FutureWarning: Passing (type, 1) or '1type' as a synonym of type is deprecated; in a future version of numpy, it will be understood as (type, (1,)) / '(1,)type'.\n",
            "  _np_qint32 = np.dtype([(\"qint32\", np.int32, 1)])\n",
            "/usr/local/lib/python3.6/dist-packages/tensorflow/python/framework/dtypes.py:532: FutureWarning: Passing (type, 1) or '1type' as a synonym of type is deprecated; in a future version of numpy, it will be understood as (type, (1,)) / '(1,)type'.\n",
            "  np_resource = np.dtype([(\"resource\", np.ubyte, 1)])\n"
          ],
          "name": "stderr"
        },
        {
          "output_type": "stream",
          "text": [
            " 95%|█████████▌| 19/20 [8:44:51<31:17, 1877.45s/it, best loss: 0.245]  "
          ],
          "name": "stdout"
        }
      ]
    }
  ]
}
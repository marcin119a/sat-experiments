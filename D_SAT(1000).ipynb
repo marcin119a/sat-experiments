{
  "nbformat": 4,
  "nbformat_minor": 0,
  "metadata": {
    "colab": {
      "name": "D-SAT(1000).ipynb",
      "provenance": []
    },
    "kernelspec": {
      "name": "python3",
      "display_name": "Python 3"
    }
  },
  "cells": [
    {
      "cell_type": "code",
      "metadata": {
        "id": "qzqQ6DWg8pXJ",
        "colab_type": "code",
        "colab": {
          "base_uri": "https://localhost:8080/",
          "height": 142
        },
        "outputId": "33975055-8115-469f-ffaa-adb59e95fd7f"
      },
      "source": [
        "!git clone https://817f39297e940726a8648b171b073bc8bd73f2f0@github.com/marcin119a/sat-experiments.git\n",
        "%cd sat-experiments"
      ],
      "execution_count": null,
      "outputs": [
        {
          "output_type": "stream",
          "text": [
            "Cloning into 'sat-experiments'...\n",
            "remote: Enumerating objects: 73, done.\u001b[K\n",
            "remote: Counting objects: 100% (73/73), done.\u001b[K\n",
            "remote: Compressing objects: 100% (65/65), done.\u001b[K\n",
            "remote: Total 73 (delta 26), reused 28 (delta 5), pack-reused 0\u001b[K\n",
            "Unpacking objects: 100% (73/73), done.\n",
            "/content/sat-experiments\n"
          ],
          "name": "stdout"
        }
      ]
    },
    {
      "cell_type": "code",
      "metadata": {
        "id": "LvbkczlC8tMp",
        "colab_type": "code",
        "colab": {
          "base_uri": "https://localhost:8080/",
          "height": 1000
        },
        "outputId": "c1c58a40-0722-4004-fbda-524308829023"
      },
      "source": [
        "!pip install -r requirements.txt"
      ],
      "execution_count": null,
      "outputs": [
        {
          "output_type": "stream",
          "text": [
            "Collecting git+https://github.com/satproject/neuralheuristicsforsat (from -r requirements.txt (line 3))\n",
            "  Cloning https://github.com/satproject/neuralheuristicsforsat to /tmp/pip-req-build-bd_qg3fb\n",
            "  Running command git clone -q https://github.com/satproject/neuralheuristicsforsat /tmp/pip-req-build-bd_qg3fb\n",
            "Requirement already satisfied: torch in /usr/local/lib/python3.6/dist-packages (from -r requirements.txt (line 1)) (1.5.0+cu101)\n",
            "Requirement already satisfied: tqdm in /usr/local/lib/python3.6/dist-packages (from -r requirements.txt (line 2)) (4.38.0)\n",
            "Collecting jupyterlab\n",
            "\u001b[?25l  Downloading https://files.pythonhosted.org/packages/ec/30/03638fbb348e55af6375916962ddbfca786bd31cff9899b86162e2fc0cda/jupyterlab-2.1.2-py3-none-any.whl (7.8MB)\n",
            "\u001b[K     |████████████████████████████████| 7.8MB 2.7MB/s \n",
            "\u001b[?25hCollecting tensorflow==1.12\n",
            "\u001b[?25l  Downloading https://files.pythonhosted.org/packages/22/cc/ca70b78087015d21c5f3f93694107f34ebccb3be9624385a911d4b52ecef/tensorflow-1.12.0-cp36-cp36m-manylinux1_x86_64.whl (83.1MB)\n",
            "\u001b[K     |████████████████████████████████| 83.1MB 65kB/s \n",
            "\u001b[?25hRequirement already satisfied: sympy in /usr/local/lib/python3.6/dist-packages (from projekt-sat==1.0.0->-r requirements.txt (line 3)) (1.1.1)\n",
            "Requirement already satisfied: sklearn in /usr/local/lib/python3.6/dist-packages (from projekt-sat==1.0.0->-r requirements.txt (line 3)) (0.0)\n",
            "Requirement already satisfied: scipy in /usr/local/lib/python3.6/dist-packages (from projekt-sat==1.0.0->-r requirements.txt (line 3)) (1.4.1)\n",
            "Requirement already satisfied: matplotlib in /usr/local/lib/python3.6/dist-packages (from projekt-sat==1.0.0->-r requirements.txt (line 3)) (3.2.1)\n",
            "Requirement already satisfied: pandas in /usr/local/lib/python3.6/dist-packages (from projekt-sat==1.0.0->-r requirements.txt (line 3)) (1.0.3)\n",
            "Collecting python-sat\n",
            "\u001b[?25l  Downloading https://files.pythonhosted.org/packages/5c/0c/9f56b56bc44e33166ff13557ce70714f7d01417b5f9ccd0500eba7c9fef2/python-sat-0.1.5.dev13.tar.gz (259kB)\n",
            "\u001b[K     |████████████████████████████████| 266kB 49.1MB/s \n",
            "\u001b[?25hRequirement already satisfied: google-api-python-client in /usr/local/lib/python3.6/dist-packages (from projekt-sat==1.0.0->-r requirements.txt (line 3)) (1.7.12)\n",
            "Requirement already satisfied: google-cloud-storage in /usr/local/lib/python3.6/dist-packages (from projekt-sat==1.0.0->-r requirements.txt (line 3)) (1.18.1)\n",
            "Requirement already satisfied: oauth2client in /usr/local/lib/python3.6/dist-packages (from projekt-sat==1.0.0->-r requirements.txt (line 3)) (4.1.3)\n",
            "Requirement already satisfied: future in /usr/local/lib/python3.6/dist-packages (from torch->-r requirements.txt (line 1)) (0.16.0)\n",
            "Requirement already satisfied: numpy in /usr/local/lib/python3.6/dist-packages (from torch->-r requirements.txt (line 1)) (1.18.3)\n",
            "Requirement already satisfied: notebook>=4.3.1 in /usr/local/lib/python3.6/dist-packages (from jupyterlab->projekt-sat==1.0.0->-r requirements.txt (line 3)) (5.2.2)\n",
            "Requirement already satisfied: tornado!=6.0.0,!=6.0.1,!=6.0.2 in /usr/local/lib/python3.6/dist-packages (from jupyterlab->projekt-sat==1.0.0->-r requirements.txt (line 3)) (4.5.3)\n",
            "Requirement already satisfied: jinja2>=2.10 in /usr/local/lib/python3.6/dist-packages (from jupyterlab->projekt-sat==1.0.0->-r requirements.txt (line 3)) (2.11.2)\n",
            "Collecting jupyterlab-server<2.0,>=1.1.0\n",
            "  Downloading https://files.pythonhosted.org/packages/71/f3/84e120dc80180fcfc59167aa8ff96969253a2fca51738a87174b6fbfb3ab/jupyterlab_server-1.1.1-py3-none-any.whl\n",
            "Requirement already satisfied: keras-preprocessing>=1.0.5 in /usr/local/lib/python3.6/dist-packages (from tensorflow==1.12->projekt-sat==1.0.0->-r requirements.txt (line 3)) (1.1.0)\n",
            "Requirement already satisfied: six>=1.10.0 in /usr/local/lib/python3.6/dist-packages (from tensorflow==1.12->projekt-sat==1.0.0->-r requirements.txt (line 3)) (1.12.0)\n",
            "Requirement already satisfied: absl-py>=0.1.6 in /usr/local/lib/python3.6/dist-packages (from tensorflow==1.12->projekt-sat==1.0.0->-r requirements.txt (line 3)) (0.9.0)\n",
            "Requirement already satisfied: astor>=0.6.0 in /usr/local/lib/python3.6/dist-packages (from tensorflow==1.12->projekt-sat==1.0.0->-r requirements.txt (line 3)) (0.8.1)\n",
            "Requirement already satisfied: protobuf>=3.6.1 in /usr/local/lib/python3.6/dist-packages (from tensorflow==1.12->projekt-sat==1.0.0->-r requirements.txt (line 3)) (3.10.0)\n",
            "Requirement already satisfied: termcolor>=1.1.0 in /usr/local/lib/python3.6/dist-packages (from tensorflow==1.12->projekt-sat==1.0.0->-r requirements.txt (line 3)) (1.1.0)\n",
            "Requirement already satisfied: wheel>=0.26 in /usr/local/lib/python3.6/dist-packages (from tensorflow==1.12->projekt-sat==1.0.0->-r requirements.txt (line 3)) (0.34.2)\n",
            "Requirement already satisfied: gast>=0.2.0 in /usr/local/lib/python3.6/dist-packages (from tensorflow==1.12->projekt-sat==1.0.0->-r requirements.txt (line 3)) (0.3.3)\n",
            "Collecting tensorboard<1.13.0,>=1.12.0\n",
            "\u001b[?25l  Downloading https://files.pythonhosted.org/packages/07/53/8d32ce9471c18f8d99028b7cef2e5b39ea8765bd7ef250ca05b490880971/tensorboard-1.12.2-py3-none-any.whl (3.0MB)\n",
            "\u001b[K     |████████████████████████████████| 3.1MB 47.1MB/s \n",
            "\u001b[?25hRequirement already satisfied: grpcio>=1.8.6 in /usr/local/lib/python3.6/dist-packages (from tensorflow==1.12->projekt-sat==1.0.0->-r requirements.txt (line 3)) (1.28.1)\n",
            "Requirement already satisfied: keras-applications>=1.0.6 in /usr/local/lib/python3.6/dist-packages (from tensorflow==1.12->projekt-sat==1.0.0->-r requirements.txt (line 3)) (1.0.8)\n",
            "Requirement already satisfied: mpmath>=0.19 in /usr/local/lib/python3.6/dist-packages (from sympy->projekt-sat==1.0.0->-r requirements.txt (line 3)) (1.1.0)\n",
            "Requirement already satisfied: scikit-learn in /usr/local/lib/python3.6/dist-packages (from sklearn->projekt-sat==1.0.0->-r requirements.txt (line 3)) (0.22.2.post1)\n",
            "Requirement already satisfied: pyparsing!=2.0.4,!=2.1.2,!=2.1.6,>=2.0.1 in /usr/local/lib/python3.6/dist-packages (from matplotlib->projekt-sat==1.0.0->-r requirements.txt (line 3)) (2.4.7)\n",
            "Requirement already satisfied: cycler>=0.10 in /usr/local/lib/python3.6/dist-packages (from matplotlib->projekt-sat==1.0.0->-r requirements.txt (line 3)) (0.10.0)\n",
            "Requirement already satisfied: python-dateutil>=2.1 in /usr/local/lib/python3.6/dist-packages (from matplotlib->projekt-sat==1.0.0->-r requirements.txt (line 3)) (2.8.1)\n",
            "Requirement already satisfied: kiwisolver>=1.0.1 in /usr/local/lib/python3.6/dist-packages (from matplotlib->projekt-sat==1.0.0->-r requirements.txt (line 3)) (1.2.0)\n",
            "Requirement already satisfied: pytz>=2017.2 in /usr/local/lib/python3.6/dist-packages (from pandas->projekt-sat==1.0.0->-r requirements.txt (line 3)) (2018.9)\n",
            "Requirement already satisfied: uritemplate<4dev,>=3.0.0 in /usr/local/lib/python3.6/dist-packages (from google-api-python-client->projekt-sat==1.0.0->-r requirements.txt (line 3)) (3.0.1)\n",
            "Requirement already satisfied: google-auth-httplib2>=0.0.3 in /usr/local/lib/python3.6/dist-packages (from google-api-python-client->projekt-sat==1.0.0->-r requirements.txt (line 3)) (0.0.3)\n",
            "Requirement already satisfied: google-auth>=1.4.1 in /usr/local/lib/python3.6/dist-packages (from google-api-python-client->projekt-sat==1.0.0->-r requirements.txt (line 3)) (1.7.2)\n",
            "Requirement already satisfied: httplib2<1dev,>=0.17.0 in /usr/local/lib/python3.6/dist-packages (from google-api-python-client->projekt-sat==1.0.0->-r requirements.txt (line 3)) (0.17.3)\n",
            "Requirement already satisfied: google-resumable-media<0.5.0dev,>=0.3.1 in /usr/local/lib/python3.6/dist-packages (from google-cloud-storage->projekt-sat==1.0.0->-r requirements.txt (line 3)) (0.4.1)\n",
            "Requirement already satisfied: google-cloud-core<2.0dev,>=1.0.0 in /usr/local/lib/python3.6/dist-packages (from google-cloud-storage->projekt-sat==1.0.0->-r requirements.txt (line 3)) (1.0.3)\n",
            "Requirement already satisfied: pyasn1>=0.1.7 in /usr/local/lib/python3.6/dist-packages (from oauth2client->projekt-sat==1.0.0->-r requirements.txt (line 3)) (0.4.8)\n",
            "Requirement already satisfied: rsa>=3.1.4 in /usr/local/lib/python3.6/dist-packages (from oauth2client->projekt-sat==1.0.0->-r requirements.txt (line 3)) (4.0)\n",
            "Requirement already satisfied: pyasn1-modules>=0.0.5 in /usr/local/lib/python3.6/dist-packages (from oauth2client->projekt-sat==1.0.0->-r requirements.txt (line 3)) (0.2.8)\n",
            "Requirement already satisfied: traitlets>=4.2.1 in /usr/local/lib/python3.6/dist-packages (from notebook>=4.3.1->jupyterlab->projekt-sat==1.0.0->-r requirements.txt (line 3)) (4.3.3)\n",
            "Requirement already satisfied: ipython-genutils in /usr/local/lib/python3.6/dist-packages (from notebook>=4.3.1->jupyterlab->projekt-sat==1.0.0->-r requirements.txt (line 3)) (0.2.0)\n",
            "Requirement already satisfied: nbformat in /usr/local/lib/python3.6/dist-packages (from notebook>=4.3.1->jupyterlab->projekt-sat==1.0.0->-r requirements.txt (line 3)) (5.0.6)\n",
            "Requirement already satisfied: nbconvert in /usr/local/lib/python3.6/dist-packages (from notebook>=4.3.1->jupyterlab->projekt-sat==1.0.0->-r requirements.txt (line 3)) (5.6.1)\n",
            "Requirement already satisfied: jupyter-client in /usr/local/lib/python3.6/dist-packages (from notebook>=4.3.1->jupyterlab->projekt-sat==1.0.0->-r requirements.txt (line 3)) (5.3.4)\n",
            "Requirement already satisfied: ipykernel in /usr/local/lib/python3.6/dist-packages (from notebook>=4.3.1->jupyterlab->projekt-sat==1.0.0->-r requirements.txt (line 3)) (4.10.1)\n",
            "Requirement already satisfied: jupyter-core in /usr/local/lib/python3.6/dist-packages (from notebook>=4.3.1->jupyterlab->projekt-sat==1.0.0->-r requirements.txt (line 3)) (4.6.3)\n",
            "Requirement already satisfied: terminado>=0.3.3; sys_platform != \"win32\" in /usr/local/lib/python3.6/dist-packages (from notebook>=4.3.1->jupyterlab->projekt-sat==1.0.0->-r requirements.txt (line 3)) (0.8.3)\n",
            "Requirement already satisfied: MarkupSafe>=0.23 in /usr/local/lib/python3.6/dist-packages (from jinja2>=2.10->jupyterlab->projekt-sat==1.0.0->-r requirements.txt (line 3)) (1.1.1)\n",
            "Collecting jsonschema>=3.0.1\n",
            "\u001b[?25l  Downloading https://files.pythonhosted.org/packages/c5/8f/51e89ce52a085483359217bc72cdbf6e75ee595d5b1d4b5ade40c7e018b8/jsonschema-3.2.0-py2.py3-none-any.whl (56kB)\n",
            "\u001b[K     |████████████████████████████████| 61kB 7.4MB/s \n",
            "\u001b[?25hCollecting json5\n",
            "  Downloading https://files.pythonhosted.org/packages/e4/4b/c0b4c7e238a98165a0281d6ad52ee4a8401318580d2fc9d3844dda2ef5f7/json5-0.9.4-py2.py3-none-any.whl\n",
            "Requirement already satisfied: requests in /usr/local/lib/python3.6/dist-packages (from jupyterlab-server<2.0,>=1.1.0->jupyterlab->projekt-sat==1.0.0->-r requirements.txt (line 3)) (2.23.0)\n",
            "Requirement already satisfied: setuptools in /usr/local/lib/python3.6/dist-packages (from protobuf>=3.6.1->tensorflow==1.12->projekt-sat==1.0.0->-r requirements.txt (line 3)) (46.1.3)\n",
            "Requirement already satisfied: werkzeug>=0.11.10 in /usr/local/lib/python3.6/dist-packages (from tensorboard<1.13.0,>=1.12.0->tensorflow==1.12->projekt-sat==1.0.0->-r requirements.txt (line 3)) (1.0.1)\n",
            "Requirement already satisfied: markdown>=2.6.8 in /usr/local/lib/python3.6/dist-packages (from tensorboard<1.13.0,>=1.12.0->tensorflow==1.12->projekt-sat==1.0.0->-r requirements.txt (line 3)) (3.2.1)\n",
            "Requirement already satisfied: h5py in /usr/local/lib/python3.6/dist-packages (from keras-applications>=1.0.6->tensorflow==1.12->projekt-sat==1.0.0->-r requirements.txt (line 3)) (2.10.0)\n",
            "Requirement already satisfied: joblib>=0.11 in /usr/local/lib/python3.6/dist-packages (from scikit-learn->sklearn->projekt-sat==1.0.0->-r requirements.txt (line 3)) (0.14.1)\n",
            "Requirement already satisfied: cachetools<3.2,>=2.0.0 in /usr/local/lib/python3.6/dist-packages (from google-auth>=1.4.1->google-api-python-client->projekt-sat==1.0.0->-r requirements.txt (line 3)) (3.1.1)\n",
            "Requirement already satisfied: google-api-core<2.0.0dev,>=1.14.0 in /usr/local/lib/python3.6/dist-packages (from google-cloud-core<2.0dev,>=1.0.0->google-cloud-storage->projekt-sat==1.0.0->-r requirements.txt (line 3)) (1.16.0)\n",
            "Requirement already satisfied: decorator in /usr/local/lib/python3.6/dist-packages (from traitlets>=4.2.1->notebook>=4.3.1->jupyterlab->projekt-sat==1.0.0->-r requirements.txt (line 3)) (4.4.2)\n",
            "Requirement already satisfied: pygments in /usr/local/lib/python3.6/dist-packages (from nbconvert->notebook>=4.3.1->jupyterlab->projekt-sat==1.0.0->-r requirements.txt (line 3)) (2.1.3)\n",
            "Requirement already satisfied: defusedxml in /usr/local/lib/python3.6/dist-packages (from nbconvert->notebook>=4.3.1->jupyterlab->projekt-sat==1.0.0->-r requirements.txt (line 3)) (0.6.0)\n",
            "Requirement already satisfied: pandocfilters>=1.4.1 in /usr/local/lib/python3.6/dist-packages (from nbconvert->notebook>=4.3.1->jupyterlab->projekt-sat==1.0.0->-r requirements.txt (line 3)) (1.4.2)\n",
            "Requirement already satisfied: bleach in /usr/local/lib/python3.6/dist-packages (from nbconvert->notebook>=4.3.1->jupyterlab->projekt-sat==1.0.0->-r requirements.txt (line 3)) (3.1.4)\n",
            "Requirement already satisfied: testpath in /usr/local/lib/python3.6/dist-packages (from nbconvert->notebook>=4.3.1->jupyterlab->projekt-sat==1.0.0->-r requirements.txt (line 3)) (0.4.4)\n",
            "Requirement already satisfied: mistune<2,>=0.8.1 in /usr/local/lib/python3.6/dist-packages (from nbconvert->notebook>=4.3.1->jupyterlab->projekt-sat==1.0.0->-r requirements.txt (line 3)) (0.8.4)\n",
            "Requirement already satisfied: entrypoints>=0.2.2 in /usr/local/lib/python3.6/dist-packages (from nbconvert->notebook>=4.3.1->jupyterlab->projekt-sat==1.0.0->-r requirements.txt (line 3)) (0.3)\n",
            "Requirement already satisfied: pyzmq>=13 in /usr/local/lib/python3.6/dist-packages (from jupyter-client->notebook>=4.3.1->jupyterlab->projekt-sat==1.0.0->-r requirements.txt (line 3)) (19.0.0)\n",
            "Requirement already satisfied: ipython>=4.0.0 in /usr/local/lib/python3.6/dist-packages (from ipykernel->notebook>=4.3.1->jupyterlab->projekt-sat==1.0.0->-r requirements.txt (line 3)) (5.5.0)\n",
            "Requirement already satisfied: ptyprocess; os_name != \"nt\" in /usr/local/lib/python3.6/dist-packages (from terminado>=0.3.3; sys_platform != \"win32\"->notebook>=4.3.1->jupyterlab->projekt-sat==1.0.0->-r requirements.txt (line 3)) (0.6.0)\n",
            "Requirement already satisfied: importlib-metadata; python_version < \"3.8\" in /usr/local/lib/python3.6/dist-packages (from jsonschema>=3.0.1->jupyterlab-server<2.0,>=1.1.0->jupyterlab->projekt-sat==1.0.0->-r requirements.txt (line 3)) (1.6.0)\n",
            "Requirement already satisfied: attrs>=17.4.0 in /usr/local/lib/python3.6/dist-packages (from jsonschema>=3.0.1->jupyterlab-server<2.0,>=1.1.0->jupyterlab->projekt-sat==1.0.0->-r requirements.txt (line 3)) (19.3.0)\n",
            "Requirement already satisfied: pyrsistent>=0.14.0 in /usr/local/lib/python3.6/dist-packages (from jsonschema>=3.0.1->jupyterlab-server<2.0,>=1.1.0->jupyterlab->projekt-sat==1.0.0->-r requirements.txt (line 3)) (0.16.0)\n",
            "Requirement already satisfied: chardet<4,>=3.0.2 in /usr/local/lib/python3.6/dist-packages (from requests->jupyterlab-server<2.0,>=1.1.0->jupyterlab->projekt-sat==1.0.0->-r requirements.txt (line 3)) (3.0.4)\n",
            "Requirement already satisfied: urllib3!=1.25.0,!=1.25.1,<1.26,>=1.21.1 in /usr/local/lib/python3.6/dist-packages (from requests->jupyterlab-server<2.0,>=1.1.0->jupyterlab->projekt-sat==1.0.0->-r requirements.txt (line 3)) (1.24.3)\n",
            "Requirement already satisfied: certifi>=2017.4.17 in /usr/local/lib/python3.6/dist-packages (from requests->jupyterlab-server<2.0,>=1.1.0->jupyterlab->projekt-sat==1.0.0->-r requirements.txt (line 3)) (2020.4.5.1)\n",
            "Requirement already satisfied: idna<3,>=2.5 in /usr/local/lib/python3.6/dist-packages (from requests->jupyterlab-server<2.0,>=1.1.0->jupyterlab->projekt-sat==1.0.0->-r requirements.txt (line 3)) (2.9)\n",
            "Requirement already satisfied: googleapis-common-protos<2.0dev,>=1.6.0 in /usr/local/lib/python3.6/dist-packages (from google-api-core<2.0.0dev,>=1.14.0->google-cloud-core<2.0dev,>=1.0.0->google-cloud-storage->projekt-sat==1.0.0->-r requirements.txt (line 3)) (1.51.0)\n",
            "Requirement already satisfied: webencodings in /usr/local/lib/python3.6/dist-packages (from bleach->nbconvert->notebook>=4.3.1->jupyterlab->projekt-sat==1.0.0->-r requirements.txt (line 3)) (0.5.1)\n",
            "Requirement already satisfied: prompt-toolkit<2.0.0,>=1.0.4 in /usr/local/lib/python3.6/dist-packages (from ipython>=4.0.0->ipykernel->notebook>=4.3.1->jupyterlab->projekt-sat==1.0.0->-r requirements.txt (line 3)) (1.0.18)\n",
            "Requirement already satisfied: simplegeneric>0.8 in /usr/local/lib/python3.6/dist-packages (from ipython>=4.0.0->ipykernel->notebook>=4.3.1->jupyterlab->projekt-sat==1.0.0->-r requirements.txt (line 3)) (0.8.1)\n",
            "Requirement already satisfied: pexpect; sys_platform != \"win32\" in /usr/local/lib/python3.6/dist-packages (from ipython>=4.0.0->ipykernel->notebook>=4.3.1->jupyterlab->projekt-sat==1.0.0->-r requirements.txt (line 3)) (4.8.0)\n",
            "Requirement already satisfied: pickleshare in /usr/local/lib/python3.6/dist-packages (from ipython>=4.0.0->ipykernel->notebook>=4.3.1->jupyterlab->projekt-sat==1.0.0->-r requirements.txt (line 3)) (0.7.5)\n",
            "Requirement already satisfied: zipp>=0.5 in /usr/local/lib/python3.6/dist-packages (from importlib-metadata; python_version < \"3.8\"->jsonschema>=3.0.1->jupyterlab-server<2.0,>=1.1.0->jupyterlab->projekt-sat==1.0.0->-r requirements.txt (line 3)) (3.1.0)\n",
            "Requirement already satisfied: wcwidth in /usr/local/lib/python3.6/dist-packages (from prompt-toolkit<2.0.0,>=1.0.4->ipython>=4.0.0->ipykernel->notebook>=4.3.1->jupyterlab->projekt-sat==1.0.0->-r requirements.txt (line 3)) (0.1.9)\n",
            "Building wheels for collected packages: projekt-sat, python-sat\n",
            "  Building wheel for projekt-sat (setup.py) ... \u001b[?25l\u001b[?25hdone\n",
            "  Created wheel for projekt-sat: filename=projekt_sat-1.0.0-cp36-none-any.whl size=1185 sha256=2410cd8181bb3f4aa412b9a589d2998ec2b6ec575b4a296406c2644ef2709461\n",
            "  Stored in directory: /tmp/pip-ephem-wheel-cache-8cnx1rnc/wheels/be/7f/db/6e8ebfa23a7134a0bf146cb48f6f2b433bf73645f9de997403\n",
            "  Building wheel for python-sat (setup.py) ... \u001b[?25l\u001b[?25hdone\n",
            "  Created wheel for python-sat: filename=python_sat-0.1.5.dev13-cp36-cp36m-linux_x86_64.whl size=1308391 sha256=e168475bfcbf48b48757e219391284fe86f55bc177902b496c11a0e1ba95cd09\n",
            "  Stored in directory: /root/.cache/pip/wheels/0f/7c/74/fcd5271fb4bc28ea699756eec279c385f8143dcd05f828b2aa\n",
            "Successfully built projekt-sat python-sat\n",
            "Installing collected packages: jsonschema, json5, jupyterlab-server, jupyterlab, tensorboard, tensorflow, python-sat, projekt-sat\n",
            "  Found existing installation: jsonschema 2.6.0\n",
            "    Uninstalling jsonschema-2.6.0:\n",
            "      Successfully uninstalled jsonschema-2.6.0\n",
            "  Found existing installation: tensorboard 2.2.1\n",
            "    Uninstalling tensorboard-2.2.1:\n",
            "      Successfully uninstalled tensorboard-2.2.1\n",
            "  Found existing installation: tensorflow 2.2.0rc3\n",
            "    Uninstalling tensorflow-2.2.0rc3:\n",
            "      Successfully uninstalled tensorflow-2.2.0rc3\n",
            "Successfully installed json5-0.9.4 jsonschema-3.2.0 jupyterlab-2.1.2 jupyterlab-server-1.1.1 projekt-sat-1.0.0 python-sat-0.1.5.dev13 tensorboard-1.12.2 tensorflow-1.12.0\n"
          ],
          "name": "stdout"
        }
      ]
    },
    {
      "cell_type": "code",
      "metadata": {
        "id": "74uzNQ3Q87cF",
        "colab_type": "code",
        "colab": {
          "base_uri": "https://localhost:8080/",
          "height": 124
        },
        "outputId": "ecb54904-ce8c-4305-e70b-2eee5d515d4f"
      },
      "source": [
        "!git clone https://github.com/satproject/neuralheuristicsforsat.git"
      ],
      "execution_count": null,
      "outputs": [
        {
          "output_type": "stream",
          "text": [
            "Cloning into 'neuralheuristicsforsat'...\n",
            "remote: Enumerating objects: 48, done.\u001b[K\n",
            "remote: Counting objects: 100% (48/48), done.\u001b[K\n",
            "remote: Compressing objects: 100% (45/45), done.\u001b[K\n",
            "remote: Total 73 (delta 21), reused 6 (delta 1), pack-reused 25\u001b[K\n",
            "Unpacking objects: 100% (73/73), done.\n"
          ],
          "name": "stdout"
        }
      ]
    },
    {
      "cell_type": "code",
      "metadata": {
        "id": "7JH5mvQ49Bir",
        "colab_type": "code",
        "colab": {}
      },
      "source": [
        "# Hyperparameter grid  [pump parametrization (linear, tanh, etc.), number of iterations (N), noise level (sigma), learning rate (dt), coupling (zeta), sample size (attempt_num)] \n",
        "from hyperopt import hp\n",
        "from hyperopt.pyll.stochastic import sample\n",
        "import numpy as np \n",
        "\n",
        "space = {\n",
        "    'N': hp.quniform('N', 300, 500, 10),\n",
        "    'sigma': hp.uniform('sigma', 0.0, 1.0),\n",
        "    'dt': hp.loguniform('dt', np.log(0.005), np.log(0.5)),\n",
        "    'zeta': hp.uniform('zeta', 0.0, 2.0),\n",
        "    'attempt_num': hp.quniform('attempt_num', 950, 1100, 5),\n",
        "    'alpha': hp.uniform('alpha', 0.1, 0.9),\n",
        "    'complexity': 50,\n",
        "    'seed': 1000,\n",
        "    'loss': None,\n",
        "    'observations': 100 #batch_size\n",
        "}\n",
        "\n",
        "# Subsampling (only applicable with 'goss')\n",
        "subsample_dist = list(np.linspace(0.5, 1, 100))"
      ],
      "execution_count": null,
      "outputs": []
    },
    {
      "cell_type": "code",
      "metadata": {
        "id": "05UnnO4X9Ly5",
        "colab_type": "code",
        "colab": {
          "base_uri": "https://localhost:8080/",
          "height": 269
        },
        "outputId": "a1003dc7-5a8d-450b-f340-4a0166c41f94"
      },
      "source": [
        "from hyperopt import fmin, Trials, rand, tpe\n",
        "\n",
        "from tunning import objective\n",
        "import tunning\n",
        "\n",
        "from importlib import reload\n",
        "reload(tunning)\n",
        "\n",
        "\n",
        "tpe_trials = Trials()\n",
        "rand_trials = Trials()\n",
        "\n",
        "global  ITERATION\n",
        "\n",
        "ITERATION = 0\n",
        "\n",
        "# Create the algorithms\n",
        "tpe_algo = tpe.suggest\n",
        "rand_algo = rand.suggest\n",
        "\n",
        "rand_best = fmin(fn=objective, space=space, algo=tpe_algo, trials=rand_trials, \n",
        "                 max_evals=20)"
      ],
      "execution_count": null,
      "outputs": [
        {
          "output_type": "stream",
          "text": [
            "/usr/local/lib/python3.6/dist-packages/tensorflow/python/framework/dtypes.py:523: FutureWarning: Passing (type, 1) or '1type' as a synonym of type is deprecated; in a future version of numpy, it will be understood as (type, (1,)) / '(1,)type'.\n",
            "  _np_qint8 = np.dtype([(\"qint8\", np.int8, 1)])\n",
            "/usr/local/lib/python3.6/dist-packages/tensorflow/python/framework/dtypes.py:524: FutureWarning: Passing (type, 1) or '1type' as a synonym of type is deprecated; in a future version of numpy, it will be understood as (type, (1,)) / '(1,)type'.\n",
            "  _np_quint8 = np.dtype([(\"quint8\", np.uint8, 1)])\n",
            "/usr/local/lib/python3.6/dist-packages/tensorflow/python/framework/dtypes.py:525: FutureWarning: Passing (type, 1) or '1type' as a synonym of type is deprecated; in a future version of numpy, it will be understood as (type, (1,)) / '(1,)type'.\n",
            "  _np_qint16 = np.dtype([(\"qint16\", np.int16, 1)])\n",
            "/usr/local/lib/python3.6/dist-packages/tensorflow/python/framework/dtypes.py:526: FutureWarning: Passing (type, 1) or '1type' as a synonym of type is deprecated; in a future version of numpy, it will be understood as (type, (1,)) / '(1,)type'.\n",
            "  _np_quint16 = np.dtype([(\"quint16\", np.uint16, 1)])\n",
            "/usr/local/lib/python3.6/dist-packages/tensorflow/python/framework/dtypes.py:527: FutureWarning: Passing (type, 1) or '1type' as a synonym of type is deprecated; in a future version of numpy, it will be understood as (type, (1,)) / '(1,)type'.\n",
            "  _np_qint32 = np.dtype([(\"qint32\", np.int32, 1)])\n",
            "/usr/local/lib/python3.6/dist-packages/tensorflow/python/framework/dtypes.py:532: FutureWarning: Passing (type, 1) or '1type' as a synonym of type is deprecated; in a future version of numpy, it will be understood as (type, (1,)) / '(1,)type'.\n",
            "  np_resource = np.dtype([(\"resource\", np.ubyte, 1)])\n"
          ],
          "name": "stderr"
        },
        {
          "output_type": "stream",
          "text": [
            "100%|██████████| 20/20 [07:38<00:00, 22.90s/it, best loss: 0.07]\n"
          ],
          "name": "stdout"
        }
      ]
    },
    {
      "cell_type": "code",
      "metadata": {
        "id": "JGoLfosFIlUP",
        "colab_type": "code",
        "colab": {
          "base_uri": "https://localhost:8080/",
          "height": 303
        },
        "outputId": "9bcd8724-2185-4894-ba68-4a5eb821c289"
      },
      "source": [
        "!git status"
      ],
      "execution_count": null,
      "outputs": [
        {
          "output_type": "stream",
          "text": [
            "On branch master\n",
            "Your branch is up to date with 'origin/master'.\n",
            "\n",
            "Changes not staged for commit:\n",
            "  (use \"git add/rm <file>...\" to update what will be committed)\n",
            "  (use \"git checkout -- <file>...\" to discard changes in working directory)\n",
            "\n",
            "\t\u001b[31mdeleted:    sr_50/logs_gbm_trials__1000.csv\u001b[m\n",
            "\n",
            "Untracked files:\n",
            "  (use \"git add <file>...\" to include in what will be committed)\n",
            "\n",
            "\t\u001b[31mneuralheuristicsforsat/\u001b[m\n",
            "\t\u001b[31msr_50/train_1000_sr_50.tfrecord\u001b[m\n",
            "\n",
            "no changes added to commit (use \"git add\" and/or \"git commit -a\")\n"
          ],
          "name": "stdout"
        }
      ]
    },
    {
      "cell_type": "code",
      "metadata": {
        "id": "97M-nsOGInW7",
        "colab_type": "code",
        "colab": {}
      },
      "source": [
        ""
      ],
      "execution_count": null,
      "outputs": []
    }
  ]
}